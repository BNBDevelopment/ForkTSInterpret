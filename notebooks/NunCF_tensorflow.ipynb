{
 "cells": [
  {
   "cell_type": "code",
   "execution_count": 1,
   "source": [
    "from TSInterpret.data import load_data\n",
    "import sklearn\n",
    "import pickle\n",
    "import numpy as np \n",
    "import torch \n",
    "from ClassificationModels.CNN_T import ResNetBaseline, get_all_preds, fit, UCRDataset\n",
    "import matplotlib.pyplot as plt\n",
    "import seaborn as sns\n",
    "from sklearn.metrics import confusion_matrix, accuracy_score, classification_report\n",
    "import pandas as pd\n",
    "import os \n",
    "from ClassificationModels.ResNet import Classifier_RESNET\n",
    "from ClassificationModels.CNN import Classifier_CNN"
   ],
   "outputs": [],
   "metadata": {}
  },
  {
   "cell_type": "markdown",
   "source": [
    "# Parameters"
   ],
   "metadata": {}
  },
  {
   "cell_type": "code",
   "execution_count": 2,
   "source": [
    "dataset='ElectricDevices'"
   ],
   "outputs": [],
   "metadata": {}
  },
  {
   "cell_type": "markdown",
   "source": [
    "# Load Data"
   ],
   "metadata": {}
  },
  {
   "cell_type": "code",
   "execution_count": 3,
   "source": [
    "train_x,test_x, train_y, test_y = load_data.load_basic_dataset(dataset,scaling=None,mode='time',cwd='/media/jacqueline/Data/UCRArchive_2018/')"
   ],
   "outputs": [],
   "metadata": {}
  },
  {
   "cell_type": "code",
   "execution_count": 4,
   "source": [
    "print(train_x.shape)\n",
    "print(test_x.shape)"
   ],
   "outputs": [
    {
     "output_type": "stream",
     "name": "stdout",
     "text": [
      "(8926, 96, 1)\n",
      "(7711, 96, 1)\n"
     ]
    }
   ],
   "metadata": {}
  },
  {
   "cell_type": "code",
   "execution_count": 5,
   "source": [
    "enc1=sklearn.preprocessing.OneHotEncoder(sparse=False).fit(np.vstack((train_y.reshape(-1,1),test_y.reshape(-1,1))))\n",
    "pickle.dump(enc1,open(f'../ClassificationModels/models/{dataset}/OneHotEncoder.pkl','wb'))\n",
    "\n",
    "train_y=enc1.transform(train_y.reshape(-1,1))\n",
    "test_y=enc1.transform(test_y.reshape(-1,1))\n",
    "    "
   ],
   "outputs": [],
   "metadata": {}
  },
  {
   "cell_type": "code",
   "execution_count": 6,
   "source": [
    "train_x.shape"
   ],
   "outputs": [
    {
     "output_type": "execute_result",
     "data": {
      "text/plain": [
       "(8926, 96, 1)"
      ]
     },
     "metadata": {},
     "execution_count": 6
    }
   ],
   "metadata": {}
  },
  {
   "cell_type": "code",
   "execution_count": 7,
   "source": [
    "train_y.shape"
   ],
   "outputs": [
    {
     "output_type": "execute_result",
     "data": {
      "text/plain": [
       "(8926, 7)"
      ]
     },
     "metadata": {},
     "execution_count": 7
    }
   ],
   "metadata": {}
  },
  {
   "cell_type": "markdown",
   "source": [
    "# Load Model"
   ],
   "metadata": {}
  },
  {
   "cell_type": "code",
   "execution_count": 8,
   "source": [
    "\n",
    "import tensorflow as tf \n",
    "model = tf.keras.models.load_model(f'../ClassificationModels/models/{dataset}/cnn/best_model.hdf5')"
   ],
   "outputs": [],
   "metadata": {}
  },
  {
   "cell_type": "markdown",
   "source": [
    "# Explanation Algo"
   ],
   "metadata": {}
  },
  {
   "cell_type": "code",
   "execution_count": 9,
   "source": [
    "item=test_x[10].reshape(1,-1,1)\n",
    "shape=item.shape\n",
    "y_target= model.predict(item)"
   ],
   "outputs": [],
   "metadata": {}
  },
  {
   "cell_type": "code",
   "execution_count": 10,
   "source": [
    "print(y_target)"
   ],
   "outputs": [
    {
     "output_type": "stream",
     "name": "stdout",
     "text": [
      "[[6.5272261e-06 1.0917005e-18 2.0262956e-11 1.5986666e-07 8.7627769e-03\n",
      "  1.0000000e+00 1.8584505e-08]]\n"
     ]
    }
   ],
   "metadata": {}
  },
  {
   "cell_type": "code",
   "execution_count": 11,
   "source": [
    "from TSInterpret.InterpretabilityModels.counterfactual.NativeGuideCF import NativeGuideCF\n",
    "exp_model=NativeGuideCF(model,shape,(train_x,train_y), backend='TF', mode = 'time')"
   ],
   "outputs": [],
   "metadata": {}
  },
  {
   "cell_type": "code",
   "execution_count": 12,
   "source": [
    "exp,label=exp_model.explain(item, np.argmax(y_target,axis=1),method='native_guide')"
   ],
   "outputs": [
    {
     "output_type": "stream",
     "name": "stdout",
     "text": [
      "(1, 1, 96)\n",
      "[5]\n",
      "Native Guide [[8.7053686e-02 3.6220684e-21 2.5619918e-01 7.8523350e-01 5.6310892e-03\n",
      "  6.5118074e-03 6.1133142e-05]]\n",
      "average_pooling1d_1\n",
      "Starting Points 53\n",
      "Subarray Length 1\n",
      "Prob_target [1.]\n",
      "starting 53\n",
      "2\n",
      "False\n",
      "Prob_target [1.]\n",
      "starting 14\n",
      "3\n",
      "False\n",
      "Prob_target [0.9954921]\n",
      "starting 14\n",
      "4\n",
      "False\n",
      "Prob_target [0.96675336]\n",
      "starting 14\n",
      "5\n",
      "False\n",
      "Prob_target [0.9744022]\n",
      "starting 14\n",
      "6\n",
      "False\n",
      "Prob_target [0.9781667]\n",
      "starting 14\n",
      "7\n",
      "False\n",
      "Prob_target [0.97167987]\n",
      "starting 14\n",
      "8\n",
      "False\n",
      "Prob_target [0.96763515]\n",
      "starting 14\n",
      "9\n",
      "False\n",
      "Prob_target [0.94605243]\n",
      "starting 11\n",
      "10\n",
      "False\n",
      "Prob_target [0.8938439]\n",
      "starting 0\n",
      "11\n",
      "False\n",
      "Prob_target [1.]\n",
      "starting 0\n",
      "12\n",
      "False\n",
      "Prob_target [0.9999999]\n",
      "starting 0\n",
      "13\n",
      "False\n",
      "Prob_target [0.9999994]\n",
      "starting 0\n",
      "14\n",
      "False\n",
      "Prob_target [0.99999523]\n",
      "starting 0\n",
      "15\n",
      "False\n",
      "Prob_target [0.99977446]\n",
      "starting 0\n",
      "16\n",
      "False\n",
      "Prob_target [0.9997946]\n",
      "starting 0\n",
      "17\n",
      "False\n",
      "Prob_target [0.999804]\n",
      "starting 0\n",
      "18\n",
      "False\n",
      "Prob_target [0.9984399]\n",
      "starting 0\n",
      "19\n",
      "False\n",
      "Prob_target [0.9891257]\n",
      "starting 0\n",
      "20\n",
      "False\n",
      "Prob_target [0.9771756]\n",
      "starting 0\n",
      "21\n",
      "False\n",
      "Prob_target [0.99150604]\n",
      "starting 0\n",
      "22\n",
      "False\n",
      "Prob_target [0.99175787]\n",
      "starting 0\n",
      "23\n",
      "False\n",
      "Prob_target [0.99092716]\n",
      "starting 0\n",
      "24\n",
      "False\n",
      "Prob_target [0.990492]\n",
      "starting 0\n",
      "25\n",
      "False\n",
      "Prob_target [0.9903299]\n",
      "starting 0\n",
      "26\n",
      "False\n",
      "Prob_target [0.98746717]\n",
      "starting 0\n",
      "27\n",
      "False\n",
      "Prob_target [0.9843496]\n",
      "starting 0\n",
      "28\n",
      "False\n",
      "Prob_target [0.9798193]\n",
      "starting 0\n",
      "29\n",
      "False\n",
      "Prob_target [0.9775355]\n",
      "starting 0\n",
      "30\n",
      "False\n",
      "Prob_target [0.976164]\n",
      "starting 0\n",
      "31\n",
      "False\n",
      "Prob_target [0.9731935]\n",
      "starting 0\n",
      "32\n",
      "False\n",
      "Prob_target [0.9649962]\n",
      "starting 0\n",
      "33\n",
      "False\n",
      "Prob_target [0.96074724]\n",
      "starting 0\n",
      "34\n",
      "False\n",
      "Prob_target [0.9640177]\n",
      "starting 0\n",
      "35\n",
      "False\n",
      "Prob_target [0.9639212]\n",
      "starting 0\n",
      "36\n",
      "False\n",
      "Prob_target [0.97181046]\n",
      "starting 0\n",
      "37\n",
      "False\n",
      "Prob_target [0.98178744]\n",
      "starting 0\n",
      "38\n",
      "False\n",
      "Prob_target [0.98613286]\n",
      "starting 0\n",
      "39\n",
      "False\n",
      "Prob_target [0.989465]\n",
      "starting 14\n",
      "40\n",
      "False\n",
      "Prob_target [0.0372428]\n"
     ]
    }
   ],
   "metadata": {}
  },
  {
   "cell_type": "code",
   "execution_count": 13,
   "source": [
    "label"
   ],
   "outputs": [
    {
     "output_type": "execute_result",
     "data": {
      "text/plain": [
       "3"
      ]
     },
     "metadata": {},
     "execution_count": 13
    }
   ],
   "metadata": {}
  },
  {
   "cell_type": "code",
   "execution_count": 14,
   "source": [
    "print(exp)"
   ],
   "outputs": [
    {
     "output_type": "stream",
     "name": "stdout",
     "text": [
      "[[-0.24948841 -0.24948841 -0.24948841 -0.24948841 -0.24948841 -0.24948841\n",
      "  -0.24948841 -0.24948841 -0.24948841 -0.24948841 -0.24948841  0.66096839\n",
      "   5.8153287   1.2483599  -0.13949752 -0.13949752 -0.13949752 -0.13949752\n",
      "  -0.13949752 -0.13949752 -0.13949752 -0.13949752 -0.13949752 -0.13949752\n",
      "  -0.13949752 -0.13949752 -0.13949752 -0.13949752 -0.13949752 -0.13949752\n",
      "  -0.13949752 -0.13949752 -0.13949752 -0.13949752 -0.13949752 -0.13949752\n",
      "  -0.13949752 -0.13949752 -0.13949752 -0.13949752 -0.13949752 -0.13949752\n",
      "  -0.13949752 -0.13949752 -0.13949752 -0.13949752 -0.13949752 -0.13949752\n",
      "  -0.13949752 -0.13949752 -0.13949752 -0.13949752  8.45354939  4.65921688\n",
      "  -0.05858618  0.02952254  0.23510956 -0.24948841 -0.24948841 -0.24948841\n",
      "  -0.24948841 -0.24948841 -0.24948841 -0.24948841 -0.24948841 -0.24948841\n",
      "  -0.24948841 -0.24948841 -0.24948841 -0.24948841 -0.24948841 -0.24948841\n",
      "  -0.24948841 -0.24948841 -0.24948841 -0.24948841 -0.24948841 -0.24948841\n",
      "  -0.24948841 -0.24948841 -0.24948841 -0.24948841 -0.24948841 -0.24948841\n",
      "  -0.24948841 -0.24948841 -0.24948841 -0.24948841 -0.24948841 -0.24948841\n",
      "  -0.24948841 -0.24948841 -0.24948841 -0.24948841 -0.24948841 -0.24948841]]\n"
     ]
    }
   ],
   "metadata": {}
  },
  {
   "cell_type": "code",
   "execution_count": 15,
   "source": [
    "plt.style.use(\"classic\")\n",
    "colors = [\n",
    "            '#08F7FE',  # teal/cyan\n",
    "            '#FE53BB',  # pink\n",
    "            '#F5D300',  # yellow\n",
    "            '#00ff41',  # matrix green\n",
    "        ]\n",
    "indices= np.where(exp[0] != item)\n",
    "df = pd.DataFrame({f'Predicted: ': list(item.flatten()),\n",
    "                   f'Counterfactual: ': list(exp.flatten())})\n",
    "fig, ax = plt.subplots(figsize=(10,5))\n",
    "df.plot(marker='.', color=colors, ax=ax)\n",
    "        # Redraw the data with low alpha and slighty increased linewidth:\n",
    "n_shades = 10\n",
    "diff_linewidth = 1.05\n",
    "alpha_value = 0.3 / n_shades\n",
    "for n in range(1, n_shades+1):\n",
    "    df.plot(marker='.',\n",
    "            linewidth=2+(diff_linewidth*n),\n",
    "            alpha=alpha_value,\n",
    "            legend=False,\n",
    "            ax=ax,\n",
    "            color=colors)\n",
    "\n",
    "ax.grid(color='#2A3459')\n",
    "plt.xlabel('Time', fontweight = 'bold', fontsize='large')\n",
    "plt.ylabel('Value', fontweight = 'bold', fontsize='large')\n",
    "#plt.savefig('../Images/Initial_Example_Neon.pdf')\n",
    "plt.show()"
   ],
   "outputs": [],
   "metadata": {}
  },
  {
   "cell_type": "markdown",
   "source": [
    "# Plot Item "
   ],
   "metadata": {}
  },
  {
   "cell_type": "code",
   "execution_count": 16,
   "source": [
    "%matplotlib inline\n",
    "exp_model.plot(item.reshape(-1),np.argmax(y_target,axis=1)[0],exp.reshape(-1),label)"
   ],
   "outputs": [
    {
     "output_type": "display_data",
     "data": {
      "image/png": "[encoded data removed]",
      "text/plain": [
       "<Figure size 640x480 with 4 Axes>"
      ]
     },
     "metadata": {}
    }
   ],
   "metadata": {}
  },
  {
   "cell_type": "code",
   "execution_count": 17,
   "source": [
    "%matplotlib inline\n",
    "exp_model.plot_in_one(item,np.argmax(y_target,axis=1)[0],exp,label)"
   ],
   "outputs": [
    {
     "output_type": "display_data",
     "data": {
      "image/png": "[encoded data removed]",
      "text/plain": [
       "<Figure size 800x400 with 1 Axes>"
      ]
     },
     "metadata": {}
    }
   ],
   "metadata": {}
  }
 ],
 "metadata": {
  "orig_nbformat": 4,
  "language_info": {
   "name": "python",
   "version": "3.7.5",
   "mimetype": "text/x-python",
   "codemirror_mode": {
    "name": "ipython",
    "version": 3
   },
   "pygments_lexer": "ipython3",
   "nbconvert_exporter": "python",
   "file_extension": ".py"
  },
  "kernelspec": {
   "name": "python3",
   "display_name": "Python 3.7.5 64-bit ('TSInterpret-NXJYnQDU': pipenv)"
  },
  "interpreter": {
   "hash": "16db99a3fba429d86cb96b96f3cee6d3141a37b91b1d019974802969710b6701"
  }
 },
 "nbformat": 4,
 "nbformat_minor": 2
}