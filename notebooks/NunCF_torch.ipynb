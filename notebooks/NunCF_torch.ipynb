{
 "cells": [
  {
   "cell_type": "code",
   "execution_count": 1,
   "source": [
    "from TSInterpret.data import load_data\n",
    "import sklearn\n",
    "import pickle\n",
    "import numpy as np \n",
    "import torch \n",
    "from ClassificationModels.CNN_T import ResNetBaseline, get_all_preds, fit, UCRDataset\n",
    "import matplotlib.pyplot as plt\n",
    "import seaborn as sns\n",
    "from sklearn.metrics import confusion_matrix, accuracy_score, classification_report\n",
    "import pandas as pd\n",
    "import os "
   ],
   "outputs": [],
   "metadata": {}
  },
  {
   "cell_type": "markdown",
   "source": [
    "# Parameters"
   ],
   "metadata": {}
  },
  {
   "cell_type": "code",
   "execution_count": 2,
   "source": [
    "dataset='ElectricDevices'"
   ],
   "outputs": [],
   "metadata": {}
  },
  {
   "cell_type": "markdown",
   "source": [
    "# Load Data"
   ],
   "metadata": {}
  },
  {
   "cell_type": "code",
   "execution_count": 3,
   "source": [
    "#TODO include OneHot Encoding Options\n",
    "train_x,test_x, train_y, test_y = load_data.load_basic_dataset(dataset,scaling=None,mode='feat',cwd='/media/jacqueline/Data/UCRArchive_2018/')"
   ],
   "outputs": [],
   "metadata": {}
  },
  {
   "cell_type": "code",
   "execution_count": 4,
   "source": [
    "print(test_y.shape)"
   ],
   "outputs": [
    {
     "output_type": "stream",
     "name": "stdout",
     "text": [
      "(7711,)\n"
     ]
    }
   ],
   "metadata": {}
  },
  {
   "cell_type": "code",
   "execution_count": 5,
   "source": [
    "enc1=sklearn.preprocessing.OneHotEncoder(sparse=False).fit(np.vstack((train_y.reshape(-1,1),test_y.reshape(-1,1))))\n",
    "pickle.dump(enc1,open(f'../ClassificationModels/models/{dataset}/OneHotEncoder.pkl','wb'))\n",
    "\n",
    "train_y=enc1.transform(train_y.reshape(-1,1))\n",
    "test_y=enc1.transform(test_y.reshape(-1,1))\n",
    "    "
   ],
   "outputs": [],
   "metadata": {}
  },
  {
   "cell_type": "markdown",
   "source": [
    "# Model Training"
   ],
   "metadata": {}
  },
  {
   "cell_type": "code",
   "execution_count": 6,
   "source": [
    "n_pred_classes =train_y.shape[1]\n",
    "train_dataset = UCRDataset(train_x.astype(np.float64),train_y.astype(np.int64))\n",
    "test_dataset = UCRDataset(test_x.astype(np.float64),test_y.astype(np.int64))\n",
    "train_loader = torch.utils.data.DataLoader(train_dataset,batch_size=16,shuffle=True)\n",
    "test_loader = torch.utils.data.DataLoader(test_dataset,batch_size=1,shuffle=False)\n",
    "model = ResNetBaseline(in_channels=1, num_pred_classes=n_pred_classes)\n",
    "fit(model,train_loader,test_loader)\n",
    "if dataset in os.listdir('../ClassificationModels/models/'):\n",
    "    print('Folder exists')\n",
    "else: \n",
    "    os.mkdir(f'../ClassificationModels/models/{dataset}')\n",
    "torch.save(model.state_dict(), f'../ClassificationModels/models/{dataset}/ResNet')\n",
    "\n",
    "test_preds, ground_truth = get_all_preds(model, test_loader)\n",
    "ground_truth=np.argmax(ground_truth,axis=1)\n",
    "\n",
    "sns.set(rc={'figure.figsize':(5,4)})\n",
    "heatmap=confusion_matrix(ground_truth, test_preds)\n",
    "sns.heatmap(heatmap, annot=True)\n",
    "plt.savefig(f'../ClassificationModels/models/{dataset}/ResNet_confusion_matrix.png')\n",
    "plt.close()\n",
    "acc= accuracy_score(ground_truth, test_preds)\n",
    "a = classification_report(ground_truth, test_preds, output_dict=True)\n",
    "dataframe = pd.DataFrame.from_dict(a)\n",
    "dataframe.to_csv(f'../ClassificationModels/models/{dataset}/classification_report.csv', index = False)"
   ],
   "outputs": [
    {
     "output_type": "stream",
     "name": "stdout",
     "text": [
      "Epoch: 1, Train loss: 0.845, Val loss: 1.32\n",
      "Epoch: 2, Train loss: 0.734, Val loss: 1.827\n",
      "Epoch: 3, Train loss: 0.523, Val loss: 1.774\n",
      "Epoch: 4, Train loss: 0.48, Val loss: 1.39\n",
      "Epoch: 5, Train loss: 0.433, Val loss: 1.844\n",
      "Epoch: 6, Train loss: 0.408, Val loss: 1.522\n",
      "Epoch: 7, Train loss: 0.393, Val loss: 2.067\n",
      "Epoch: 8, Train loss: 0.371, Val loss: 1.413\n",
      "Epoch: 9, Train loss: 0.353, Val loss: 1.489\n",
      "Epoch: 10, Train loss: 0.335, Val loss: 1.536\n",
      "Epoch: 11, Train loss: 0.331, Val loss: 1.942\n",
      "Epoch: 12, Train loss: 0.32, Val loss: 1.465\n",
      "Epoch: 13, Train loss: 0.3, Val loss: 2.973\n",
      "Epoch: 14, Train loss: 0.298, Val loss: 1.952\n",
      "Epoch: 15, Train loss: 0.271, Val loss: 1.506\n",
      "Epoch: 16, Train loss: 0.267, Val loss: 2.243\n",
      "Epoch: 17, Train loss: 0.255, Val loss: 1.669\n",
      "Epoch: 18, Train loss: 0.254, Val loss: 2.141\n",
      "Epoch: 19, Train loss: 0.24, Val loss: 2.11\n",
      "Epoch: 20, Train loss: 0.226, Val loss: 2.127\n",
      "Epoch: 21, Train loss: 0.219, Val loss: 2.357\n",
      "Epoch: 22, Train loss: 0.219, Val loss: 1.963\n",
      "Epoch: 23, Train loss: 0.211, Val loss: 2.161\n",
      "Epoch: 24, Train loss: 0.204, Val loss: 2.665\n",
      "Epoch: 25, Train loss: 0.198, Val loss: 2.934\n",
      "Epoch: 26, Train loss: 0.196, Val loss: 2.181\n",
      "Epoch: 27, Train loss: 0.174, Val loss: 2.162\n",
      "Epoch: 28, Train loss: 0.176, Val loss: 2.264\n",
      "Epoch: 29, Train loss: 0.172, Val loss: 1.98\n",
      "Epoch: 30, Train loss: 0.161, Val loss: 2.696\n",
      "Epoch: 31, Train loss: 0.151, Val loss: 2.462\n",
      "Epoch: 32, Train loss: 0.153, Val loss: 2.236\n",
      "Epoch: 33, Train loss: 0.152, Val loss: 2.19\n",
      "Epoch: 34, Train loss: 0.141, Val loss: 2.806\n",
      "Epoch: 35, Train loss: 0.152, Val loss: 3.152\n",
      "Epoch: 36, Train loss: 0.145, Val loss: 3.077\n",
      "Epoch: 37, Train loss: 0.153, Val loss: 2.925\n",
      "Epoch: 38, Train loss: 0.131, Val loss: 2.788\n",
      "Epoch: 39, Train loss: 0.129, Val loss: 2.025\n",
      "Epoch: 40, Train loss: 0.136, Val loss: 2.447\n",
      "Epoch: 41, Train loss: 0.128, Val loss: 2.778\n",
      "Epoch: 42, Train loss: 0.114, Val loss: 3.161\n",
      "Epoch: 43, Train loss: 0.138, Val loss: 2.335\n",
      "Epoch: 44, Train loss: 0.113, Val loss: 2.785\n",
      "Epoch: 45, Train loss: 0.133, Val loss: 2.597\n",
      "Epoch: 46, Train loss: 0.124, Val loss: 3.2\n",
      "Epoch: 47, Train loss: 0.104, Val loss: 3.544\n",
      "Epoch: 48, Train loss: 0.121, Val loss: 3.194\n",
      "Epoch: 49, Train loss: 0.117, Val loss: 3.618\n",
      "Epoch: 50, Train loss: 0.107, Val loss: 3.624\n",
      "Epoch: 51, Train loss: 0.112, Val loss: 3.313\n",
      "Epoch: 52, Train loss: 0.108, Val loss: 3.141\n",
      "Epoch: 53, Train loss: 0.109, Val loss: 3.782\n",
      "Epoch: 54, Train loss: 0.102, Val loss: 3.68\n",
      "Epoch: 55, Train loss: 0.098, Val loss: 3.827\n",
      "Epoch: 56, Train loss: 0.111, Val loss: 3.547\n",
      "Epoch: 57, Train loss: 0.102, Val loss: 3.522\n",
      "Epoch: 58, Train loss: 0.102, Val loss: 3.308\n",
      "Epoch: 59, Train loss: 0.094, Val loss: 3.968\n",
      "Epoch: 60, Train loss: 0.1, Val loss: 3.114\n",
      "Epoch: 61, Train loss: 0.092, Val loss: 3.574\n",
      "Epoch: 62, Train loss: 0.087, Val loss: 4.28\n",
      "Epoch: 63, Train loss: 0.102, Val loss: 4.127\n",
      "Epoch: 64, Train loss: 0.089, Val loss: 3.864\n",
      "Epoch: 65, Train loss: 0.087, Val loss: 3.748\n",
      "Epoch: 66, Train loss: 0.086, Val loss: 4.228\n",
      "Epoch: 67, Train loss: 0.103, Val loss: 3.796\n",
      "Epoch: 68, Train loss: 0.092, Val loss: 3.602\n",
      "Epoch: 69, Train loss: 0.099, Val loss: 3.696\n",
      "Epoch: 70, Train loss: 0.077, Val loss: 3.227\n",
      "Epoch: 71, Train loss: 0.087, Val loss: 4.002\n",
      "Epoch: 72, Train loss: 0.083, Val loss: 4.798\n",
      "Epoch: 73, Train loss: 0.081, Val loss: 4.322\n",
      "Epoch: 74, Train loss: 0.087, Val loss: 6.087\n",
      "Epoch: 75, Train loss: 0.09, Val loss: 3.31\n",
      "Epoch: 76, Train loss: 0.07, Val loss: 5.041\n",
      "Epoch: 77, Train loss: 0.085, Val loss: 5.087\n",
      "Epoch: 78, Train loss: 0.085, Val loss: 4.361\n",
      "Epoch: 79, Train loss: 0.094, Val loss: 2.891\n",
      "Epoch: 80, Train loss: 0.075, Val loss: 4.079\n",
      "Epoch: 81, Train loss: 0.07, Val loss: 3.938\n",
      "Epoch: 82, Train loss: 0.082, Val loss: 3.125\n",
      "Epoch: 83, Train loss: 0.079, Val loss: 3.925\n",
      "Epoch: 84, Train loss: 0.07, Val loss: 4.706\n",
      "Epoch: 85, Train loss: 0.09, Val loss: 3.445\n",
      "Epoch: 86, Train loss: 0.073, Val loss: 5.185\n",
      "Epoch: 87, Train loss: 0.072, Val loss: 5.398\n",
      "Epoch: 88, Train loss: 0.073, Val loss: 4.14\n",
      "Epoch: 89, Train loss: 0.071, Val loss: 4.091\n",
      "Epoch: 90, Train loss: 0.073, Val loss: 4.105\n",
      "Epoch: 91, Train loss: 0.089, Val loss: 3.936\n",
      "Epoch: 92, Train loss: 0.067, Val loss: 3.766\n",
      "Epoch: 93, Train loss: 0.074, Val loss: 3.557\n",
      "Epoch: 94, Train loss: 0.065, Val loss: 3.853\n",
      "Epoch: 95, Train loss: 0.071, Val loss: 4.055\n",
      "Epoch: 96, Train loss: 0.07, Val loss: 4.46\n",
      "Epoch: 97, Train loss: 0.091, Val loss: 3.133\n",
      "Epoch: 98, Train loss: 0.059, Val loss: 3.918\n",
      "Epoch: 99, Train loss: 0.078, Val loss: 3.439\n",
      "Epoch: 100, Train loss: 0.056, Val loss: 3.309\n",
      "Epoch: 101, Train loss: 0.064, Val loss: 3.382\n",
      "Early stopping!\n",
      "Folder exists\n"
     ]
    }
   ],
   "metadata": {}
  },
  {
   "cell_type": "markdown",
   "source": [
    "# Explanation Algo"
   ],
   "metadata": {}
  },
  {
   "cell_type": "code",
   "execution_count": 7,
   "source": [
    "item=test_x[10].reshape(1,1,-1)\n",
    "shape=item.shape\n",
    "_item=  torch.from_numpy(item).float()\n",
    "model.eval()\n",
    "#y_target= model(_item).detach().numpy()\n",
    "y_target = torch.nn.functional.softmax(model(_item)).detach().numpy()"
   ],
   "outputs": [
    {
     "output_type": "stream",
     "name": "stderr",
     "text": [
      "/home/jacqueline/.local/share/virtualenvs/TSInterpret-NXJYnQDU/lib/python3.7/site-packages/ipykernel_launcher.py:6: UserWarning: Implicit dimension choice for softmax has been deprecated. Change the call to include dim=X as an argument.\n",
      "  \n"
     ]
    }
   ],
   "metadata": {}
  },
  {
   "cell_type": "code",
   "execution_count": 8,
   "source": [
    "print(y_target)"
   ],
   "outputs": [
    {
     "output_type": "stream",
     "name": "stdout",
     "text": [
      "[[4.5297136e-16 2.5197947e-20 1.4002514e-30 8.4086096e-06 6.9493616e-10\n",
      "  9.9992847e-01 6.3029998e-05]]\n"
     ]
    }
   ],
   "metadata": {}
  },
  {
   "cell_type": "code",
   "execution_count": 9,
   "source": [
    "from TSInterpret.InterpretabilityModels.counterfactual.NativeGuideCF import NativeGuideCF\n",
    "exp_model=NativeGuideCF(model,shape,(train_x,train_y), backend='PYT', mode='feat')"
   ],
   "outputs": [
    {
     "output_type": "stream",
     "name": "stderr",
     "text": [
      "WARNING:root:no value was provided for `target_layer`, thus set to 'layers'.\n",
      "WARNING:root:no value was provided for `fc_layer`, thus set to 'final'.\n"
     ]
    }
   ],
   "metadata": {}
  },
  {
   "cell_type": "code",
   "execution_count": 10,
   "source": [
    "exp,label=exp_model.explain(item, np.argmax(y_target,axis=1),method='native_guide')"
   ],
   "outputs": [
    {
     "output_type": "stream",
     "name": "stdout",
     "text": [
      "[5]\n",
      "Native Guide [[2.2530171e-01 6.0941478e-05 1.8320753e-01 5.2965921e-01 3.7634991e-02\n",
      "  3.5855315e-05 2.4099732e-02]]\n",
      "Starting Points 8\n",
      "Subarray Length 1\n",
      "Prob_target [0.9999281]\n",
      "starting 7\n",
      "2\n",
      "False\n",
      "Prob_target [0.9992518]\n",
      "starting 92\n",
      "3\n",
      "False\n",
      "Prob_target [0.9997954]\n",
      "starting 91\n",
      "4\n",
      "False\n",
      "Prob_target [0.99974626]\n",
      "starting 91\n",
      "5\n",
      "False\n",
      "Prob_target [0.9992157]\n",
      "starting 90\n",
      "6\n",
      "False\n",
      "Prob_target [0.99834335]\n",
      "starting 35\n",
      "7\n",
      "False\n",
      "Prob_target [0.99481565]\n",
      "starting 35\n",
      "8\n",
      "False\n",
      "Prob_target [0.99700886]\n",
      "starting 0\n",
      "9\n",
      "False\n",
      "Prob_target [0.99996805]\n",
      "starting 0\n",
      "10\n",
      "False\n",
      "Prob_target [0.9999702]\n",
      "starting 0\n",
      "11\n",
      "False\n",
      "Prob_target [0.99999225]\n",
      "starting 0\n",
      "12\n",
      "False\n",
      "Prob_target [0.78493685]\n",
      "starting 0\n",
      "13\n",
      "False\n",
      "Prob_target [0.99991655]\n",
      "starting 0\n",
      "14\n",
      "False\n",
      "Prob_target [0.9999728]\n",
      "starting 0\n",
      "15\n",
      "False\n",
      "Prob_target [0.9996989]\n",
      "starting 0\n",
      "16\n",
      "False\n",
      "Prob_target [0.99988663]\n",
      "starting 0\n",
      "17\n",
      "False\n",
      "Prob_target [0.99999523]\n",
      "starting 0\n",
      "18\n",
      "False\n",
      "Prob_target [0.99999714]\n",
      "starting 0\n",
      "19\n",
      "False\n",
      "Prob_target [0.99999845]\n",
      "starting 0\n",
      "20\n",
      "False\n",
      "Prob_target [0.9999963]\n",
      "starting 0\n",
      "21\n",
      "False\n",
      "Prob_target [0.9999924]\n",
      "starting 0\n",
      "22\n",
      "False\n",
      "Prob_target [0.99989974]\n",
      "starting 0\n",
      "23\n",
      "False\n",
      "Prob_target [0.99954575]\n",
      "starting 0\n",
      "24\n",
      "False\n",
      "Prob_target [0.9999058]\n",
      "starting 0\n",
      "25\n",
      "False\n",
      "Prob_target [0.9999981]\n",
      "starting 0\n",
      "26\n",
      "False\n",
      "Prob_target [0.99999964]\n",
      "starting 0\n",
      "27\n",
      "False\n",
      "Prob_target [0.9999999]\n",
      "starting 0\n",
      "28\n",
      "False\n",
      "Prob_target [0.9999999]\n",
      "starting 0\n",
      "29\n",
      "False\n",
      "Prob_target [1.]\n",
      "starting 0\n",
      "30\n",
      "False\n",
      "Prob_target [1.]\n",
      "starting 0\n",
      "31\n",
      "False\n",
      "Prob_target [0.9999999]\n",
      "starting 0\n",
      "32\n",
      "False\n",
      "Prob_target [0.9999999]\n",
      "starting 0\n",
      "33\n",
      "False\n",
      "Prob_target [0.9999999]\n",
      "starting 0\n",
      "34\n",
      "False\n",
      "Prob_target [0.99999976]\n",
      "starting 0\n",
      "35\n",
      "False\n",
      "Prob_target [0.9999999]\n",
      "starting 0\n",
      "36\n",
      "False\n",
      "Prob_target [1.]\n",
      "starting 0\n",
      "37\n",
      "False\n",
      "Prob_target [0.9999999]\n",
      "starting 0\n",
      "38\n",
      "False\n",
      "Prob_target [1.]\n",
      "starting 0\n",
      "39\n",
      "False\n",
      "Prob_target [1.]\n",
      "starting 0\n",
      "40\n",
      "False\n",
      "Prob_target [1.]\n",
      "starting 0\n",
      "41\n",
      "False\n",
      "Prob_target [0.9999999]\n",
      "starting 0\n",
      "42\n",
      "False\n",
      "Prob_target [0.99999976]\n",
      "starting 0\n",
      "43\n",
      "False\n",
      "Prob_target [0.99999976]\n",
      "starting 0\n",
      "44\n",
      "False\n",
      "Prob_target [0.9999999]\n",
      "starting 0\n",
      "45\n",
      "False\n",
      "Prob_target [0.9999999]\n",
      "starting 0\n",
      "46\n",
      "False\n",
      "Prob_target [0.9999999]\n",
      "starting 0\n",
      "47\n",
      "False\n",
      "Prob_target [0.9999999]\n",
      "starting 0\n",
      "48\n",
      "False\n",
      "Prob_target [1.]\n",
      "starting 0\n",
      "49\n",
      "False\n",
      "Prob_target [1.]\n",
      "starting 0\n",
      "50\n",
      "False\n",
      "Prob_target [1.]\n",
      "starting 0\n",
      "51\n",
      "False\n",
      "Prob_target [1.]\n",
      "starting 0\n",
      "52\n",
      "False\n",
      "Prob_target [1.]\n",
      "starting 0\n",
      "53\n",
      "False\n",
      "Prob_target [1.]\n",
      "starting 0\n",
      "54\n",
      "False\n",
      "Prob_target [0.9999999]\n",
      "starting 0\n",
      "55\n",
      "False\n",
      "Prob_target [0.99999774]\n",
      "starting 0\n",
      "56\n",
      "False\n",
      "Prob_target [3.9786235e-10]\n"
     ]
    }
   ],
   "metadata": {}
  },
  {
   "cell_type": "code",
   "execution_count": 11,
   "source": [
    "label=0"
   ],
   "outputs": [],
   "metadata": {}
  },
  {
   "cell_type": "code",
   "execution_count": 12,
   "source": [
    "print(exp)"
   ],
   "outputs": [
    {
     "output_type": "stream",
     "name": "stdout",
     "text": [
      "[[-0.13949752 -0.13949752 -0.13949752 -0.13949752 -0.13949752 -0.13949752\n",
      "  -0.13949752 -0.13949752 -0.13949752 -0.13949752 -0.13949752 -0.13949752\n",
      "  -0.13949752 -0.13949752 -0.13949752 -0.13949752 -0.13949752 -0.13949752\n",
      "  -0.13949752 -0.13949752 -0.13949752 -0.13949752 -0.13949752 -0.13949752\n",
      "  -0.13949752 -0.13949752 -0.13949752 -0.13949752 -0.13949752 -0.13949752\n",
      "  -0.13949752 -0.13949752 -0.13949752 -0.13949752 -0.13949752 -0.13949752\n",
      "  -0.13949752 -0.13949752 -0.13949752 -0.13949752 -0.13949752 -0.13949752\n",
      "  -0.13949752 -0.13949752 -0.13949752 -0.13949752 -0.13949752 -0.13949752\n",
      "  -0.13949752 -0.13949752 -0.13949752 -0.13949752  8.45354939  4.65921688\n",
      "  -0.13949752 -0.13949752  0.23510956 -0.24948841 -0.24948841 -0.24948841\n",
      "  -0.24948841 -0.24948841 -0.24948841 -0.24948841 -0.24948841 -0.24948841\n",
      "  -0.24948841 -0.24948841 -0.24948841 -0.24948841 -0.24948841 -0.24948841\n",
      "  -0.24948841 -0.24948841 -0.24948841 -0.24948841 -0.24948841 -0.24948841\n",
      "  -0.24948841 -0.24948841 -0.24948841 -0.24948841 -0.24948841 -0.24948841\n",
      "  -0.24948841 -0.24948841 -0.24948841 -0.24948841 -0.24948841 -0.24948841\n",
      "  -0.24948841 -0.24948841 -0.24948841 -0.24948841 -0.24948841 -0.24948841]]\n"
     ]
    }
   ],
   "metadata": {}
  },
  {
   "cell_type": "code",
   "execution_count": 13,
   "source": [
    "print(exp.shape)"
   ],
   "outputs": [
    {
     "output_type": "stream",
     "name": "stdout",
     "text": [
      "(1, 96)\n"
     ]
    }
   ],
   "metadata": {}
  },
  {
   "cell_type": "markdown",
   "source": [
    "# Plot Item "
   ],
   "metadata": {}
  },
  {
   "cell_type": "code",
   "execution_count": 14,
   "source": [
    "\n",
    "exp_model.plot(item,np.argmax(y_target,axis=1)[0],exp,label)"
   ],
   "outputs": [
    {
     "output_type": "display_data",
     "data": {
      "image/png": "[encoded data removed]",
      "text/plain": [
       "<Figure size 360x288 with 4 Axes>"
      ]
     },
     "metadata": {}
    }
   ],
   "metadata": {}
  },
  {
   "cell_type": "code",
   "execution_count": 15,
   "source": [
    "exp_model.plot_in_one(item,np.argmax(y_target,axis=1)[0],exp,label)"
   ],
   "outputs": [
    {
     "output_type": "display_data",
     "data": {
      "image/png": "[encoded data removed]",
      "text/plain": [
       "<Figure size 800x400 with 1 Axes>"
      ]
     },
     "metadata": {}
    }
   ],
   "metadata": {}
  }
 ],
 "metadata": {
  "orig_nbformat": 4,
  "language_info": {
   "name": "python",
   "version": "3.7.5",
   "mimetype": "text/x-python",
   "codemirror_mode": {
    "name": "ipython",
    "version": 3
   },
   "pygments_lexer": "ipython3",
   "nbconvert_exporter": "python",
   "file_extension": ".py"
  },
  "kernelspec": {
   "name": "python3",
   "display_name": "Python 3.7.5 64-bit ('TSInterpret-NXJYnQDU': pipenv)"
  },
  "interpreter": {
   "hash": "16db99a3fba429d86cb96b96f3cee6d3141a37b91b1d019974802969710b6701"
  }
 },
 "nbformat": 4,
 "nbformat_minor": 2
}