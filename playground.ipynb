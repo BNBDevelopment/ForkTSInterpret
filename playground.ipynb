{
 "cells": [
  {
   "cell_type": "code",
   "execution_count": 6,
   "metadata": {},
   "outputs": [],
   "source": [
    "import numpy as np\n",
    "from tslearn.datasets import UCR_UEA_datasets\n",
    "data = UCR_UEA_datasets().load_dataset(\"ECG200\")"
   ]
  },
  {
   "cell_type": "code",
   "execution_count": 20,
   "metadata": {},
   "outputs": [
    {
     "name": "stdout",
     "output_type": "stream",
     "text": [
      "The autoreload extension is already loaded. To reload it, use:\n",
      "  %reload_ext autoreload\n"
     ]
    },
    {
     "ename": "AttributeError",
     "evalue": "module 'TSInterpret.InterpretabilityModels.counterfactual.SETSCF' has no attribute 'SETSCF'",
     "output_type": "error",
     "traceback": [
      "\u001b[1;31m---------------------------------------------------------------------------\u001b[0m",
      "\u001b[1;31mAttributeError\u001b[0m                            Traceback (most recent call last)",
      "\u001b[1;32mc:\\Users\\ss281\\Desktop\\Projects\\TSInterpret\\playground.ipynb Cell 2\u001b[0m line \u001b[0;36m7\n\u001b[0;32m      <a href='vscode-notebook-cell:/c%3A/Users/ss281/Desktop/Projects/TSInterpret/playground.ipynb#W1sZmlsZQ%3D%3D?line=2'>3</a>\u001b[0m \u001b[39mfrom\u001b[39;00m \u001b[39mTSInterpret\u001b[39;00m\u001b[39m.\u001b[39;00m\u001b[39mInterpretabilityModels\u001b[39;00m\u001b[39m.\u001b[39;00m\u001b[39mcounterfactual\u001b[39;00m \u001b[39mimport\u001b[39;00m SETSCF\n\u001b[0;32m      <a href='vscode-notebook-cell:/c%3A/Users/ss281/Desktop/Projects/TSInterpret/playground.ipynb#W1sZmlsZQ%3D%3D?line=3'>4</a>\u001b[0m \u001b[39mfrom\u001b[39;00m \u001b[39mtslearn\u001b[39;00m\u001b[39m.\u001b[39;00m\u001b[39mdatasets\u001b[39;00m \u001b[39mimport\u001b[39;00m UCR_UEA_datasets\n\u001b[1;32m----> <a href='vscode-notebook-cell:/c%3A/Users/ss281/Desktop/Projects/TSInterpret/playground.ipynb#W1sZmlsZQ%3D%3D?line=6'>7</a>\u001b[0m SETSCF\u001b[39m.\u001b[39;49mSETSCF(\u001b[39mNone\u001b[39;00m,data, \u001b[39m\"\u001b[39m\u001b[39mTF\u001b[39m\u001b[39m\"\u001b[39m,\u001b[39m\"\u001b[39m\u001b[39mtime\u001b[39m\u001b[39m\"\u001b[39m)\n",
      "\u001b[1;31mAttributeError\u001b[0m: module 'TSInterpret.InterpretabilityModels.counterfactual.SETSCF' has no attribute 'SETSCF'"
     ]
    }
   ],
   "source": [
    "%load_ext autoreload \n",
    "%autoreload 2\n",
    "from TSInterpret.InterpretabilityModels.counterfactual.SETSCF import SETSCF\n",
    "from tslearn.datasets import UCR_UEA_datasets\n",
    "\n",
    "\n",
    "SETSCF.SETSCF(None,data, \"TF\",\"time\")"
   ]
  },
  {
   "cell_type": "code",
   "execution_count": null,
   "metadata": {},
   "outputs": [],
   "source": []
  }
 ],
 "metadata": {
  "kernelspec": {
   "display_name": "Python 3",
   "language": "python",
   "name": "python3"
  },
  "language_info": {
   "codemirror_mode": {
    "name": "ipython",
    "version": 3
   },
   "file_extension": ".py",
   "mimetype": "text/x-python",
   "name": "python",
   "nbconvert_exporter": "python",
   "pygments_lexer": "ipython3",
   "version": "3.8.18"
  }
 },
 "nbformat": 4,
 "nbformat_minor": 2
}
