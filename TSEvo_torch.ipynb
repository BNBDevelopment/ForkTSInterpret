{
 "cells": [
  {
   "cell_type": "code",
   "execution_count": 1,
   "metadata": {},
   "outputs": [],
   "source": [
    "import pandas as pd\n",
    "import numpy as np\n",
    "import torch\n",
    "import gc\n",
    "import torch.nn as nn\n",
    "from tqdm import tqdm_notebook as tqdm\n",
    "from torch.utils.data import Dataset, DataLoader\n",
    "import seaborn as sns\n",
    "import matplotlib.pyplot as plt\n",
    "from sklearn.metrics import confusion_matrix, accuracy_score\n",
    "import random\n",
    "from sklearn import tree\n",
    "from sklearn.model_selection import cross_val_score\n",
    "from pymop import Problem\n",
    "import os\n",
    "from tslearn.datasets import UCR_UEA_datasets\n",
    "import warnings\n",
    "warnings.filterwarnings('ignore')\n"
   ]
  },
  {
   "cell_type": "code",
   "execution_count": 2,
   "metadata": {},
   "outputs": [],
   "source": [
    "dataset='GunPoint'\n",
    "X_train,train_y,X_test,test_y=UCR_UEA_datasets().load_dataset(dataset)\n",
    "train_x=X_train.reshape(-1,X_train.shape[-1],X_train.shape[-2])\n",
    "test_x=X_test.reshape(-1,X_train.shape[-1],X_train.shape[-2])\n"
   ]
  },
  {
   "cell_type": "code",
   "execution_count": 11,
   "metadata": {},
   "outputs": [],
   "source": [
    "from ClassificationModels.CNN_T import ResNetBaseline, UCRDataset, get_all_preds\n",
    "stride = 1\n",
    "kernel_size=10\n",
    "padding = kernel_size - 1\n",
    "input_size= train_x.shape[-1]\n",
    "device = torch.device( \"cpu\")#\"cuda:0\" if torch.cuda.is_available() else\n",
    "model = ResNetBaseline(in_channels= 1, num_pred_classes=2)\n",
    "model.load_state_dict(torch.load(f'./ClassificationModels/models/GunPoint/ResNet'))\n",
    "test_dataset = UCRDataset(test_x,test_y)\n",
    "test_loader = torch.utils.data.DataLoader(test_dataset,batch_size=1,shuffle=True)\n"
   ]
  },
  {
   "cell_type": "code",
   "execution_count": 12,
   "metadata": {},
   "outputs": [],
   "source": [
    "model.eval()\n",
    "y_pred= get_all_preds(model,test_loader)\n",
    "#y_pred= model(test_x).detach().numpy()"
   ]
  },
  {
   "cell_type": "code",
   "execution_count": 13,
   "metadata": {},
   "outputs": [],
   "source": [
    "observation_01, label_01 = test_dataset[0]\n",
    "label_01=np.array([y_pred[0]])\n",
    "labels=np.argmax(y_pred,axis=1)\n"
   ]
  },
  {
   "cell_type": "code",
   "execution_count": 18,
   "metadata": {},
   "outputs": [
    {
     "ename": "ModuleNotFoundError",
     "evalue": "No module named 'TSInterpret.InterpretabilityModels.Counterfactual'",
     "output_type": "error",
     "traceback": [
      "\u001b[0;31m---------------------------------------------------------------------------\u001b[0m",
      "\u001b[0;31mModuleNotFoundError\u001b[0m                       Traceback (most recent call last)",
      "\u001b[0;32m/tmp/ipykernel_1467673/3919213641.py\u001b[0m in \u001b[0;36m<module>\u001b[0;34m\u001b[0m\n\u001b[0;32m----> 1\u001b[0;31m \u001b[0;32mfrom\u001b[0m \u001b[0mTSInterpret\u001b[0m\u001b[0;34m.\u001b[0m\u001b[0mInterpretabilityModels\u001b[0m\u001b[0;34m.\u001b[0m\u001b[0mcounterfactual\u001b[0m\u001b[0;34m.\u001b[0m\u001b[0mTSEvoCF\u001b[0m \u001b[0;32mimport\u001b[0m \u001b[0mTSEvo\u001b[0m\u001b[0;34m\u001b[0m\u001b[0;34m\u001b[0m\u001b[0m\n\u001b[0m\u001b[1;32m      2\u001b[0m \u001b[0mexp\u001b[0m \u001b[0;34m=\u001b[0m\u001b[0mTSEvo\u001b[0m\u001b[0;34m(\u001b[0m\u001b[0mmodel\u001b[0m\u001b[0;34m=\u001b[0m \u001b[0mmodel\u001b[0m\u001b[0;34m,\u001b[0m\u001b[0mdata\u001b[0m\u001b[0;34m=\u001b[0m\u001b[0;34m(\u001b[0m\u001b[0mtest_x\u001b[0m\u001b[0;34m,\u001b[0m\u001b[0mnp\u001b[0m\u001b[0;34m.\u001b[0m\u001b[0margmax\u001b[0m\u001b[0;34m(\u001b[0m\u001b[0my_pred\u001b[0m\u001b[0;34m,\u001b[0m\u001b[0maxis\u001b[0m\u001b[0;34m=\u001b[0m\u001b[0;36m1\u001b[0m\u001b[0;34m)\u001b[0m\u001b[0;34m)\u001b[0m\u001b[0;34m,\u001b[0m \u001b[0mbackend\u001b[0m\u001b[0;34m=\u001b[0m\u001b[0;34m'PYT'\u001b[0m\u001b[0;34m)\u001b[0m\u001b[0;34m\u001b[0m\u001b[0;34m\u001b[0m\u001b[0m\n",
      "\u001b[0;32m/media/jacqueline/Data/TS_Interpret/TSInterpret/TSInterpret/__init__.py\u001b[0m in \u001b[0;36m<module>\u001b[0;34m\u001b[0m\n\u001b[0;32m----> 1\u001b[0;31m \u001b[0;32mfrom\u001b[0m \u001b[0;34m.\u001b[0m \u001b[0;32mimport\u001b[0m \u001b[0mInterpretabilityModels\u001b[0m\u001b[0;34m,\u001b[0m \u001b[0mModels\u001b[0m\u001b[0;34m,\u001b[0m \u001b[0mconstants\u001b[0m\u001b[0;34m\u001b[0m\u001b[0;34m\u001b[0m\u001b[0m\n\u001b[0m\u001b[1;32m      2\u001b[0m \u001b[0;32mfrom\u001b[0m \u001b[0;34m.\u001b[0m\u001b[0m__version__\u001b[0m \u001b[0;32mimport\u001b[0m \u001b[0m__version__\u001b[0m\u001b[0;34m\u001b[0m\u001b[0;34m\u001b[0m\u001b[0m\n\u001b[1;32m      3\u001b[0m \u001b[0;34m\u001b[0m\u001b[0m\n\u001b[1;32m      4\u001b[0m __all__ = [\n\u001b[1;32m      5\u001b[0m     \u001b[0;34m\"InterpretabilityModels\"\u001b[0m\u001b[0;34m,\u001b[0m\u001b[0;34m\u001b[0m\u001b[0;34m\u001b[0m\u001b[0m\n",
      "\u001b[0;32m/media/jacqueline/Data/TS_Interpret/TSInterpret/TSInterpret/InterpretabilityModels/__init__.py\u001b[0m in \u001b[0;36m<module>\u001b[0;34m\u001b[0m\n\u001b[0;32m----> 1\u001b[0;31m from . import (FeatureAttribution, GradCam,  # lime,Shap, TsInsight,\n\u001b[0m\u001b[1;32m      2\u001b[0m                \u001b[0mInstanceBase\u001b[0m\u001b[0;34m,\u001b[0m \u001b[0mInterpretabilityBase\u001b[0m\u001b[0;34m,\u001b[0m \u001b[0mSaliency\u001b[0m\u001b[0;34m,\u001b[0m \u001b[0mcounterfactual\u001b[0m\u001b[0;34m,\u001b[0m\u001b[0;34m\u001b[0m\u001b[0;34m\u001b[0m\u001b[0m\n\u001b[1;32m      3\u001b[0m                leftist, utils)\n\u001b[1;32m      4\u001b[0m \u001b[0;34m\u001b[0m\u001b[0m\n\u001b[1;32m      5\u001b[0m __all__ = [\n",
      "\u001b[0;32m/media/jacqueline/Data/TS_Interpret/TSInterpret/TSInterpret/InterpretabilityModels/counterfactual/__init__.py\u001b[0m in \u001b[0;36m<module>\u001b[0;34m\u001b[0m\n\u001b[0;32m----> 1\u001b[0;31m \u001b[0;32mfrom\u001b[0m \u001b[0;34m.\u001b[0m \u001b[0;32mimport\u001b[0m \u001b[0mCF\u001b[0m\u001b[0;34m,\u001b[0m \u001b[0mAtes\u001b[0m\u001b[0;34m,\u001b[0m \u001b[0mNativeGuideCF\u001b[0m\u001b[0;34m,\u001b[0m \u001b[0mTSEvoCF\u001b[0m\u001b[0;34m,\u001b[0m \u001b[0mTSEvo\u001b[0m\u001b[0;34m\u001b[0m\u001b[0;34m\u001b[0m\u001b[0m\n\u001b[0m\u001b[1;32m      2\u001b[0m \u001b[0;34m\u001b[0m\u001b[0m\n\u001b[1;32m      3\u001b[0m __all__ = [\n\u001b[1;32m      4\u001b[0m \u001b[0;34m\u001b[0m\u001b[0m\n\u001b[1;32m      5\u001b[0m \u001b[0;34m\"Ates\"\u001b[0m\u001b[0;34m,\u001b[0m\u001b[0;34m\u001b[0m\u001b[0;34m\u001b[0m\u001b[0m\n",
      "\u001b[0;32m/media/jacqueline/Data/TS_Interpret/TSInterpret/TSInterpret/InterpretabilityModels/counterfactual/TSEvoCF.py\u001b[0m in \u001b[0;36m<module>\u001b[0;34m\u001b[0m\n\u001b[1;32m      1\u001b[0m \u001b[0;32mimport\u001b[0m \u001b[0mnumpy\u001b[0m \u001b[0;32mas\u001b[0m \u001b[0mnp\u001b[0m\u001b[0;34m\u001b[0m\u001b[0;34m\u001b[0m\u001b[0m\n\u001b[1;32m      2\u001b[0m \u001b[0;32mfrom\u001b[0m \u001b[0mTSInterpret\u001b[0m\u001b[0;34m.\u001b[0m\u001b[0mInterpretabilityModels\u001b[0m\u001b[0;34m.\u001b[0m\u001b[0mcounterfactual\u001b[0m\u001b[0;34m.\u001b[0m\u001b[0mCF\u001b[0m \u001b[0;32mimport\u001b[0m \u001b[0mCF\u001b[0m\u001b[0;34m\u001b[0m\u001b[0;34m\u001b[0m\u001b[0m\n\u001b[0;32m----> 3\u001b[0;31m \u001b[0;32mfrom\u001b[0m \u001b[0mTSInterpret\u001b[0m\u001b[0;34m.\u001b[0m\u001b[0mInterpretabilityModels\u001b[0m\u001b[0;34m.\u001b[0m\u001b[0mCounterfactual\u001b[0m\u001b[0;34m.\u001b[0m\u001b[0mTSEvo\u001b[0m\u001b[0;34m.\u001b[0m\u001b[0mEvo\u001b[0m \u001b[0;32mimport\u001b[0m \u001b[0mEvolutionaryOptimization\u001b[0m\u001b[0;34m\u001b[0m\u001b[0;34m\u001b[0m\u001b[0m\n\u001b[0m\u001b[1;32m      4\u001b[0m \u001b[0;34m\u001b[0m\u001b[0m\n\u001b[1;32m      5\u001b[0m \u001b[0;34m\u001b[0m\u001b[0m\n",
      "\u001b[0;31mModuleNotFoundError\u001b[0m: No module named 'TSInterpret.InterpretabilityModels.Counterfactual'"
     ]
    }
   ],
   "source": [
    "from TSInterpret.InterpretabilityModels.counterfactual.TSEvoCF import TSEvo\n",
    "exp =TSEvo(model= model,data=(test_x,np.argmax(y_pred,axis=1)), backend='PYT')"
   ]
  },
  {
   "cell_type": "code",
   "execution_count": null,
   "metadata": {},
   "outputs": [],
   "source": [
    "\n",
    "#TODO Call Explain Instead\n",
    "pop,logbook=exp.explain_instance(observation_01,label_01,transformer = 'mutate_both')"
   ]
  }
 ],
 "metadata": {
  "kernelspec": {
   "display_name": "Python 3.7.15 ('TSInterpret-x4eqnPOt')",
   "language": "python",
   "name": "python3"
  },
  "language_info": {
   "codemirror_mode": {
    "name": "ipython",
    "version": 3
   },
   "file_extension": ".py",
   "mimetype": "text/x-python",
   "name": "python",
   "nbconvert_exporter": "python",
   "pygments_lexer": "ipython3",
   "version": "3.7.15"
  },
  "orig_nbformat": 4,
  "vscode": {
   "interpreter": {
    "hash": "f057a787916d84cdf9917d49e1e1f7c668875ada4681575e2b61fa684cbb94c6"
   }
  }
 },
 "nbformat": 4,
 "nbformat_minor": 2
}
