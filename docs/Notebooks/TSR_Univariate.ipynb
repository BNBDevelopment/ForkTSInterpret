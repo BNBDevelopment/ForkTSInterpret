{
 "cells": [
  {
   "cell_type": "code",
   "execution_count": 1,
   "metadata": {},
   "outputs": [],
   "source": [
    "from tslearn.datasets import UCR_UEA_datasets\n",
    "import numpy as np \n",
    "import torch \n",
    "import seaborn as sns\n",
    "import sklearn\n",
    "from ClassificationModels.LSTM_T import LSTM\n",
    "from ClassificationModels.CNN_T import ResNetBaseline, get_all_preds, fit, UCRDataset\n"
   ]
  },
  {
   "cell_type": "code",
   "execution_count": 2,
   "metadata": {},
   "outputs": [
    {
     "name": "stdout",
     "output_type": "stream",
     "text": [
      "[[0. 1.]\n",
      " [0. 1.]\n",
      " [1. 0.]\n",
      " [1. 0.]\n",
      " [0. 1.]\n",
      " [0. 1.]\n",
      " [0. 1.]\n",
      " [0. 1.]\n",
      " [0. 1.]\n",
      " [1. 0.]\n",
      " [1. 0.]\n",
      " [1. 0.]\n",
      " [1. 0.]\n",
      " [1. 0.]\n",
      " [0. 1.]\n",
      " [1. 0.]\n",
      " [0. 1.]\n",
      " [0. 1.]\n",
      " [1. 0.]\n",
      " [0. 1.]\n",
      " [1. 0.]\n",
      " [1. 0.]\n",
      " [1. 0.]\n",
      " [0. 1.]\n",
      " [1. 0.]\n",
      " [0. 1.]\n",
      " [1. 0.]\n",
      " [1. 0.]\n",
      " [0. 1.]\n",
      " [1. 0.]\n",
      " [1. 0.]\n",
      " [0. 1.]\n",
      " [0. 1.]\n",
      " [1. 0.]\n",
      " [0. 1.]\n",
      " [1. 0.]\n",
      " [0. 1.]\n",
      " [0. 1.]\n",
      " [0. 1.]\n",
      " [0. 1.]\n",
      " [0. 1.]\n",
      " [1. 0.]\n",
      " [1. 0.]\n",
      " [1. 0.]\n",
      " [0. 1.]\n",
      " [0. 1.]\n",
      " [1. 0.]\n",
      " [0. 1.]\n",
      " [1. 0.]\n",
      " [0. 1.]]\n"
     ]
    }
   ],
   "source": [
    "#Load Data \n",
    "dataset='GunPoint'\n",
    "X_train,y_train, X_test, y_test=UCR_UEA_datasets().load_dataset(dataset)\n",
    "train_x=X_train.reshape(-1,X_train.shape[-2],X_train.shape[-1])\n",
    "test_x=X_test.reshape(-1,X_train.shape[-2],X_train.shape[-1])\n",
    "train_y = y_train\n",
    "test_y=y_test\n",
    "enc1=sklearn.preprocessing.OneHotEncoder(sparse=False).fit(np.vstack((train_y.reshape(-1,1),test_y.reshape(-1,1))))\n",
    "#pickle.dump(enc1,open(f'../../ClassificationModels/models/{dataset}/OneHotEncoder.pkl','wb'))\n",
    "\n",
    "train_y=enc1.transform(train_y.reshape(-1,1))\n",
    "test_y=enc1.transform(test_y.reshape(-1,1)) \n",
    "\n",
    "print(train_y)\n",
    "#Load Model \n",
    "n_pred_classes =len(np.unique(train_y))\n",
    "train_dataset = UCRDataset(train_x.astype(np.float64),train_y.astype(np.int64))\n",
    "test_dataset = UCRDataset(test_x.astype(np.float64),test_y.astype(np.int64))\n",
    "train_loader = torch.utils.data.DataLoader(train_dataset,batch_size=16,shuffle=True)\n",
    "test_loader = torch.utils.data.DataLoader(test_dataset,batch_size=1,shuffle=False)"
   ]
  },
  {
   "cell_type": "code",
   "execution_count": 3,
   "metadata": {},
   "outputs": [
    {
     "data": {
      "text/plain": [
       "LSTM(\n",
       "  (drop): Dropout(p=0.1, inplace=False)\n",
       "  (fc): Linear(in_features=10, out_features=2, bias=True)\n",
       "  (rnn): LSTM(1, 10, batch_first=True)\n",
       ")"
      ]
     },
     "execution_count": 3,
     "metadata": {},
     "output_type": "execute_result"
    }
   ],
   "source": [
    "model = LSTM(1, 10 ,2 ,0.1)#ResNetBaseline(in_channels=1, num_pred_classes=n_pred_classes)\n",
    "#fit(model,train_loader,test_loader)\n",
    "model.load_state_dict(torch.load(f'../../ClassificationModels/models/{dataset}/LSTM'))\n",
    "\n",
    "model.eval()"
   ]
  },
  {
   "cell_type": "code",
   "execution_count": 4,
   "metadata": {},
   "outputs": [],
   "source": [
    "item = np.array([test_x[0,:,:]],dtype=np.float64)\n",
    "label =0"
   ]
  },
  {
   "cell_type": "code",
   "execution_count": 5,
   "metadata": {},
   "outputs": [
    {
     "name": "stderr",
     "output_type": "stream",
     "text": [
      "2023-06-12 14:39:54.947487: I tensorflow/core/platform/cpu_feature_guard.cc:193] This TensorFlow binary is optimized with oneAPI Deep Neural Network Library (oneDNN) to use the following CPU instructions in performance-critical operations:  AVX2 FMA\n",
      "To enable them in other operations, rebuild TensorFlow with the appropriate compiler flags.\n",
      "2023-06-12 14:39:56.273836: W tensorflow/compiler/xla/stream_executor/platform/default/dso_loader.cc:64] Could not load dynamic library 'libnvinfer.so.7'; dlerror: libnvinfer.so.7: cannot open shared object file: No such file or directory\n",
      "2023-06-12 14:39:56.274010: W tensorflow/compiler/xla/stream_executor/platform/default/dso_loader.cc:64] Could not load dynamic library 'libnvinfer_plugin.so.7'; dlerror: libnvinfer_plugin.so.7: cannot open shared object file: No such file or directory\n",
      "2023-06-12 14:39:56.274027: W tensorflow/compiler/tf2tensorrt/utils/py_utils.cc:38] TF-TRT Warning: Cannot dlopen some TensorRT libraries. If you would like to use Nvidia GPU with TensorRT, please make sure the missing libraries mentioned above are installed properly.\n"
     ]
    },
    {
     "name": "stdout",
     "output_type": "stream",
     "text": [
      "(1, 150, 1)\n",
      "(1, 150)\n"
     ]
    }
   ],
   "source": [
    "#TODO SLIDING WINDOW\n",
    "from TSInterpret.InterpretabilityModels.Saliency.TSR import TSR\n",
    "int_mod=TSR(model, train_x.shape[-2],train_x.shape[-1], method='FO', mode='time')\n",
    "print(item.shape)\n",
    "exp= int_mod.explain(item,labels=label,TSR =True)"
   ]
  },
  {
   "cell_type": "code",
   "execution_count": 6,
   "metadata": {},
   "outputs": [
    {
     "name": "stdout",
     "output_type": "stream",
     "text": [
      "(150, 1)\n",
      "(1, 150, 1)\n",
      "time mode\n"
     ]
    },
    {
     "data": {
      "image/png": "[encoded data removed]",
      "text/plain": [
       "<Figure size 640x480 with 3 Axes>"
      ]
     },
     "metadata": {},
     "output_type": "display_data"
    }
   ],
   "source": [
    "print(exp.shape)\n",
    "print(np.array([test_x[0,:,:]]).shape)\n",
    "int_mod.plot(np.array([test_x[0,:,:]]),exp, figsize=(30,30))"
   ]
  }
 ],
 "metadata": {
  "kernelspec": {
   "display_name": "TSInterpret-x4eqnPOt",
   "language": "python",
   "name": "python3"
  },
  "language_info": {
   "codemirror_mode": {
    "name": "ipython",
    "version": 3
   },
   "file_extension": ".py",
   "mimetype": "text/x-python",
   "name": "python",
   "nbconvert_exporter": "python",
   "pygments_lexer": "ipython3",
   "version": "3.7.16"
  },
  "orig_nbformat": 4,
  "vscode": {
   "interpreter": {
    "hash": "f057a787916d84cdf9917d49e1e1f7c668875ada4681575e2b61fa684cbb94c6"
   }
  }
 },
 "nbformat": 4,
 "nbformat_minor": 2
}
