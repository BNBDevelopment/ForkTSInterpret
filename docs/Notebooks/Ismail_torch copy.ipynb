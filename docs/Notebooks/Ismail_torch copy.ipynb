{
 "cells": [
  {
   "cell_type": "markdown",
   "source": [
    "# Temporal Saliency Rescaling (TSR)\n",
    "Temporal Saliency Rescaling (TSR), developed by Ismail et al. (2020) [1], is built upon known saliency methods such as GradCam [2] or Shap [3]. Their benchmark study shows that traditional saliency methods fail to reliably and accurately identify feature importances due to the time and feature domain. TSR is proposed on top of the traditional saliency methods as a two-step approach for improving the quality of saliency maps. The importance of each time step is calculated, followed by the feature importance. \n",
    "\n",
    "The code in TSInterpret is based on the authors <a href='https://github.com/ayaabdelsalam91/TS-Interpretability-Benchmark'>implementation </a>.\n",
    "\n",
    "[1] Aya Abdelsalam Ismail, Mohamed Gunady, Héctor Corrada Bravo, and Soheil Feizi. Benchmarking Deep Learning Interpretability in Time Series Predictions. arXiv:2010.13924 [cs, stat], October 2020. arXiv: 2010.13924. \n",
    "\n",
    "[2] R. R. Selvaraju, M. Cogswell, A. Das, R. Vedantam, D. Parikh, and D. Batra. Grad-CAM: Visual Explanations from Deep Networks via Gradient-based Localization. Int J Comput Vis, 128(2):336–359, Feb. 2020. ISSN 0920-5691, 1573-1405. doi: 10.1007/s11263-019-01228-7. arXiv: 1610.02391.\n",
    "\n",
    "[3] S. M. Lundberg and S.-I. Lee. A Unified Approach to Interpreting Model Predictions. In I. Guyon, U. V. Luxburg, S. Bengio, H. Wallach, R. Fergus, S. Vishwanathan, and R.Garnett, editors, Advances in Neural Information Processing Systems 30, pages 4765–4774. Curran Associates, Inc., 2017."
   ],
   "metadata": {}
  },
  {
   "cell_type": "code",
   "execution_count": 1,
   "source": [
    "import pickle\n",
    "import numpy as np \n",
    "import torch \n",
    "from ClassificationModels.CNN_T import ResNetBaseline, get_all_preds, fit, UCRDataset\n",
    "import pandas as pd\n",
    "import os \n",
    "from tslearn.datasets import UCR_UEA_datasets\n",
    "from sklearn.metrics import confusion_matrix, accuracy_score, classification_report\n",
    "import sklearn\n",
    "import matplotlib as plt\n",
    "import seaborn as sns"
   ],
   "outputs": [],
   "metadata": {}
  },
  {
   "cell_type": "markdown",
   "source": [
    "# Dataset"
   ],
   "metadata": {}
  },
  {
   "cell_type": "code",
   "execution_count": 2,
   "source": [
    "dataset='Epilepsy'"
   ],
   "outputs": [],
   "metadata": {}
  },
  {
   "cell_type": "code",
   "execution_count": 3,
   "source": [
    "UCR_UEA_datasets().list_multivariate_datasets()"
   ],
   "outputs": [
    {
     "output_type": "execute_result",
     "data": {
      "text/plain": [
       "['ArticularyWordRecognition',\n",
       " 'AtrialFibrillation',\n",
       " 'BasicMotions',\n",
       " 'CharacterTrajectories',\n",
       " 'Cricket',\n",
       " 'DuckDuckGeese',\n",
       " 'EigenWorms',\n",
       " 'Epilepsy',\n",
       " 'EthanolConcentration',\n",
       " 'ERing',\n",
       " 'FaceDetection',\n",
       " 'FingerMovements',\n",
       " 'HandMovementDirection',\n",
       " 'Handwriting',\n",
       " 'Heartbeat',\n",
       " 'InsectWingbeat',\n",
       " 'JapaneseVowels',\n",
       " 'Libras',\n",
       " 'LSST',\n",
       " 'MotorImagery',\n",
       " 'NATOPS',\n",
       " 'PenDigits',\n",
       " 'PEMS-SF',\n",
       " 'Phoneme',\n",
       " 'RacketSports',\n",
       " 'SelfRegulationSCP1',\n",
       " 'SelfRegulationSCP2',\n",
       " 'SpokenArabicDigits',\n",
       " 'StandWalkJump',\n",
       " 'UWaveGestureLibrary']"
      ]
     },
     "metadata": {},
     "execution_count": 3
    }
   ],
   "metadata": {}
  },
  {
   "cell_type": "markdown",
   "source": [
    "# Load Data\n",
    "\n",
    "Load Data and reshape the data to fit a 1D-Conv ResNet. \n",
    "Note that the input for a 1D-Conv Resnet hat the shape (batch, features, timesteps)."
   ],
   "metadata": {}
  },
  {
   "cell_type": "code",
   "execution_count": 4,
   "source": [
    "X_train,y_train, X_test, y_test=UCR_UEA_datasets().load_dataset(dataset)\n",
    "train_x=X_train.reshape(-1,X_train.shape[-1],X_train.shape[-2])\n",
    "train_x=np.nan_to_num(train_x)\n",
    "test_x=X_test.reshape(-1,X_train.shape[-1],X_train.shape[-2])\n",
    "test_x=np.nan_to_num(test_x)\n",
    "train_y = y_train\n",
    "test_y=y_test\n"
   ],
   "outputs": [],
   "metadata": {}
  },
  {
   "cell_type": "code",
   "execution_count": 5,
   "source": [
    "enc1=sklearn.preprocessing.OneHotEncoder(sparse=False).fit(np.vstack((train_y.reshape(-1,1),test_y.reshape(-1,1))))\n",
    "pickle.dump(enc1,open(f'../../ClassificationModels/models/{dataset}/OneHotEncoder.pkl','wb'))\n",
    "\n",
    "train_y=enc1.transform(train_y.reshape(-1,1))\n",
    "test_y=enc1.transform(test_y.reshape(-1,1))    "
   ],
   "outputs": [],
   "metadata": {}
  },
  {
   "cell_type": "markdown",
   "source": [
    "# Model Training\n",
    "Trains a ResNet and saves the results."
   ],
   "metadata": {}
  },
  {
   "cell_type": "code",
   "execution_count": 6,
   "source": [
    "n_pred_classes =train_y.shape[1]\n",
    "train_dataset = UCRDataset(train_x.astype(np.float64),train_y.astype(np.int64))\n",
    "test_dataset = UCRDataset(test_x.astype(np.float64),test_y.astype(np.int64))\n",
    "train_loader = torch.utils.data.DataLoader(train_dataset,batch_size=16,shuffle=True)\n",
    "test_loader = torch.utils.data.DataLoader(test_dataset,batch_size=1,shuffle=False)\n",
    "model = ResNetBaseline(in_channels=X_train.shape[-1], num_pred_classes=n_pred_classes)\n",
    "#model.load_state_dict(torch.load(f'../../ClassificationModels/models/{dataset}/ResNet'))\n",
    "fit(model,train_loader,test_loader)\n",
    "if dataset in os.listdir('../../ClassificationModels/models/'):\n",
    "    print('Folder exists')\n",
    "else: \n",
    "    os.mkdir(f'../../ClassificationModels/models/{dataset}')\n",
    "torch.save(model.state_dict(), f'../../ClassificationModels/models/{dataset}/ResNet')\n",
    "\n",
    "test_preds, ground_truth = get_all_preds(model, test_loader)\n",
    "ground_truth=np.argmax(ground_truth,axis=1)\n",
    "#test_preds=np.argmax(test_preds,axis=1)\n",
    "sns.set(rc={'figure.figsize':(5,4)})\n",
    "heatmap=confusion_matrix(ground_truth, test_preds)\n",
    "sns.heatmap(heatmap, annot=True)\n",
    "plt.savefig(f'../../ClassificationModels/models/{dataset}/ResNet_confusion_matrix.png')\n",
    "plt.close()\n",
    "acc= accuracy_score(ground_truth, test_preds)\n",
    "a = classification_report(ground_truth, test_preds, output_dict=True)\n",
    "dataframe = pd.DataFrame.from_dict(a)\n",
    "dataframe.to_csv(f'../../ClassificationModels/models/{dataset}/classification_report.csv', index = False)\n",
    "\n",
    "model.eval()"
   ],
   "outputs": [
    {
     "output_type": "stream",
     "name": "stdout",
     "text": [
      "Epoch: 1, Train loss: 0.946, Val loss: 1.24\n",
      "Epoch: 2, Train loss: 1.162, Val loss: 1.21\n",
      "Epoch: 3, Train loss: 0.919, Val loss: 0.753\n",
      "Epoch: 4, Train loss: 0.688, Val loss: 0.584\n",
      "Epoch: 5, Train loss: 0.505, Val loss: 0.635\n",
      "Epoch: 6, Train loss: 0.439, Val loss: 0.705\n",
      "Epoch: 7, Train loss: 0.46, Val loss: 0.785\n",
      "Epoch: 8, Train loss: 0.281, Val loss: 0.866\n",
      "Epoch: 9, Train loss: 0.285, Val loss: 0.489\n",
      "Epoch: 10, Train loss: 0.295, Val loss: 0.647\n",
      "Epoch: 11, Train loss: 0.445, Val loss: 0.676\n",
      "Epoch: 12, Train loss: 0.347, Val loss: 0.591\n",
      "Epoch: 13, Train loss: 0.219, Val loss: 0.657\n",
      "Epoch: 14, Train loss: 0.152, Val loss: 0.422\n",
      "Epoch: 15, Train loss: 0.077, Val loss: 0.369\n",
      "Epoch: 16, Train loss: 0.05, Val loss: 0.52\n",
      "Epoch: 17, Train loss: 0.014, Val loss: 0.432\n",
      "Epoch: 18, Train loss: 0.012, Val loss: 0.453\n",
      "Epoch: 19, Train loss: 0.022, Val loss: 0.567\n",
      "Epoch: 20, Train loss: 0.017, Val loss: 0.536\n",
      "Epoch: 21, Train loss: 0.012, Val loss: 0.604\n",
      "Epoch: 22, Train loss: 0.021, Val loss: 0.653\n",
      "Epoch: 23, Train loss: 0.016, Val loss: 0.851\n",
      "Epoch: 24, Train loss: 0.018, Val loss: 0.797\n",
      "Epoch: 25, Train loss: 0.008, Val loss: 0.51\n",
      "Epoch: 26, Train loss: 0.003, Val loss: 0.511\n",
      "Epoch: 27, Train loss: 0.002, Val loss: 0.576\n",
      "Epoch: 28, Train loss: 0.001, Val loss: 0.611\n",
      "Epoch: 29, Train loss: 0.001, Val loss: 0.625\n",
      "Epoch: 30, Train loss: 0.001, Val loss: 0.629\n",
      "Epoch: 31, Train loss: 0.0, Val loss: 0.627\n",
      "Epoch: 32, Train loss: 0.0, Val loss: 0.628\n",
      "Epoch: 33, Train loss: 0.0, Val loss: 0.633\n",
      "Epoch: 34, Train loss: 0.0, Val loss: 0.641\n",
      "Epoch: 35, Train loss: 0.0, Val loss: 0.647\n",
      "Epoch: 36, Train loss: 0.0, Val loss: 0.652\n",
      "Epoch: 37, Train loss: 0.0, Val loss: 0.656\n",
      "Epoch: 38, Train loss: 0.0, Val loss: 0.664\n",
      "Epoch: 39, Train loss: 0.0, Val loss: 0.667\n",
      "Epoch: 40, Train loss: 0.0, Val loss: 0.671\n",
      "Epoch: 41, Train loss: 0.0, Val loss: 0.677\n",
      "Epoch: 42, Train loss: 0.0, Val loss: 0.681\n",
      "Epoch: 43, Train loss: 0.0, Val loss: 0.687\n",
      "Epoch: 44, Train loss: 0.0, Val loss: 0.691\n",
      "Epoch: 45, Train loss: 0.0, Val loss: 0.695\n",
      "Epoch: 46, Train loss: 0.0, Val loss: 0.699\n",
      "Epoch: 47, Train loss: 0.0, Val loss: 0.705\n",
      "Epoch: 48, Train loss: 0.0, Val loss: 0.709\n",
      "Epoch: 49, Train loss: 0.0, Val loss: 0.712\n",
      "Epoch: 50, Train loss: 0.0, Val loss: 0.716\n",
      "Epoch: 51, Train loss: 0.0, Val loss: 0.719\n",
      "Epoch: 52, Train loss: 0.0, Val loss: 0.723\n",
      "Epoch: 53, Train loss: 0.0, Val loss: 0.725\n",
      "Epoch: 54, Train loss: 0.0, Val loss: 0.728\n",
      "Epoch: 55, Train loss: 0.0, Val loss: 0.731\n",
      "Epoch: 56, Train loss: 0.0, Val loss: 0.735\n",
      "Epoch: 57, Train loss: 0.0, Val loss: 0.739\n",
      "Epoch: 58, Train loss: 0.0, Val loss: 0.742\n",
      "Epoch: 59, Train loss: 0.0, Val loss: 0.746\n",
      "Epoch: 60, Train loss: 0.0, Val loss: 0.749\n",
      "Epoch: 61, Train loss: 0.0, Val loss: 0.751\n",
      "Epoch: 62, Train loss: 0.0, Val loss: 0.754\n",
      "Epoch: 63, Train loss: 0.0, Val loss: 0.756\n",
      "Epoch: 64, Train loss: 0.0, Val loss: 0.76\n",
      "Epoch: 65, Train loss: 0.0, Val loss: 0.763\n",
      "Epoch: 66, Train loss: 0.0, Val loss: 0.765\n",
      "Epoch: 67, Train loss: 0.0, Val loss: 0.767\n",
      "Epoch: 68, Train loss: 0.0, Val loss: 0.771\n",
      "Epoch: 69, Train loss: 0.0, Val loss: 0.773\n",
      "Epoch: 70, Train loss: 0.0, Val loss: 0.776\n",
      "Epoch: 71, Train loss: 0.0, Val loss: 0.777\n",
      "Epoch: 72, Train loss: 0.0, Val loss: 0.78\n",
      "Epoch: 73, Train loss: 0.0, Val loss: 0.782\n",
      "Epoch: 74, Train loss: 0.0, Val loss: 0.784\n",
      "Epoch: 75, Train loss: 0.0, Val loss: 0.785\n",
      "Epoch: 76, Train loss: 0.0, Val loss: 0.788\n",
      "Epoch: 77, Train loss: 0.0, Val loss: 0.79\n",
      "Epoch: 78, Train loss: 0.0, Val loss: 0.792\n",
      "Epoch: 79, Train loss: 0.0, Val loss: 0.793\n",
      "Epoch: 80, Train loss: 0.0, Val loss: 0.795\n",
      "Epoch: 81, Train loss: 0.0, Val loss: 0.797\n",
      "Epoch: 82, Train loss: 0.0, Val loss: 0.799\n",
      "Epoch: 83, Train loss: 0.0, Val loss: 0.801\n",
      "Epoch: 84, Train loss: 0.0, Val loss: 0.803\n",
      "Epoch: 85, Train loss: 0.0, Val loss: 0.806\n",
      "Epoch: 86, Train loss: 0.0, Val loss: 0.808\n",
      "Epoch: 87, Train loss: 0.0, Val loss: 0.81\n",
      "Epoch: 88, Train loss: 0.0, Val loss: 0.812\n",
      "Epoch: 89, Train loss: 0.0, Val loss: 0.813\n",
      "Epoch: 90, Train loss: 0.0, Val loss: 0.815\n",
      "Epoch: 91, Train loss: 0.0, Val loss: 0.816\n",
      "Epoch: 92, Train loss: 0.0, Val loss: 0.818\n",
      "Epoch: 93, Train loss: 0.0, Val loss: 0.819\n",
      "Epoch: 94, Train loss: 0.0, Val loss: 0.821\n",
      "Epoch: 95, Train loss: 0.0, Val loss: 0.821\n",
      "Epoch: 96, Train loss: 0.0, Val loss: 0.823\n",
      "Epoch: 97, Train loss: 0.0, Val loss: 0.825\n",
      "Epoch: 98, Train loss: 0.0, Val loss: 0.828\n",
      "Epoch: 99, Train loss: 0.0, Val loss: 0.83\n",
      "Epoch: 100, Train loss: 0.0, Val loss: 0.831\n",
      "Epoch: 101, Train loss: 0.0, Val loss: 0.834\n",
      "Epoch: 102, Train loss: 0.0, Val loss: 0.836\n",
      "Epoch: 103, Train loss: 0.0, Val loss: 0.837\n",
      "Epoch: 104, Train loss: 0.0, Val loss: 0.839\n",
      "Epoch: 105, Train loss: 0.0, Val loss: 0.84\n",
      "Epoch: 106, Train loss: 0.0, Val loss: 0.842\n",
      "Epoch: 107, Train loss: 0.0, Val loss: 0.843\n",
      "Epoch: 108, Train loss: 0.0, Val loss: 0.844\n",
      "Epoch: 109, Train loss: 0.0, Val loss: 0.845\n",
      "Epoch: 110, Train loss: 0.0, Val loss: 0.846\n",
      "Epoch: 111, Train loss: 0.0, Val loss: 0.848\n",
      "Epoch: 112, Train loss: 0.0, Val loss: 0.85\n",
      "Epoch: 113, Train loss: 0.0, Val loss: 0.851\n",
      "Epoch: 114, Train loss: 0.0, Val loss: 0.852\n",
      "Epoch: 115, Train loss: 0.0, Val loss: 0.854\n",
      "Early stopping!\n",
      "Folder exists\n"
     ]
    },
    {
     "output_type": "error",
     "ename": "AttributeError",
     "evalue": "module 'matplotlib' has no attribute 'savefig'",
     "traceback": [
      "\u001b[0;31m---------------------------------------------------------------------------\u001b[0m",
      "\u001b[0;31mAttributeError\u001b[0m                            Traceback (most recent call last)",
      "\u001b[0;32m/tmp/ipykernel_15724/518851987.py\u001b[0m in \u001b[0;36m<module>\u001b[0;34m\u001b[0m\n\u001b[1;32m     19\u001b[0m \u001b[0mheatmap\u001b[0m\u001b[0;34m=\u001b[0m\u001b[0mconfusion_matrix\u001b[0m\u001b[0;34m(\u001b[0m\u001b[0mground_truth\u001b[0m\u001b[0;34m,\u001b[0m \u001b[0mtest_preds\u001b[0m\u001b[0;34m)\u001b[0m\u001b[0;34m\u001b[0m\u001b[0;34m\u001b[0m\u001b[0m\n\u001b[1;32m     20\u001b[0m \u001b[0msns\u001b[0m\u001b[0;34m.\u001b[0m\u001b[0mheatmap\u001b[0m\u001b[0;34m(\u001b[0m\u001b[0mheatmap\u001b[0m\u001b[0;34m,\u001b[0m \u001b[0mannot\u001b[0m\u001b[0;34m=\u001b[0m\u001b[0;32mTrue\u001b[0m\u001b[0;34m)\u001b[0m\u001b[0;34m\u001b[0m\u001b[0;34m\u001b[0m\u001b[0m\n\u001b[0;32m---> 21\u001b[0;31m \u001b[0mplt\u001b[0m\u001b[0;34m.\u001b[0m\u001b[0msavefig\u001b[0m\u001b[0;34m(\u001b[0m\u001b[0;34mf'../../ClassificationModels/models/{dataset}/ResNet_confusion_matrix.png'\u001b[0m\u001b[0;34m)\u001b[0m\u001b[0;34m\u001b[0m\u001b[0;34m\u001b[0m\u001b[0m\n\u001b[0m\u001b[1;32m     22\u001b[0m \u001b[0mplt\u001b[0m\u001b[0;34m.\u001b[0m\u001b[0mclose\u001b[0m\u001b[0;34m(\u001b[0m\u001b[0;34m)\u001b[0m\u001b[0;34m\u001b[0m\u001b[0;34m\u001b[0m\u001b[0m\n\u001b[1;32m     23\u001b[0m \u001b[0macc\u001b[0m\u001b[0;34m=\u001b[0m \u001b[0maccuracy_score\u001b[0m\u001b[0;34m(\u001b[0m\u001b[0mground_truth\u001b[0m\u001b[0;34m,\u001b[0m \u001b[0mtest_preds\u001b[0m\u001b[0;34m)\u001b[0m\u001b[0;34m\u001b[0m\u001b[0;34m\u001b[0m\u001b[0m\n",
      "\u001b[0;31mAttributeError\u001b[0m: module 'matplotlib' has no attribute 'savefig'"
     ]
    },
    {
     "output_type": "display_data",
     "data": {
      "image/png": "[encoded data removed]",
      "text/plain": [
       "<Figure size 360x288 with 2 Axes>"
      ]
     },
     "metadata": {}
    }
   ],
   "metadata": {}
  },
  {
   "cell_type": "markdown",
   "source": [
    "# Interpretability Algorithm\n",
    "\n",
    "Using a interpretability algorithm consists of 4 steps: \n",
    "\n",
    "1. Load the Interpretability Method\n",
    "2. Instaniate the Method with the desired Parameters\n",
    "3. Call the explain Method\n",
    "4. Plot the results\n",
    "\n",
    "## 2. Initialization \n",
    "The TSR works on gradient-based models. Currently support for TensorFlow (TF) and PYTorch (PYT) is available. For PYT the Subclass `Saliency_PTY` is used, while TF expects the use of `Saliency_TF`.\n",
    "The Initialization takes the following arguments:\n",
    "\n",
    "- `model`: The model to be explaines. \n",
    "- `NumTimeStep`: Number of Time Step.\n",
    "- `NumFetaures`: Number Features.\n",
    "- `method`: Saliency Methode to be used.\n",
    "\n",
    "      * Gradients (GRAD)\n",
    "      * Integrated Gradients (IG)\n",
    "      * Gradient Shap (GS)\n",
    "      * DeepLift (DL)\n",
    "      * DeepLiftShap (DLS)\n",
    "      * SmoothGrad (SG)\n",
    "      * Shapley Value Sampling(SVS)\n",
    "      * Feature Permutation (FP)\n",
    "      * Feature Sampling (FS)\n",
    "      * Occlusion (FO)\n",
    "      \n",
    "      \n",
    "- `mode`: Second dimension 'time' or 'feat'."
   ],
   "metadata": {}
  },
  {
   "cell_type": "code",
   "execution_count": null,
   "source": [
    "from TSInterpret.InterpretabilityModels.Saliency.SaliencyMethods_PTY import Saliency_PTY\n",
    "int_mod=Saliency_PTY(model, train_x.shape[-1],train_x.shape[-2], method='GS', \\\n",
    "    mode='feat')"
   ],
   "outputs": [
    {
     "output_type": "stream",
     "name": "stderr",
     "text": [
      "2022-08-05 16:51:36.181841: W tensorflow/stream_executor/platform/default/dso_loader.cc:64] Could not load dynamic library 'libcudart.so.11.0'; dlerror: libcudart.so.11.0: cannot open shared object file: No such file or directory\n",
      "2022-08-05 16:51:36.181859: I tensorflow/stream_executor/cuda/cudart_stub.cc:29] Ignore above cudart dlerror if you do not have a GPU set up on your machine.\n"
     ]
    }
   ],
   "metadata": {}
  },
  {
   "cell_type": "markdown",
   "source": [
    "## 3. Call the explain method. \n",
    "Prepeare the instance and the predicted label of the instance as parameters for the explain methods. \n",
    "\n",
    "- `item`: item to be explained\n",
    "- `labels`: predicted label for the item as class. \n",
    "- `TSR`: Turns temporal rescaling on / off."
   ],
   "metadata": {}
  },
  {
   "cell_type": "code",
   "execution_count": null,
   "source": [
    "item = np.array([train_x[1,:,:]])\n",
    "label =test_preds[1]"
   ],
   "outputs": [],
   "metadata": {}
  },
  {
   "cell_type": "code",
   "execution_count": null,
   "source": [
    "#TODO if I Turn on TSR --> ISsues\n",
    "exp=int_mod.explain(item,labels=label,TSR =True)"
   ],
   "outputs": [],
   "metadata": {}
  },
  {
   "cell_type": "markdown",
   "source": [
    "## 4. Visualization \n",
    "All plot function take as input the item to be explained and the returned explanation. As as additonal option a figsize can be given.\n",
    "For visualizing saliency there are two visualization options provided:\n",
    "1. On Sample \n",
    "2. Heatmap"
   ],
   "metadata": {}
  },
  {
   "cell_type": "code",
   "execution_count": null,
   "source": [
    "int_mod.plot(np.array([item]),exp, figsize=(30,30))"
   ],
   "outputs": [
    {
     "output_type": "stream",
     "name": "stdout",
     "text": [
      "NOT Time mode\n"
     ]
    },
    {
     "output_type": "error",
     "ename": "TypeError",
     "evalue": "'AxesSubplot' object is not subscriptable",
     "traceback": [
      "\u001b[0;31m---------------------------------------------------------------------------\u001b[0m",
      "\u001b[0;31mTypeError\u001b[0m                                 Traceback (most recent call last)",
      "\u001b[0;32m/tmp/ipykernel_30603/1923973637.py\u001b[0m in \u001b[0;36m<module>\u001b[0;34m\u001b[0m\n\u001b[0;32m----> 1\u001b[0;31m \u001b[0mint_mod\u001b[0m\u001b[0;34m.\u001b[0m\u001b[0mplot\u001b[0m\u001b[0;34m(\u001b[0m\u001b[0mnp\u001b[0m\u001b[0;34m.\u001b[0m\u001b[0marray\u001b[0m\u001b[0;34m(\u001b[0m\u001b[0;34m[\u001b[0m\u001b[0mitem\u001b[0m\u001b[0;34m]\u001b[0m\u001b[0;34m)\u001b[0m\u001b[0;34m,\u001b[0m\u001b[0mexp\u001b[0m\u001b[0;34m,\u001b[0m \u001b[0mfigsize\u001b[0m\u001b[0;34m=\u001b[0m\u001b[0;34m(\u001b[0m\u001b[0;36m30\u001b[0m\u001b[0;34m,\u001b[0m\u001b[0;36m30\u001b[0m\u001b[0;34m)\u001b[0m\u001b[0;34m)\u001b[0m\u001b[0;34m\u001b[0m\u001b[0;34m\u001b[0m\u001b[0m\n\u001b[0m",
      "\u001b[0;32m/media/jacqueline/Data/TSInterpret/TSInterpret/InterpretabilityModels/Saliency/Saliency_Base.py\u001b[0m in \u001b[0;36mplot\u001b[0;34m(self, item, exp, figsize, heatmap, save)\u001b[0m\n\u001b[1;32m     72\u001b[0m                 \u001b[0;31m#ax012.append(ax011[i].twinx())\u001b[0m\u001b[0;34m\u001b[0m\u001b[0;34m\u001b[0m\u001b[0;34m\u001b[0m\u001b[0m\n\u001b[1;32m     73\u001b[0m                 \u001b[0;31m#ax011[i].set_facecolor(\"#440154FF\")\u001b[0m\u001b[0;34m\u001b[0m\u001b[0;34m\u001b[0m\u001b[0;34m\u001b[0m\u001b[0m\n\u001b[0;32m---> 74\u001b[0;31m                 \u001b[0maxn012\u001b[0m\u001b[0;34m=\u001b[0m\u001b[0maxn\u001b[0m\u001b[0;34m[\u001b[0m\u001b[0mi\u001b[0m\u001b[0;34m]\u001b[0m\u001b[0;34m.\u001b[0m\u001b[0mtwinx\u001b[0m\u001b[0;34m(\u001b[0m\u001b[0;34m)\u001b[0m\u001b[0;34m\u001b[0m\u001b[0;34m\u001b[0m\u001b[0m\n\u001b[0m\u001b[1;32m     75\u001b[0m \u001b[0;34m\u001b[0m\u001b[0m\n\u001b[1;32m     76\u001b[0m \u001b[0;34m\u001b[0m\u001b[0m\n",
      "\u001b[0;31mTypeError\u001b[0m: 'AxesSubplot' object is not subscriptable"
     ]
    },
    {
     "output_type": "display_data",
     "data": {
      "image/png": "[encoded data removed]",
      "text/plain": [
       "<Figure size 640x480 with 2 Axes>"
      ]
     },
     "metadata": {}
    }
   ],
   "metadata": {}
  },
  {
   "cell_type": "code",
   "execution_count": null,
   "source": [
    "int_mod.plot(np.array([test_x[0,:,:]]),exp[0], heatmap = True)"
   ],
   "outputs": [
    {
     "output_type": "stream",
     "name": "stdout",
     "text": [
      "NOT Time mode\n"
     ]
    },
    {
     "output_type": "display_data",
     "data": {
      "image/png": "[encoded data removed]",
      "text/plain": [
       "<Figure size 640x480 with 3 Axes>"
      ]
     },
     "metadata": {}
    }
   ],
   "metadata": {}
  },
  {
   "cell_type": "markdown",
   "source": [
    "Additional Examples, e.g. for the use with LSTM or TF can be found <a href='https://github.com/JHoelli/TSInterpret/tree/main/docs/Notebooks'>here</a>."
   ],
   "metadata": {}
  }
 ],
 "metadata": {
  "orig_nbformat": 4,
  "language_info": {
   "name": "python",
   "version": "3.7.5",
   "mimetype": "text/x-python",
   "codemirror_mode": {
    "name": "ipython",
    "version": 3
   },
   "pygments_lexer": "ipython3",
   "nbconvert_exporter": "python",
   "file_extension": ".py"
  },
  "kernelspec": {
   "name": "python3",
   "display_name": "Python 3.7.5 64-bit ('TSInterpret-NXJYnQDU': pipenv)"
  },
  "interpreter": {
   "hash": "16db99a3fba429d86cb96b96f3cee6d3141a37b91b1d019974802969710b6701"
  }
 },
 "nbformat": 4,
 "nbformat_minor": 2
}