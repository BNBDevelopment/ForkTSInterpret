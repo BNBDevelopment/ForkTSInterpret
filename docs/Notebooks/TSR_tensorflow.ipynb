{
 "cells": [
  {
   "cell_type": "code",
   "execution_count": 1,
   "metadata": {},
   "outputs": [
    {
     "name": "stderr",
     "output_type": "stream",
     "text": [
      "/home/jacqueline/.local/share/virtualenvs/TSInterpret-x4eqnPOt/lib/python3.9/site-packages/tqdm/auto.py:21: TqdmWarning: IProgress not found. Please update jupyter and ipywidgets. See https://ipywidgets.readthedocs.io/en/stable/user_install.html\n",
      "  from .autonotebook import tqdm as notebook_tqdm\n",
      "2023-09-18 12:05:27.343430: I tensorflow/core/platform/cpu_feature_guard.cc:182] This TensorFlow binary is optimized to use available CPU instructions in performance-critical operations.\n",
      "To enable the following instructions: AVX2 FMA, in other operations, rebuild TensorFlow with the appropriate compiler flags.\n",
      "2023-09-18 12:05:28.603454: W tensorflow/compiler/tf2tensorrt/utils/py_utils.cc:38] TF-TRT Warning: Could not find TensorRT\n"
     ]
    }
   ],
   "source": [
    "import pickle\n",
    "import numpy as np \n",
    "import matplotlib.pyplot as plt\n",
    "import seaborn as snst\n",
    "from tslearn.datasets import UCR_UEA_datasets\n",
    "import tensorflow as tf "
   ]
  },
  {
   "cell_type": "markdown",
   "metadata": {},
   "source": [
    "# Parameters"
   ]
  },
  {
   "cell_type": "code",
   "execution_count": 2,
   "metadata": {},
   "outputs": [],
   "source": [
    "dataset='BasicMotions'#'GunPoint'"
   ]
  },
  {
   "cell_type": "markdown",
   "metadata": {},
   "source": [
    "# Load Data"
   ]
  },
  {
   "cell_type": "code",
   "execution_count": 3,
   "metadata": {},
   "outputs": [],
   "source": [
    "train_x,train_y, test_x, test_y=UCR_UEA_datasets().load_dataset(dataset)\n"
   ]
  },
  {
   "cell_type": "code",
   "execution_count": 4,
   "metadata": {},
   "outputs": [
    {
     "name": "stderr",
     "output_type": "stream",
     "text": [
      "/home/jacqueline/.local/share/virtualenvs/TSInterpret-x4eqnPOt/lib/python3.9/site-packages/sklearn/preprocessing/_encoders.py:972: FutureWarning: `sparse` was renamed to `sparse_output` in version 1.2 and will be removed in 1.4. `sparse_output` is ignored unless you leave `sparse` to its default value.\n",
      "  warnings.warn(\n"
     ]
    }
   ],
   "source": [
    "import sklearn\n",
    "enc1=sklearn.preprocessing.OneHotEncoder(sparse=False).fit(train_y.reshape(-1,1))#pickle.load(open(f'../../ClassificationModels/models/{dataset}/OneHotEncoder.pkl','rb'))\n",
    "train_y=enc1.transform(train_y.reshape(-1,1))\n",
    "test_y=enc1.transform(test_y.reshape(-1,1))\n",
    "    "
   ]
  },
  {
   "cell_type": "markdown",
   "metadata": {},
   "source": [
    "# Model Training"
   ]
  },
  {
   "cell_type": "code",
   "execution_count": 5,
   "metadata": {},
   "outputs": [
    {
     "name": "stderr",
     "output_type": "stream",
     "text": [
      "2023-09-18 12:05:30.263583: I tensorflow/compiler/xla/stream_executor/cuda/cuda_gpu_executor.cc:995] successful NUMA node read from SysFS had negative value (-1), but there must be at least one NUMA node, so returning NUMA node zero. See more at https://github.com/torvalds/linux/blob/v6.0/Documentation/ABI/testing/sysfs-bus-pci#L344-L355\n",
      "2023-09-18 12:05:30.264416: W tensorflow/core/common_runtime/gpu/gpu_device.cc:1960] Cannot dlopen some GPU libraries. Please make sure the missing libraries mentioned above are installed properly if you would like to use GPU. Follow the guide at https://www.tensorflow.org/install/gpu for how to download and setup the required libraries for your platform.\n",
      "Skipping registering GPU devices...\n"
     ]
    }
   ],
   "source": [
    "import tensorflow as tf \n",
    "\n",
    "\n",
    "#model = Classifier_CNN(f'./ClassificationModels/models/{dataset}', (train_x.shape[1], train_x.shape[2]), train_y.shape[-1], True)\n",
    "#y_true = np.argmax(test_y, axis=1)\n",
    "#model.fit(train_x,train_y,test_x,test_y)\n",
    "\n",
    "model_to_explain = tf.keras.models.load_model(f'../../ClassificationModels/models/{dataset}/cnn/{dataset}best_model.hdf5')"
   ]
  },
  {
   "cell_type": "markdown",
   "metadata": {},
   "source": [
    "# Explanation Algo"
   ]
  },
  {
   "cell_type": "code",
   "execution_count": 6,
   "metadata": {},
   "outputs": [
    {
     "name": "stdout",
     "output_type": "stream",
     "text": [
      "Mode in TF Saliency time\n"
     ]
    }
   ],
   "source": [
    "from TSInterpret.InterpretabilityModels.Saliency.TSR import TSR\n",
    "int_mod=TSR(model_to_explain, train_x.shape[-2],train_x.shape[-1], method='IG',mode='time')"
   ]
  },
  {
   "cell_type": "code",
   "execution_count": 7,
   "metadata": {},
   "outputs": [
    {
     "name": "stdout",
     "output_type": "stream",
     "text": [
      "(1, 100, 6)\n"
     ]
    }
   ],
   "source": [
    "print(np.array([test_x[0,:,:]]).shape)"
   ]
  },
  {
   "cell_type": "code",
   "execution_count": 9,
   "metadata": {},
   "outputs": [],
   "source": [
    "item= np.array([test_x[0,:,:]])\n",
    "label=int(np.argmax(test_y[0]))\n"
   ]
  },
  {
   "cell_type": "code",
   "execution_count": 10,
   "metadata": {},
   "outputs": [
    {
     "data": {
      "text/plain": [
       "array([[[-7.4065300e-01,  7.5650900e-01, -2.7580900e-01, -4.2347600e-01,\n",
       "          1.3317000e-02,  1.3317000e-02],\n",
       "        [-7.4065300e-01,  7.5650900e-01, -2.7580900e-01, -4.2347600e-01,\n",
       "          1.3317000e-02,  1.3317000e-02],\n",
       "        [ 1.0208449e+01, -9.2169700e+00, -1.2378901e+01, -1.4699153e+01,\n",
       "          4.5783370e+00, -5.0550810e+00],\n",
       "        [ 2.8670090e+00, -5.9771150e+00, -6.5409940e+00,  5.5611220e+00,\n",
       "          2.1786390e+00, -1.6246570e+00],\n",
       "        [-1.9430100e-01, -3.7119960e+00, -7.9512600e-01, -1.7285290e+00,\n",
       "         -1.0546960e+00, -2.7699100e-01],\n",
       "        [-1.9430100e-01, -3.7119960e+00, -7.9512600e-01, -1.7285290e+00,\n",
       "         -1.0546960e+00, -2.7699100e-01],\n",
       "        [-2.4961800e-01,  7.3168600e-01, -1.8674500e-01, -3.0628800e-01,\n",
       "         -1.9975300e-01,  4.6609000e-01],\n",
       "        [ 5.1607900e-01,  1.0701280e+00,  1.0928030e+00,  2.2905000e-01,\n",
       "         -5.0870400e-01,  2.5302000e-01],\n",
       "        [-2.5555200e-01,  5.8295600e-01,  1.3254650e+00, -1.6512900e-01,\n",
       "         -9.5881000e-02,  1.8110900e-01],\n",
       "        [-3.1986400e-01,  6.5684000e-01,  1.1112550e+00, -8.2565000e-02,\n",
       "         -1.7578300e-01,  2.6630000e-03],\n",
       "        [ 3.5398200e-01,  7.3894300e-01,  9.2642000e-01,  4.7941000e-02,\n",
       "         -8.7891000e-02, -4.5277000e-02],\n",
       "        [ 3.5398200e-01,  7.3894300e-01,  9.2642000e-01,  4.7941000e-02,\n",
       "         -8.7891000e-02, -4.5277000e-02],\n",
       "        [ 1.0610100e-01,  6.2387800e-01,  5.6790000e-01,  7.4574000e-02,\n",
       "          1.8644000e-02,  3.7287000e-02],\n",
       "        [ 1.0610100e-01,  6.2387800e-01,  5.6790000e-01,  7.4574000e-02,\n",
       "          1.8644000e-02,  3.7287000e-02],\n",
       "        [ 2.2727000e-01,  3.4234900e-01,  2.6862200e-01, -5.3267000e-02,\n",
       "         -2.6630000e-03,  3.1960000e-02],\n",
       "        [ 2.2727000e-01,  3.4234900e-01,  2.6862200e-01, -5.3267000e-02,\n",
       "         -2.6630000e-03,  3.1960000e-02],\n",
       "        [-1.1972300e-01,  4.8738100e-01,  3.2727300e-01, -2.3970000e-02,\n",
       "         -1.8644000e-02,  2.6634000e-02],\n",
       "        [-2.3624100e-01,  4.8040400e-01,  4.0812000e-01,  1.1186200e-01,\n",
       "         -2.3970000e-02,  4.2614000e-02],\n",
       "        [-2.3729700e-01,  4.3015700e-01,  5.1407600e-01, -1.0919800e-01,\n",
       "         -4.2614000e-02, -2.6630000e-03],\n",
       "        [-1.8502400e-01,  4.4745300e-01,  3.1118600e-01,  1.5980000e-02,\n",
       "          5.0604000e-02, -5.5931000e-02],\n",
       "        [-5.8000000e-05,  2.4974300e-01,  1.3454200e-01, -5.3270000e-03,\n",
       "         -4.5277000e-02, -7.1911000e-02],\n",
       "        [-2.7902200e-01,  2.4230000e-01,  2.9389000e-01,  2.9297000e-02,\n",
       "          7.9900000e-03, -1.3317000e-02],\n",
       "        [-1.2031100e-01,  4.5044100e-01,  4.1998800e-01,  1.0653500e-01,\n",
       "         -2.3970000e-02,  0.0000000e+00],\n",
       "        [-1.4623200e-01,  3.0965400e-01,  3.0098800e-01,  7.9901000e-02,\n",
       "          1.3317000e-02,  1.3317000e-02],\n",
       "        [-1.2745700e-01,  8.3404000e-02,  2.4730500e-01,  1.0120800e-01,\n",
       "          1.8644000e-02,  6.6584000e-02],\n",
       "        [-1.3011700e-01,  2.9210800e-01,  1.7298400e-01,  1.5181200e-01,\n",
       "          5.5931000e-02,  1.3050500e-01],\n",
       "        [-5.2044000e-02,  3.1134300e-01, -1.6058000e-02,  7.9900000e-03,\n",
       "          2.3970000e-02,  1.7311900e-01],\n",
       "        [-2.8042200e-01,  5.4399300e-01, -3.1500000e-03, -1.8644000e-02,\n",
       "          3.1960000e-02,  1.9975300e-01],\n",
       "        [-2.9678500e-01,  6.9821800e-01, -7.5551000e-02, -6.3921000e-02,\n",
       "          1.3317000e-02,  1.3849500e-01],\n",
       "        [-1.3550900e-01,  4.7522700e-01,  6.1992000e-02, -1.1718800e-01,\n",
       "         -4.7941000e-02,  6.1258000e-02],\n",
       "        [-1.6446800e-01,  3.5367200e-01,  1.1662500e-01, -4.5277000e-02,\n",
       "         -2.9297000e-02,  1.5980000e-02],\n",
       "        [-2.2289000e-01,  1.3176700e-01,  1.5260500e-01,  0.0000000e+00,\n",
       "          1.3317000e-02, -7.1911000e-02],\n",
       "        [-1.6718000e-02,  7.6935000e-02, -4.5476000e-02, -7.9900000e-03,\n",
       "          0.0000000e+00, -2.9297000e-02],\n",
       "        [-2.2521300e-01,  3.8564600e-01,  5.4326000e-02, -5.0604000e-02,\n",
       "          5.0604000e-02, -1.3317000e-02],\n",
       "        [-3.8070000e-01,  3.4483800e-01, -2.3703600e-01, -8.5228000e-02,\n",
       "          5.5931000e-02, -2.6634000e-02],\n",
       "        [-2.6629700e-01,  2.1288000e-01, -1.3503200e-01, -6.3921000e-02,\n",
       "         -2.6634000e-02, -7.9901000e-02],\n",
       "        [-1.9038900e-01,  8.0260000e-03, -3.1830000e-02,  0.0000000e+00,\n",
       "         -5.3267000e-02, -5.0604000e-02],\n",
       "        [-1.7000800e-01, -1.5824400e-01,  1.6809300e-01,  6.6584000e-02,\n",
       "         -3.9951000e-02,  0.0000000e+00],\n",
       "        [-2.0573000e-02,  3.5338000e-02,  1.2559000e-02,  1.0653000e-02,\n",
       "          2.9297000e-02,  9.0555000e-02],\n",
       "        [-1.5485000e-01,  5.0888900e-01, -2.3324000e-02, -2.9297000e-02,\n",
       "         -2.3970000e-02,  1.7311900e-01],\n",
       "        [-1.0650800e-01,  6.2132200e-01,  9.2941000e-02,  3.4624000e-02,\n",
       "         -3.9951000e-02,  7.9901000e-02],\n",
       "        [-2.4108900e-01,  3.1963600e-01,  1.7730000e-02,  2.6630000e-03,\n",
       "          4.7941000e-02, -2.9297000e-02],\n",
       "        [-2.1136000e-01, -8.5015000e-02, -2.5398200e-01,  0.0000000e+00,\n",
       "          5.3270000e-03, -4.7941000e-02],\n",
       "        [-2.1136000e-01, -8.5015000e-02, -2.5398200e-01,  0.0000000e+00,\n",
       "          5.3270000e-03, -4.7941000e-02],\n",
       "        [-2.3514200e-01, -2.4743000e-02, -1.8914400e-01,  7.4574000e-02,\n",
       "         -2.3970000e-02,  5.8594000e-02],\n",
       "        [-2.9755900e-01,  2.7533700e-01, -1.1696600e-01,  0.0000000e+00,\n",
       "         -5.0604000e-02,  1.0919800e-01],\n",
       "        [-1.5993700e-01,  3.3537800e-01, -8.7871000e-02,  0.0000000e+00,\n",
       "         -6.9248000e-02,  6.3921000e-02],\n",
       "        [-1.9443000e-02,  2.3731900e-01, -5.3194000e-02, -1.3317000e-02,\n",
       "         -6.9248000e-02,  1.3317000e-02],\n",
       "        [-2.0735300e-01, -2.7470000e-03,  3.2030000e-02, -7.9900000e-03,\n",
       "         -3.9951000e-02,  2.1307000e-02],\n",
       "        [-9.6013000e-02, -7.8370000e-03,  3.9653000e-02, -3.1960000e-02,\n",
       "         -3.9951000e-02,  3.4624000e-02],\n",
       "        [-2.4333000e-02, -1.1572000e-02, -3.9803000e-02,  6.1258000e-02,\n",
       "          2.6634000e-02,  3.7287000e-02],\n",
       "        [-1.3606800e-01,  1.0138100e-01, -1.3352000e-01, -1.0387200e-01,\n",
       "          2.6634000e-02,  5.5931000e-02],\n",
       "        [-1.6463000e-01,  8.8272000e-02, -1.6589000e-01,  0.0000000e+00,\n",
       "          3.9951000e-02,  1.3317000e-02],\n",
       "        [-2.5286900e-01,  1.2369100e-01, -1.2357700e-01, -2.6630000e-03,\n",
       "          3.1960000e-02,  1.0653000e-02],\n",
       "        [-2.9622000e-02,  1.1910000e-03, -1.1366900e-01,  4.7941000e-02,\n",
       "          3.7287000e-02, -4.5277000e-02],\n",
       "        [-1.5393700e-01,  1.5601000e-02, -1.6645600e-01,  2.9297000e-02,\n",
       "          2.9297000e-02, -2.9297000e-02],\n",
       "        [-1.5869900e-01,  5.9553000e-02, -1.4369000e-01,  1.3317000e-02,\n",
       "          1.3317000e-02, -1.0653000e-02],\n",
       "        [-3.6343000e-02,  9.0908000e-02,  3.1890000e-03,  4.5277000e-02,\n",
       "         -2.1307000e-02, -2.6630000e-03],\n",
       "        [-5.8921000e-02,  2.4239400e-01, -9.3950000e-02,  3.1960000e-02,\n",
       "         -2.9297000e-02, -1.5980000e-02],\n",
       "        [-1.7219600e-01,  9.9569000e-02, -3.6416000e-02,  5.5931000e-02,\n",
       "          1.8644000e-02, -5.8594000e-02],\n",
       "        [-1.5365400e-01,  4.5989000e-02, -9.1092000e-02,  3.4624000e-02,\n",
       "          5.3270000e-03, -5.5931000e-02],\n",
       "        [-1.5977900e-01,  9.1239000e-02, -1.1256900e-01,  1.0653000e-02,\n",
       "          0.0000000e+00, -1.3317000e-02],\n",
       "        [-2.7524900e-01,  2.1562000e-02, -8.2327000e-02,  1.3317000e-02,\n",
       "         -2.9297000e-02, -2.6630000e-03],\n",
       "        [-6.4747000e-02,  9.7407000e-02, -3.1153000e-02, -2.9297000e-02,\n",
       "         -2.9297000e-02,  0.0000000e+00],\n",
       "        [-4.5516000e-02,  1.9493000e-02, -7.5810000e-03,  0.0000000e+00,\n",
       "         -1.0653000e-02,  2.6630000e-03],\n",
       "        [-2.0857000e-01,  6.7630000e-02, -4.1635000e-02,  2.6630000e-03,\n",
       "          5.3270000e-03,  7.9900000e-03],\n",
       "        [-2.5796300e-01,  2.4291000e-02, -1.3176100e-01, -2.6630000e-03,\n",
       "          4.2614000e-02,  7.9900000e-03],\n",
       "        [-2.5796300e-01,  2.4291000e-02, -1.3176100e-01, -2.6630000e-03,\n",
       "          4.2614000e-02,  7.9900000e-03],\n",
       "        [-1.2749200e-01,  4.4490000e-03,  7.9643000e-02,  3.7287000e-02,\n",
       "         -1.5980000e-02,  4.7941000e-02],\n",
       "        [-3.7164600e-01,  2.0060100e-01,  3.4090000e-02, -5.3267000e-02,\n",
       "          5.0604000e-02,  6.6584000e-02],\n",
       "        [-3.7164600e-01,  2.0060100e-01,  3.4090000e-02, -5.3267000e-02,\n",
       "          5.0604000e-02,  6.6584000e-02],\n",
       "        [-4.2092300e-01,  2.0053000e-01, -3.9108500e-01, -1.6512900e-01,\n",
       "          8.5228000e-02, -7.9900000e-03],\n",
       "        [-1.0643200e-01, -1.0008300e-01,  3.1064000e-02, -1.0120800e-01,\n",
       "         -7.9901000e-02, -3.1960000e-02],\n",
       "        [-1.0643200e-01, -1.0008300e-01,  3.1064000e-02, -1.0120800e-01,\n",
       "         -7.9901000e-02, -3.1960000e-02],\n",
       "        [-1.9206800e-01,  5.2990000e-03,  4.1021000e-02, -1.1718800e-01,\n",
       "          0.0000000e+00,  1.0653000e-02],\n",
       "        [-1.9206800e-01,  5.2990000e-03,  4.1021000e-02, -1.1718800e-01,\n",
       "          0.0000000e+00,  1.0653000e-02],\n",
       "        [-9.6508000e-02, -1.3859400e-01, -9.5194000e-02, -5.3270000e-03,\n",
       "          2.1307000e-02,  2.6630000e-03],\n",
       "        [-1.2487500e-01,  5.3983000e-02, -1.7989700e-01, -1.5980000e-02,\n",
       "          3.7287000e-02,  2.9297000e-02],\n",
       "        [ 1.1774000e-02,  3.0407100e-01, -7.6537000e-02, -9.5881000e-02,\n",
       "         -2.1307000e-02,  3.9951000e-02],\n",
       "        [-1.2239500e-01,  2.0045200e-01, -6.1903000e-02, -1.5447600e-01,\n",
       "         -7.9900000e-03,  2.6630000e-03],\n",
       "        [-2.7811900e-01,  4.1175000e-02,  9.5472000e-02, -1.8377300e-01,\n",
       "          5.3270000e-03,  0.0000000e+00],\n",
       "        [ 3.1465000e-02, -2.4515800e-01, -1.5350000e-03, -1.1985200e-01,\n",
       "          3.9951000e-02, -3.4624000e-02],\n",
       "        [-9.5036000e-02, -1.6427500e-01, -7.1989000e-02, -9.0555000e-02,\n",
       "          3.7287000e-02,  2.6630000e-03],\n",
       "        [-1.6269700e-01, -1.0848900e-01, -1.9668900e-01,  2.9297000e-02,\n",
       "          3.1960000e-02, -2.1307000e-02],\n",
       "        [-2.7052600e-01, -1.4003300e-01, -2.1615300e-01,  1.0653000e-02,\n",
       "          1.0653000e-02,  3.4624000e-02],\n",
       "        [-1.3593400e-01,  1.5596000e-01, -4.9025000e-02,  5.3270000e-03,\n",
       "         -2.1307000e-02,  5.3267000e-02],\n",
       "        [-9.7062000e-02, -1.0230500e-01,  4.6421000e-02,  7.4574000e-02,\n",
       "         -1.5980000e-02, -2.6634000e-02],\n",
       "        [-2.5969600e-01, -4.9516000e-02,  1.8047300e-01,  1.6779200e-01,\n",
       "         -3.1960000e-02,  0.0000000e+00],\n",
       "        [-1.9538500e-01,  1.3666200e-01, -1.4838900e-01,  1.4914900e-01,\n",
       "          5.0604000e-02,  1.5980000e-02],\n",
       "        [-2.3215800e-01,  1.3346300e-01, -1.9167600e-01,  1.0919800e-01,\n",
       "         -1.0653000e-02,  4.7941000e-02],\n",
       "        [-1.3932500e-01,  6.9999000e-02, -1.7066000e-02,  6.9248000e-02,\n",
       "         -2.9297000e-02,  6.3921000e-02],\n",
       "        [-1.8862700e-01,  1.6730400e-01,  8.3551000e-02,  4.2614000e-02,\n",
       "         -2.9297000e-02,  7.1911000e-02],\n",
       "        [-1.8862700e-01,  1.6730400e-01,  8.3551000e-02,  4.2614000e-02,\n",
       "         -2.9297000e-02,  7.1911000e-02],\n",
       "        [-2.4470800e-01,  1.3822400e-01, -4.3955000e-02,  1.3317000e-02,\n",
       "          3.4624000e-02,  1.5980000e-02],\n",
       "        [-1.6069200e-01,  1.4172600e-01, -1.4753200e-01,  1.0653000e-02,\n",
       "          2.9297000e-02,  0.0000000e+00],\n",
       "        [-9.4480000e-02,  9.0568000e-02, -1.7367900e-01,  0.0000000e+00,\n",
       "         -1.0653000e-02,  0.0000000e+00],\n",
       "        [-9.4480000e-02,  9.0568000e-02, -1.7367900e-01,  0.0000000e+00,\n",
       "         -1.0653000e-02,  0.0000000e+00],\n",
       "        [-3.2918200e-01, -4.6058000e-02,  3.5301000e-02, -2.1307000e-02,\n",
       "         -2.3970000e-02,  2.9297000e-02],\n",
       "        [-2.8719200e-01,  9.8725000e-02,  2.6540000e-02,  2.6630000e-03,\n",
       "         -2.3970000e-02,  2.3970000e-02],\n",
       "        [-2.8719200e-01,  9.8725000e-02,  2.6540000e-02,  2.6630000e-03,\n",
       "         -2.3970000e-02,  2.3970000e-02]]])"
      ]
     },
     "execution_count": 10,
     "metadata": {},
     "output_type": "execute_result"
    }
   ],
   "source": [
    "item"
   ]
  },
  {
   "cell_type": "code",
   "execution_count": null,
   "metadata": {},
   "outputs": [
    {
     "data": {
      "text/plain": [
       "0"
      ]
     },
     "execution_count": 15,
     "metadata": {},
     "output_type": "execute_result"
    }
   ],
   "source": [
    "label"
   ]
  },
  {
   "cell_type": "code",
   "execution_count": 11,
   "metadata": {},
   "outputs": [],
   "source": [
    "exp=int_mod.explain(item,labels=label,TSR =True)"
   ]
  },
  {
   "cell_type": "code",
   "execution_count": 12,
   "metadata": {},
   "outputs": [
    {
     "data": {
      "text/plain": [
       "array([[1.11240198e-02, 0.00000000e+00, 0.00000000e+00, 1.47400523e-02,\n",
       "        0.00000000e+00, 4.06622132e-02],\n",
       "       [0.00000000e+00, 0.00000000e+00, 0.00000000e+00, 1.47400523e-02,\n",
       "        0.00000000e+00, 5.17717107e-02],\n",
       "       [3.73221028e-03, 0.00000000e+00, 6.99325524e-02, 3.63055475e-03,\n",
       "        0.00000000e+00, 4.80685449e-02],\n",
       "       [1.85303514e-02, 8.27253934e-02, 2.65237868e-04, 3.69590473e-02,\n",
       "        5.54748766e-02, 4.06622132e-02],\n",
       "       [1.85303514e-02, 7.83516427e-02, 0.00000000e+00, 3.67412141e-03,\n",
       "        2.21609062e-02, 5.54748766e-02],\n",
       "       [1.85303514e-02, 8.28704816e-02, 0.00000000e+00, 3.67412141e-03,\n",
       "        3.32704037e-02, 0.00000000e+00],\n",
       "       [1.48271856e-02, 1.36512209e-04, 0.00000000e+00, 3.65959919e-03,\n",
       "        2.95817601e-02, 1.52340925e-04],\n",
       "       [1.85739181e-02, 1.28928197e-04, 0.00000000e+00, 1.47690967e-02,\n",
       "        2.58785942e-02, 1.45072322e-04],\n",
       "       [2.59802498e-02, 1.17452344e-04, 0.00000000e+00, 7.36276503e-03,\n",
       "        2.21899506e-02, 3.10946336e-04],\n",
       "       [1.48707523e-02, 1.36996096e-04, 7.40512150e-02, 1.47690967e-02,\n",
       "        1.10949753e-02, 1.65805503e-04],\n",
       "       [2.22770839e-02, 1.37429049e-04, 8.10893047e-02, 2.58640720e-02,\n",
       "        7.40633169e-03, 1.54751803e-04],\n",
       "       [3.33575370e-02, 1.62139654e-04, 7.75624801e-02, 4.06767354e-02,\n",
       "        1.48126634e-02, 1.45158912e-04],\n",
       "       [5.18443218e-02, 4.80685449e-02, 0.00000000e+00, 2.58640720e-02,\n",
       "        1.85303514e-02, 2.74977992e-04],\n",
       "       [5.18443218e-02, 4.80685449e-02, 1.40990000e-01, 2.95672379e-02,\n",
       "        1.85448737e-02, 2.90254547e-04],\n",
       "       [5.18443218e-02, 3.69590473e-02, 7.79308131e-02, 1.10514087e-02,\n",
       "        1.47981412e-02, 3.08383592e-04],\n",
       "       [3.40882164e-04, 2.95527157e-02, 1.17194307e-01, 3.32558815e-02,\n",
       "        3.70316584e-03, 3.08383592e-04],\n",
       "       [3.59824188e-04, 2.58495498e-02, 1.48017717e-01, 4.80685449e-02,\n",
       "        1.11240198e-02, 1.45121690e-04],\n",
       "       [3.36496122e-04, 1.47400523e-02, 1.93480641e-01, 4.06622132e-02,\n",
       "        0.00000000e+00, 1.45079815e-04],\n",
       "       [3.66787191e-04, 1.47400523e-02, 2.66337496e-01, 5.17717107e-02,\n",
       "        3.73221028e-03, 4.35365070e-04],\n",
       "       [5.48490607e-04, 3.63055475e-03, 2.62005034e-01, 4.80685449e-02,\n",
       "        1.85303514e-02, 4.86619961e-04],\n",
       "       [6.63094671e-04, 3.69590473e-02, 5.54748766e-02, 4.06622132e-02,\n",
       "        1.85303514e-02, 1.53630672e-04],\n",
       "       [4.16575980e-04, 3.67412141e-03, 2.21609062e-02, 5.54748766e-02,\n",
       "        1.85303514e-02, 1.62173154e-04],\n",
       "       [4.16798828e-04, 3.67412141e-03, 3.32704037e-02, 7.39826379e-02,\n",
       "        1.48271856e-02, 1.36512209e-04],\n",
       "       [3.99432210e-04, 3.65959919e-03, 2.95817601e-02, 3.88469358e-02,\n",
       "        1.85739181e-02, 1.28928197e-04],\n",
       "       [4.52488688e-04, 1.47690967e-02, 2.58785942e-02, 0.00000000e+00,\n",
       "        2.59802498e-02, 1.17452344e-04],\n",
       "       [3.97708238e-04, 7.36276503e-03, 2.21899506e-02, 0.00000000e+00,\n",
       "        1.48707523e-02, 1.36996096e-04],\n",
       "       [2.90396922e-04, 1.47690967e-02, 1.10949753e-02, 0.00000000e+00,\n",
       "        2.22770839e-02, 1.37429049e-04],\n",
       "       [1.58998637e-04, 2.58640720e-02, 7.40633169e-03, 0.00000000e+00,\n",
       "        3.33575370e-02, 1.62139654e-04],\n",
       "       [1.52083294e-04, 4.06767354e-02, 1.48126634e-02, 0.00000000e+00,\n",
       "        5.18443218e-02, 4.80685449e-02],\n",
       "       [1.52805516e-04, 2.58640720e-02, 1.85303514e-02, 0.00000000e+00,\n",
       "        5.18443218e-02, 4.80685449e-02],\n",
       "       [1.38225491e-04, 2.95672379e-02, 1.85448737e-02, 0.00000000e+00,\n",
       "        5.18443218e-02, 3.69590473e-02],\n",
       "       [1.52805516e-04, 1.10514087e-02, 1.47981412e-02, 0.00000000e+00,\n",
       "        2.89749839e-02, 2.95527157e-02],\n",
       "       [1.53195173e-04, 3.32558815e-02, 3.70316584e-03, 0.00000000e+00,\n",
       "        3.05850560e-02, 2.58495498e-02],\n",
       "       [1.45115409e-04, 4.80685449e-02, 1.11240198e-02, 3.70060310e-02,\n",
       "        5.72043408e-02, 1.47400523e-02],\n",
       "       [1.89686903e-04, 4.06622132e-02, 0.00000000e+00, 3.69953529e-02,\n",
       "        6.23538224e-02, 1.47400523e-02],\n",
       "       [1.74076795e-04, 5.17717107e-02, 3.73221028e-03, 3.70060310e-02,\n",
       "        1.04898829e-01, 3.63055475e-03],\n",
       "       [2.05494145e-04, 4.80685449e-02, 1.85303514e-02, 8.27253934e-02,\n",
       "        1.35271313e-01, 3.69590473e-02],\n",
       "       [5.54748766e-02, 4.06622132e-02, 1.85303514e-02, 1.17527464e-01,\n",
       "        1.41635833e-01, 3.67412141e-03],\n",
       "       [2.21609062e-02, 5.54748766e-02, 1.85303514e-02, 8.27083084e-02,\n",
       "        1.77139502e-01, 3.67412141e-03],\n",
       "       [3.32704037e-02, 6.65843741e-01, 1.48271856e-02, 6.96212264e-02,\n",
       "        1.35806951e-01, 3.65959919e-03],\n",
       "       [2.95817601e-02, 7.76938716e-01, 1.85739181e-02, 6.57533804e-02,\n",
       "        1.92307692e-01, 1.47690967e-02],\n",
       "       [2.58785942e-02, 7.02875399e-01, 2.59802498e-02, 5.99006957e-02,\n",
       "        2.36636402e-01, 7.36276503e-03],\n",
       "       [2.21899506e-02, 5.55039210e-01, 1.48707523e-02, 1.39736018e-01,\n",
       "        3.33230468e-01, 1.47690967e-02],\n",
       "       [1.10949753e-02, 5.91925646e-01, 2.22770839e-02, 1.05133222e-01,\n",
       "        4.05446524e-01, 2.58640720e-02],\n",
       "       [7.40633169e-03, 5.91925646e-01, 3.33575370e-02, 1.24036835e-01,\n",
       "        3.49031161e-01, 4.06767354e-02],\n",
       "       [1.48126634e-02, 6.66279407e-01, 5.18443218e-02, 4.80685449e-02,\n",
       "        3.89654065e-01, 2.58640720e-02],\n",
       "       [1.85303514e-02, 6.66134185e-01, 5.18443218e-02, 4.80685449e-02,\n",
       "        3.52475001e-01, 2.95672379e-02],\n",
       "       [1.85448737e-02, 6.66134185e-01, 5.18443218e-02, 3.69590473e-02,\n",
       "        3.89654065e-01, 1.10514087e-02],\n",
       "       [1.47981412e-02, 6.29102527e-01, 6.66424630e-01, 2.95527157e-02,\n",
       "        3.90647691e-01, 3.32558815e-02],\n",
       "       [3.70316584e-03, 6.29102527e-01, 7.03456288e-01, 2.58495498e-02,\n",
       "        3.70044293e-01, 4.80685449e-02],\n",
       "       [1.11240198e-02, 6.29102527e-01, 6.29247749e-01, 1.47400523e-02,\n",
       "        5.32071762e-01, 4.06622132e-02],\n",
       "       [0.00000000e+00, 5.91925646e-01, 5.92361313e-01, 1.47400523e-02,\n",
       "        4.88285410e-01, 5.17717107e-02],\n",
       "       [3.73221028e-03, 6.29102527e-01, 6.29392971e-01, 3.63055475e-03,\n",
       "        6.28812082e-01, 4.80685449e-02],\n",
       "       [1.85303514e-02, 7.03165844e-01, 7.77810049e-01, 3.69590473e-02,\n",
       "        5.54748766e-02, 4.06622132e-02],\n",
       "       [1.85303514e-02, 6.65988963e-01, 8.14406041e-01, 3.67412141e-03,\n",
       "        2.21609062e-02, 5.54748766e-02],\n",
       "       [1.85303514e-02, 7.03020622e-01, 8.14841708e-01, 3.67412141e-03,\n",
       "        3.32704037e-02, 3.32921870e-01],\n",
       "       [1.48271856e-02, 5.91780424e-01, 8.14841708e-01, 3.65959919e-03,\n",
       "        2.95817601e-02, 2.71928551e-01],\n",
       "       [1.85739181e-02, 5.91780424e-01, 1.00000000e+00, 1.47690967e-02,\n",
       "        2.58785942e-02, 2.58954095e-01],\n",
       "       [2.59802498e-02, 6.28957305e-01, 7.77519605e-01, 7.36276503e-03,\n",
       "        2.21899506e-02, 3.17165263e-01],\n",
       "       [1.48707523e-02, 6.28812082e-01, 8.88614580e-01, 1.47690967e-02,\n",
       "        1.10949753e-02, 2.53682420e-01],\n",
       "       [2.22770839e-02, 6.65843741e-01, 8.51437700e-01, 2.58640720e-02,\n",
       "        7.40633169e-03, 1.57846839e-01],\n",
       "       [3.33575370e-02, 7.02875399e-01, 8.14406041e-01, 4.06767354e-02,\n",
       "        1.48126634e-02, 1.11046568e-01],\n",
       "       [5.18443218e-02, 4.80685449e-02, 7.40342724e-01, 2.58640720e-02,\n",
       "        1.85303514e-02, 3.50596940e-02],\n",
       "       [5.18443218e-02, 4.80685449e-02, 7.40197502e-01, 2.95672379e-02,\n",
       "        1.85448737e-02, 1.11022364e-01],\n",
       "       [5.18443218e-02, 3.69590473e-02, 7.40342724e-01, 1.10514087e-02,\n",
       "        1.47981412e-02, 7.86378159e-02],\n",
       "       [5.68136939e-04, 2.95527157e-02, 7.03165844e-01, 3.32558815e-02,\n",
       "        3.70316584e-03, 3.93189079e-02],\n",
       "       [3.59824188e-04, 2.58495498e-02, 5.92070868e-01, 4.80685449e-02,\n",
       "        1.11240198e-02, 3.70060310e-02],\n",
       "       [3.36496122e-04, 1.47400523e-02, 6.28812082e-01, 4.06622132e-02,\n",
       "        0.00000000e+00, 3.69953529e-02],\n",
       "       [3.66787191e-04, 1.47400523e-02, 6.65843741e-01, 5.17717107e-02,\n",
       "        3.73221028e-03, 1.11018093e-01],\n",
       "       [2.74245303e-04, 3.63055475e-03, 5.24010069e-01, 4.80685449e-02,\n",
       "        1.85303514e-02, 4.13626967e-02],\n",
       "       [2.65237868e-04, 3.69590473e-02, 5.54748766e-02, 4.06622132e-02,\n",
       "        1.85303514e-02, 0.00000000e+00],\n",
       "       [2.77717320e-04, 3.67412141e-03, 2.21609062e-02, 5.54748766e-02,\n",
       "        1.85303514e-02, 0.00000000e+00],\n",
       "       [5.55731770e-04, 3.67412141e-03, 3.32704037e-02, 1.45063996e-04,\n",
       "        1.48271856e-02, 0.00000000e+00],\n",
       "       [5.32576280e-04, 3.65959919e-03, 2.95817601e-02, 1.52340925e-04,\n",
       "        1.85739181e-02, 0.00000000e+00],\n",
       "       [7.54147813e-04, 1.47690967e-02, 2.58785942e-02, 1.45072322e-04,\n",
       "        2.59802498e-02, 0.00000000e+00],\n",
       "       [6.62847063e-04, 7.36276503e-03, 2.21899506e-02, 3.10946336e-04,\n",
       "        1.48707523e-02, 0.00000000e+00],\n",
       "       [7.25992304e-04, 1.47690967e-02, 1.10949753e-02, 3.31611006e-04,\n",
       "        2.22770839e-02, 0.00000000e+00],\n",
       "       [7.94993184e-04, 2.58640720e-02, 7.40633169e-03, 3.09503606e-04,\n",
       "        3.33575370e-02, 0.00000000e+00],\n",
       "       [9.12499766e-04, 4.06767354e-02, 1.48126634e-02, 2.90317825e-04,\n",
       "        5.18443218e-02, 4.80685449e-02],\n",
       "       [6.11222063e-04, 2.58640720e-02, 1.85303514e-02, 1.37488996e-04,\n",
       "        5.18443218e-02, 4.80685449e-02],\n",
       "       [5.52901962e-04, 2.95672379e-02, 1.85448737e-02, 0.00000000e+00,\n",
       "        5.18443218e-02, 3.69590473e-02],\n",
       "       [6.11222063e-04, 1.10514087e-02, 1.47981412e-02, 0.00000000e+00,\n",
       "        0.00000000e+00, 2.95527157e-02],\n",
       "       [4.59585519e-04, 3.32558815e-02, 3.70316584e-03, 0.00000000e+00,\n",
       "        0.00000000e+00, 2.58495498e-02],\n",
       "       [4.35346227e-04, 4.80685449e-02, 1.11240198e-02, 0.00000000e+00,\n",
       "        0.00000000e+00, 1.47400523e-02],\n",
       "       [5.69060708e-04, 4.06622132e-02, 0.00000000e+00, 0.00000000e+00,\n",
       "        0.00000000e+00, 1.47400523e-02],\n",
       "       [3.48153590e-04, 5.17717107e-02, 3.73221028e-03, 0.00000000e+00,\n",
       "        0.00000000e+00, 3.63055475e-03],\n",
       "       [4.10988289e-04, 4.80685449e-02, 1.85303514e-02, 0.00000000e+00,\n",
       "        0.00000000e+00, 3.69590473e-02],\n",
       "       [5.54748766e-02, 4.06622132e-02, 1.85303514e-02, 0.00000000e+00,\n",
       "        0.00000000e+00, 3.67412141e-03],\n",
       "       [2.21609062e-02, 5.54748766e-02, 1.85303514e-02, 0.00000000e+00,\n",
       "        0.00000000e+00, 3.67412141e-03],\n",
       "       [3.32704037e-02, 0.00000000e+00, 1.48271856e-02, 0.00000000e+00,\n",
       "        0.00000000e+00, 3.65959919e-03],\n",
       "       [2.95817601e-02, 0.00000000e+00, 1.85739181e-02, 0.00000000e+00,\n",
       "        0.00000000e+00, 1.47690967e-02],\n",
       "       [2.58785942e-02, 0.00000000e+00, 2.59802498e-02, 0.00000000e+00,\n",
       "        0.00000000e+00, 7.36276503e-03],\n",
       "       [2.21899506e-02, 0.00000000e+00, 1.48707523e-02, 0.00000000e+00,\n",
       "        0.00000000e+00, 1.47690967e-02],\n",
       "       [1.10949753e-02, 0.00000000e+00, 2.22770839e-02, 0.00000000e+00,\n",
       "        0.00000000e+00, 2.58640720e-02],\n",
       "       [7.40633169e-03, 0.00000000e+00, 3.33575370e-02, 0.00000000e+00,\n",
       "        0.00000000e+00, 4.06767354e-02],\n",
       "       [1.48126634e-02, 0.00000000e+00, 5.18443218e-02, 4.80685449e-02,\n",
       "        0.00000000e+00, 2.58640720e-02],\n",
       "       [1.85303514e-02, 0.00000000e+00, 5.18443218e-02, 4.80685449e-02,\n",
       "        0.00000000e+00, 2.95672379e-02],\n",
       "       [1.85448737e-02, 0.00000000e+00, 5.18443218e-02, 3.69590473e-02,\n",
       "        0.00000000e+00, 1.10514087e-02],\n",
       "       [1.47981412e-02, 0.00000000e+00, 0.00000000e+00, 2.95527157e-02,\n",
       "        0.00000000e+00, 3.32558815e-02],\n",
       "       [3.70316584e-03, 0.00000000e+00, 0.00000000e+00, 2.58495498e-02,\n",
       "        0.00000000e+00, 4.80685449e-02]])"
      ]
     },
     "execution_count": 12,
     "metadata": {},
     "output_type": "execute_result"
    }
   ],
   "source": [
    "exp"
   ]
  },
  {
   "cell_type": "markdown",
   "metadata": {},
   "source": [
    "# Plot Item "
   ]
  },
  {
   "cell_type": "code",
   "execution_count": 13,
   "metadata": {},
   "outputs": [
    {
     "name": "stdout",
     "output_type": "stream",
     "text": [
      "time mode\n"
     ]
    },
    {
     "data": {
      "image/png": "[encoded data removed]",
      "text/plain": [
       "<Figure size 512x384 with 13 Axes>"
      ]
     },
     "metadata": {},
     "output_type": "display_data"
    }
   ],
   "source": [
    "%matplotlib inline  \n",
    "int_mod.plot(np.array([test_x[0,:,:]]),exp)"
   ]
  },
  {
   "cell_type": "code",
   "execution_count": 14,
   "metadata": {},
   "outputs": [
    {
     "name": "stdout",
     "output_type": "stream",
     "text": [
      "time mode\n"
     ]
    },
    {
     "data": {
      "image/png": "[encoded data removed]",
      "text/plain": [
       "<Figure size 512x384 with 2 Axes>"
      ]
     },
     "metadata": {},
     "output_type": "display_data"
    }
   ],
   "source": [
    "%matplotlib inline  \n",
    "int_mod.plot(np.array([test_x[0,:,:]]),exp, heatmap = True)"
   ]
  }
 ],
 "metadata": {
  "kernelspec": {
   "display_name": "TSInterpret-x4eqnPOt",
   "language": "python",
   "name": "python3"
  },
  "language_info": {
   "codemirror_mode": {
    "name": "ipython",
    "version": 3
   },
   "file_extension": ".py",
   "mimetype": "text/x-python",
   "name": "python",
   "nbconvert_exporter": "python",
   "pygments_lexer": "ipython3",
   "version": "3.9.17"
  },
  "orig_nbformat": 4,
  "vscode": {
   "interpreter": {
    "hash": "f057a787916d84cdf9917d49e1e1f7c668875ada4681575e2b61fa684cbb94c6"
   }
  }
 },
 "nbformat": 4,
 "nbformat_minor": 2
}
