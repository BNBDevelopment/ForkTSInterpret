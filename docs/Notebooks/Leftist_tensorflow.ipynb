{
 "cells": [
  {
   "cell_type": "code",
   "execution_count": 1,
   "source": [
    "import numpy as np \n",
    "from tslearn.datasets import UCR_UEA_datasets"
   ],
   "outputs": [],
   "metadata": {}
  },
  {
   "cell_type": "markdown",
   "source": [
    "# Parameters"
   ],
   "metadata": {}
  },
  {
   "cell_type": "code",
   "execution_count": 2,
   "source": [
    "dataset='ElectricDevices'"
   ],
   "outputs": [],
   "metadata": {}
  },
  {
   "cell_type": "code",
   "execution_count": 3,
   "source": [
    "train_x,train_y, test_x, test_y=UCR_UEA_datasets().load_dataset(dataset)"
   ],
   "outputs": [],
   "metadata": {}
  },
  {
   "cell_type": "code",
   "execution_count": 4,
   "source": [
    "print(train_x.shape)\n",
    "print(test_x.shape)"
   ],
   "outputs": [
    {
     "output_type": "stream",
     "name": "stdout",
     "text": [
      "(8926, 96, 1)\n",
      "(7711, 96, 1)\n"
     ]
    }
   ],
   "metadata": {}
  },
  {
   "cell_type": "code",
   "execution_count": 5,
   "source": [
    "train_x.shape"
   ],
   "outputs": [
    {
     "output_type": "execute_result",
     "data": {
      "text/plain": [
       "(8926, 96, 1)"
      ]
     },
     "metadata": {},
     "execution_count": 5
    }
   ],
   "metadata": {}
  },
  {
   "cell_type": "code",
   "execution_count": 6,
   "source": [
    "train_y.shape"
   ],
   "outputs": [
    {
     "output_type": "execute_result",
     "data": {
      "text/plain": [
       "(8926,)"
      ]
     },
     "metadata": {},
     "execution_count": 6
    }
   ],
   "metadata": {}
  },
  {
   "cell_type": "markdown",
   "source": [
    "# Load Model"
   ],
   "metadata": {}
  },
  {
   "cell_type": "code",
   "execution_count": 7,
   "source": [
    "\n",
    "import tensorflow as tf \n",
    "model_to_explain = tf.keras.models.load_model(f'../../ClassificationModels/models/{dataset}/cnn/best_model.hdf5')"
   ],
   "outputs": [
    {
     "output_type": "stream",
     "name": "stderr",
     "text": [
      "2022-06-15 14:42:27.361381: W tensorflow/stream_executor/platform/default/dso_loader.cc:64] Could not load dynamic library 'libcudart.so.11.0'; dlerror: libcudart.so.11.0: cannot open shared object file: No such file or directory\n",
      "2022-06-15 14:42:27.361396: I tensorflow/stream_executor/cuda/cudart_stub.cc:29] Ignore above cudart dlerror if you do not have a GPU set up on your machine.\n",
      "2022-06-15 14:42:28.346382: I tensorflow/stream_executor/cuda/cuda_gpu_executor.cc:975] successful NUMA node read from SysFS had negative value (-1), but there must be at least one NUMA node, so returning NUMA node zero\n",
      "2022-06-15 14:42:28.347218: W tensorflow/stream_executor/platform/default/dso_loader.cc:64] Could not load dynamic library 'libcudart.so.11.0'; dlerror: libcudart.so.11.0: cannot open shared object file: No such file or directory\n",
      "2022-06-15 14:42:28.347402: W tensorflow/stream_executor/platform/default/dso_loader.cc:64] Could not load dynamic library 'libcublas.so.11'; dlerror: libcublas.so.11: cannot open shared object file: No such file or directory\n",
      "2022-06-15 14:42:28.347577: W tensorflow/stream_executor/platform/default/dso_loader.cc:64] Could not load dynamic library 'libcublasLt.so.11'; dlerror: libcublasLt.so.11: cannot open shared object file: No such file or directory\n",
      "2022-06-15 14:42:28.347750: W tensorflow/stream_executor/platform/default/dso_loader.cc:64] Could not load dynamic library 'libcufft.so.10'; dlerror: libcufft.so.10: cannot open shared object file: No such file or directory\n",
      "2022-06-15 14:42:28.347932: W tensorflow/stream_executor/platform/default/dso_loader.cc:64] Could not load dynamic library 'libcurand.so.10'; dlerror: libcurand.so.10: cannot open shared object file: No such file or directory\n",
      "2022-06-15 14:42:28.348071: W tensorflow/stream_executor/platform/default/dso_loader.cc:64] Could not load dynamic library 'libcusolver.so.11'; dlerror: libcusolver.so.11: cannot open shared object file: No such file or directory\n",
      "2022-06-15 14:42:28.348209: W tensorflow/stream_executor/platform/default/dso_loader.cc:64] Could not load dynamic library 'libcusparse.so.11'; dlerror: libcusparse.so.11: cannot open shared object file: No such file or directory\n",
      "2022-06-15 14:42:28.348344: W tensorflow/stream_executor/platform/default/dso_loader.cc:64] Could not load dynamic library 'libcudnn.so.8'; dlerror: libcudnn.so.8: cannot open shared object file: No such file or directory\n",
      "2022-06-15 14:42:28.348365: W tensorflow/core/common_runtime/gpu/gpu_device.cc:1850] Cannot dlopen some GPU libraries. Please make sure the missing libraries mentioned above are installed properly if you would like to use GPU. Follow the guide at https://www.tensorflow.org/install/gpu for how to download and setup the required libraries for your platform.\n",
      "Skipping registering GPU devices...\n",
      "2022-06-15 14:42:28.348721: I tensorflow/core/platform/cpu_feature_guard.cc:193] This TensorFlow binary is optimized with oneAPI Deep Neural Network Library (oneDNN) to use the following CPU instructions in performance-critical operations:  AVX2 FMA\n",
      "To enable them in other operations, rebuild TensorFlow with the appropriate compiler flags.\n"
     ]
    }
   ],
   "metadata": {}
  },
  {
   "cell_type": "markdown",
   "source": [
    "# Explanation Algo"
   ],
   "metadata": {}
  },
  {
   "cell_type": "code",
   "execution_count": 8,
   "source": [
    "explained_instance = train_x[0]\n",
    "nb_interpretable_feature = 10\n",
    "explanation_size = 5\n",
    "nb_neighbors = 1000\n",
    "learning_process_name = 'Lime'\n",
    "transform_name = 'straight_line'"
   ],
   "outputs": [],
   "metadata": {}
  },
  {
   "cell_type": "code",
   "execution_count": 9,
   "source": [
    "from TSInterpret.InterpretabilityModels.leftist.leftist import LEFTIST\n",
    "from TSInterpret.InterpretabilityModels.leftist.timeseries.segmentator.uniform_segmentator import UniformSegmentator"
   ],
   "outputs": [],
   "metadata": {}
  },
  {
   "cell_type": "code",
   "execution_count": 10,
   "source": [
    "segmentator = UniformSegmentator(nb_interpretable_feature)\n",
    "leftist = LEFTIST(model_to_explain,(test_x, test_y),mode='time',backend='TF')\n",
    "#,'straight_line',segmentator,,learning_process_name"
   ],
   "outputs": [],
   "metadata": {}
  },
  {
   "cell_type": "code",
   "execution_count": 11,
   "source": [
    "explanations = leftist.explain(np.array(explained_instance),1000,explanation_size=explanation_size,transform_name='straight_line',learning_process_name='Lime')"
   ],
   "outputs": [
    {
     "output_type": "stream",
     "name": "stdout",
     "text": [
      "(1000, 96, 1)\n",
      "32/32 [==============================] - 0s 1ms/step\n"
     ]
    }
   ],
   "metadata": {}
  },
  {
   "cell_type": "code",
   "execution_count": 12,
   "source": [
    "explanations"
   ],
   "outputs": [
    {
     "output_type": "execute_result",
     "data": {
      "text/plain": [
       "[array([0.        , 0.        , 0.        , 0.        , 0.        ,\n",
       "        0.        , 0.        , 0.        , 0.        , 0.        ,\n",
       "        0.        , 0.        , 0.        , 0.        , 0.        ,\n",
       "        0.        , 0.        , 0.        , 0.        , 0.        ,\n",
       "        0.        , 0.        , 0.        , 0.        , 0.        ,\n",
       "        0.        , 0.        , 0.        , 0.        , 0.        ,\n",
       "        0.        , 0.        , 0.        , 0.        , 0.        ,\n",
       "        0.        , 0.        , 0.        , 0.        , 0.        ,\n",
       "        0.        , 0.        , 0.        , 0.        , 0.        ,\n",
       "        0.00705598, 0.00705598, 0.00705598, 0.00705598, 0.00705598,\n",
       "        0.00705598, 0.00705598, 0.00705598, 0.00705598, 0.00856207,\n",
       "        0.00856207, 0.00856207, 0.00856207, 0.00856207, 0.00856207,\n",
       "        0.00856207, 0.00856207, 0.00856207, 0.0160708 , 0.0160708 ,\n",
       "        0.0160708 , 0.0160708 , 0.0160708 , 0.0160708 , 0.0160708 ,\n",
       "        0.0160708 , 0.0160708 , 0.30643493, 0.30643493, 0.30643493,\n",
       "        0.30643493, 0.30643493, 0.30643493, 0.30643493, 0.30643493,\n",
       "        0.30643493, 0.72914094, 0.72914094, 0.72914094, 0.72914094,\n",
       "        0.72914094, 0.72914094, 0.72914094, 0.72914094, 0.72914094,\n",
       "        0.        , 0.        , 0.        , 0.        , 0.        ,\n",
       "        0.        ]),\n",
       " array([ 0.00000000e+00, -1.65520686e-32, -1.65520686e-32, -1.65520686e-32,\n",
       "        -1.65520686e-32, -1.65520686e-32, -1.65520686e-32, -1.65520686e-32,\n",
       "        -1.65520686e-32, -1.65520686e-32, -1.01132285e-32, -1.01132285e-32,\n",
       "        -1.01132285e-32, -1.01132285e-32, -1.01132285e-32, -1.01132285e-32,\n",
       "        -1.01132285e-32, -1.01132285e-32, -1.01132285e-32,  0.00000000e+00,\n",
       "         0.00000000e+00,  0.00000000e+00,  0.00000000e+00,  0.00000000e+00,\n",
       "         0.00000000e+00,  0.00000000e+00,  0.00000000e+00,  0.00000000e+00,\n",
       "         0.00000000e+00,  0.00000000e+00,  0.00000000e+00,  0.00000000e+00,\n",
       "         0.00000000e+00,  0.00000000e+00,  0.00000000e+00,  0.00000000e+00,\n",
       "         0.00000000e+00,  0.00000000e+00,  0.00000000e+00,  0.00000000e+00,\n",
       "         0.00000000e+00,  0.00000000e+00,  0.00000000e+00,  0.00000000e+00,\n",
       "         0.00000000e+00,  0.00000000e+00,  0.00000000e+00,  0.00000000e+00,\n",
       "         0.00000000e+00,  0.00000000e+00,  0.00000000e+00,  0.00000000e+00,\n",
       "         0.00000000e+00,  0.00000000e+00,  0.00000000e+00,  0.00000000e+00,\n",
       "         0.00000000e+00,  0.00000000e+00,  0.00000000e+00,  0.00000000e+00,\n",
       "         0.00000000e+00,  0.00000000e+00,  0.00000000e+00,  0.00000000e+00,\n",
       "         9.71333804e-33,  9.71333804e-33,  9.71333804e-33,  9.71333804e-33,\n",
       "         9.71333804e-33,  9.71333804e-33,  9.71333804e-33,  9.71333804e-33,\n",
       "         9.71333804e-33,  2.72310448e-31,  2.72310448e-31,  2.72310448e-31,\n",
       "         2.72310448e-31,  2.72310448e-31,  2.72310448e-31,  2.72310448e-31,\n",
       "         2.72310448e-31,  2.72310448e-31,  3.13488037e-31,  3.13488037e-31,\n",
       "         3.13488037e-31,  3.13488037e-31,  3.13488037e-31,  3.13488037e-31,\n",
       "         3.13488037e-31,  3.13488037e-31,  3.13488037e-31,  0.00000000e+00,\n",
       "         0.00000000e+00,  0.00000000e+00,  0.00000000e+00,  0.00000000e+00]),\n",
       " array([ 0.00000000e+00,  0.00000000e+00, -3.54724880e-05, -3.54724880e-05,\n",
       "        -3.54724880e-05, -3.54724880e-05, -3.54724880e-05, -3.54724880e-05,\n",
       "        -3.54724880e-05, -3.54724880e-05, -3.54724880e-05,  0.00000000e+00,\n",
       "         0.00000000e+00,  0.00000000e+00,  0.00000000e+00,  0.00000000e+00,\n",
       "         0.00000000e+00,  0.00000000e+00,  0.00000000e+00,  0.00000000e+00,\n",
       "         0.00000000e+00,  0.00000000e+00,  0.00000000e+00,  0.00000000e+00,\n",
       "         0.00000000e+00,  0.00000000e+00,  0.00000000e+00,  0.00000000e+00,\n",
       "         0.00000000e+00,  0.00000000e+00,  0.00000000e+00,  0.00000000e+00,\n",
       "         0.00000000e+00,  0.00000000e+00,  0.00000000e+00,  0.00000000e+00,\n",
       "         0.00000000e+00,  0.00000000e+00,  0.00000000e+00,  0.00000000e+00,\n",
       "         0.00000000e+00,  0.00000000e+00,  0.00000000e+00,  0.00000000e+00,\n",
       "         0.00000000e+00,  0.00000000e+00,  0.00000000e+00,  0.00000000e+00,\n",
       "         0.00000000e+00,  0.00000000e+00,  0.00000000e+00,  0.00000000e+00,\n",
       "         0.00000000e+00,  0.00000000e+00,  0.00000000e+00,  0.00000000e+00,\n",
       "         9.43557133e-06,  9.43557133e-06,  9.43557133e-06,  9.43557133e-06,\n",
       "         9.43557133e-06,  9.43557133e-06,  9.43557133e-06,  9.43557133e-06,\n",
       "         9.43557133e-06,  4.94005878e-05,  4.94005878e-05,  4.94005878e-05,\n",
       "         4.94005878e-05,  4.94005878e-05,  4.94005878e-05,  4.94005878e-05,\n",
       "         4.94005878e-05,  4.94005878e-05,  1.28147865e-03,  1.28147865e-03,\n",
       "         1.28147865e-03,  1.28147865e-03,  1.28147865e-03,  1.28147865e-03,\n",
       "         1.28147865e-03,  1.28147865e-03,  1.28147865e-03,  2.61841629e-03,\n",
       "         2.61841629e-03,  2.61841629e-03,  2.61841629e-03,  2.61841629e-03,\n",
       "         2.61841629e-03,  2.61841629e-03,  2.61841629e-03,  2.61841629e-03,\n",
       "         0.00000000e+00,  0.00000000e+00,  0.00000000e+00,  0.00000000e+00]),\n",
       " array([0.        , 0.        , 0.        , 0.        , 0.        ,\n",
       "        0.        , 0.        , 0.        , 0.        , 0.        ,\n",
       "        0.        , 0.        , 0.        , 0.        , 0.        ,\n",
       "        0.        , 0.        , 0.        , 0.        , 0.        ,\n",
       "        0.        , 0.        , 0.        , 0.        , 0.        ,\n",
       "        0.        , 0.        , 0.        , 0.        , 0.        ,\n",
       "        0.        , 0.        , 0.        , 0.        , 0.        ,\n",
       "        0.        , 0.        , 0.        , 0.        , 0.        ,\n",
       "        0.        , 0.        , 0.        , 0.        , 0.        ,\n",
       "        0.        , 0.        , 0.        , 0.00159993, 0.00159993,\n",
       "        0.00159993, 0.00159993, 0.00159993, 0.00159993, 0.00159993,\n",
       "        0.00159993, 0.00159993, 0.00197496, 0.00197496, 0.00197496,\n",
       "        0.00197496, 0.00197496, 0.00197496, 0.00197496, 0.00197496,\n",
       "        0.00197496, 0.0035681 , 0.0035681 , 0.0035681 , 0.0035681 ,\n",
       "        0.0035681 , 0.0035681 , 0.0035681 , 0.0035681 , 0.0035681 ,\n",
       "        0.07104849, 0.07104849, 0.07104849, 0.07104849, 0.07104849,\n",
       "        0.07104849, 0.07104849, 0.07104849, 0.07104849, 0.07820333,\n",
       "        0.07820333, 0.07820333, 0.07820333, 0.07820333, 0.07820333,\n",
       "        0.07820333, 0.07820333, 0.07820333, 0.        , 0.        ,\n",
       "        0.        ]),\n",
       " array([ 0.00000000e+00,  0.00000000e+00,  0.00000000e+00,  0.00000000e+00,\n",
       "        -9.32771980e-01, -9.32771980e-01, -9.32771980e-01, -9.32771980e-01,\n",
       "        -9.32771980e-01, -9.32771980e-01, -9.32771980e-01, -9.32771980e-01,\n",
       "        -9.32771980e-01, -3.60645789e-03, -3.60645789e-03, -3.60645789e-03,\n",
       "        -3.60645789e-03, -3.60645789e-03, -3.60645789e-03, -3.60645789e-03,\n",
       "        -3.60645789e-03, -3.60645789e-03,  0.00000000e+00,  0.00000000e+00,\n",
       "         0.00000000e+00,  0.00000000e+00,  0.00000000e+00,  0.00000000e+00,\n",
       "         0.00000000e+00,  0.00000000e+00,  0.00000000e+00,  0.00000000e+00,\n",
       "         0.00000000e+00,  0.00000000e+00,  0.00000000e+00,  0.00000000e+00,\n",
       "         0.00000000e+00,  0.00000000e+00,  0.00000000e+00,  0.00000000e+00,\n",
       "         0.00000000e+00,  0.00000000e+00,  0.00000000e+00,  0.00000000e+00,\n",
       "         0.00000000e+00,  0.00000000e+00,  0.00000000e+00,  0.00000000e+00,\n",
       "         0.00000000e+00,  0.00000000e+00,  0.00000000e+00,  0.00000000e+00,\n",
       "         0.00000000e+00,  0.00000000e+00,  0.00000000e+00,  0.00000000e+00,\n",
       "         0.00000000e+00,  0.00000000e+00,  0.00000000e+00,  0.00000000e+00,\n",
       "         0.00000000e+00,  0.00000000e+00,  0.00000000e+00,  0.00000000e+00,\n",
       "         0.00000000e+00,  0.00000000e+00,  0.00000000e+00,  1.39412070e-04,\n",
       "         1.39412070e-04,  1.39412070e-04,  1.39412070e-04,  1.39412070e-04,\n",
       "         1.39412070e-04,  1.39412070e-04,  1.39412070e-04,  1.39412070e-04,\n",
       "         3.10723130e-04,  3.10723130e-04,  3.10723130e-04,  3.10723130e-04,\n",
       "         3.10723130e-04,  3.10723130e-04,  3.10723130e-04,  3.10723130e-04,\n",
       "         3.10723130e-04,  9.08554797e-04,  9.08554797e-04,  9.08554797e-04,\n",
       "         9.08554797e-04,  9.08554797e-04,  9.08554797e-04,  9.08554797e-04,\n",
       "         9.08554797e-04,  9.08554797e-04,  0.00000000e+00,  0.00000000e+00]),\n",
       " array([ 0.        ,  0.        ,  0.        ,  0.        ,  0.        ,\n",
       "        -0.05874338, -0.05874338, -0.05874338, -0.05874338, -0.05874338,\n",
       "        -0.05874338, -0.05874338, -0.05874338, -0.05874338, -0.0026492 ,\n",
       "        -0.0026492 , -0.0026492 , -0.0026492 , -0.0026492 , -0.0026492 ,\n",
       "        -0.0026492 , -0.0026492 , -0.0026492 , -0.00177604, -0.00177604,\n",
       "        -0.00177604, -0.00177604, -0.00177604, -0.00177604, -0.00177604,\n",
       "        -0.00177604, -0.00177604, -0.00148725, -0.00148725, -0.00148725,\n",
       "        -0.00148725, -0.00148725, -0.00148725, -0.00148725, -0.00148725,\n",
       "        -0.00148725,  0.        ,  0.        ,  0.        ,  0.        ,\n",
       "         0.        ,  0.        ,  0.        ,  0.        ,  0.        ,\n",
       "         0.        ,  0.        ,  0.        ,  0.        ,  0.        ,\n",
       "         0.        ,  0.        ,  0.        ,  0.        ,  0.        ,\n",
       "         0.        ,  0.        ,  0.        ,  0.        ,  0.        ,\n",
       "         0.        ,  0.        ,  0.        ,  0.        ,  0.        ,\n",
       "         0.        ,  0.        ,  0.        ,  0.        ,  0.        ,\n",
       "         0.        ,  0.        ,  0.        ,  0.        ,  0.        ,\n",
       "         0.        ,  0.        ,  0.        ,  0.        ,  0.        ,\n",
       "         0.        ,  0.04696563,  0.04696563,  0.04696563,  0.04696563,\n",
       "         0.04696563,  0.04696563,  0.04696563,  0.04696563,  0.04696563,\n",
       "         0.        ]),\n",
       " array([ 0.00000000e+00,  0.00000000e+00,  0.00000000e+00,  0.00000000e+00,\n",
       "         0.00000000e+00,  0.00000000e+00, -6.05504282e-05, -6.05504282e-05,\n",
       "        -6.05504282e-05, -6.05504282e-05, -6.05504282e-05, -6.05504282e-05,\n",
       "        -6.05504282e-05, -6.05504282e-05, -6.05504282e-05, -5.93795936e-06,\n",
       "        -5.93795936e-06, -5.93795936e-06, -5.93795936e-06, -5.93795936e-06,\n",
       "        -5.93795936e-06, -5.93795936e-06, -5.93795936e-06, -5.93795936e-06,\n",
       "        -2.64408289e-06, -2.64408289e-06, -2.64408289e-06, -2.64408289e-06,\n",
       "        -2.64408289e-06, -2.64408289e-06, -2.64408289e-06, -2.64408289e-06,\n",
       "        -2.64408289e-06,  0.00000000e+00,  0.00000000e+00,  0.00000000e+00,\n",
       "         0.00000000e+00,  0.00000000e+00,  0.00000000e+00,  0.00000000e+00,\n",
       "         0.00000000e+00,  0.00000000e+00,  0.00000000e+00,  0.00000000e+00,\n",
       "         0.00000000e+00,  0.00000000e+00,  0.00000000e+00,  0.00000000e+00,\n",
       "         0.00000000e+00,  0.00000000e+00,  0.00000000e+00,  0.00000000e+00,\n",
       "         0.00000000e+00,  0.00000000e+00,  0.00000000e+00,  0.00000000e+00,\n",
       "         0.00000000e+00,  0.00000000e+00,  0.00000000e+00,  0.00000000e+00,\n",
       "         0.00000000e+00,  0.00000000e+00,  0.00000000e+00,  0.00000000e+00,\n",
       "         0.00000000e+00,  0.00000000e+00,  0.00000000e+00,  0.00000000e+00,\n",
       "         0.00000000e+00,  0.00000000e+00,  0.00000000e+00,  0.00000000e+00,\n",
       "         0.00000000e+00,  0.00000000e+00,  0.00000000e+00,  0.00000000e+00,\n",
       "         0.00000000e+00,  0.00000000e+00,  4.05517135e-06,  4.05517135e-06,\n",
       "         4.05517135e-06,  4.05517135e-06,  4.05517135e-06,  4.05517135e-06,\n",
       "         4.05517135e-06,  4.05517135e-06,  4.05517135e-06,  3.04790059e-04,\n",
       "         3.04790059e-04,  3.04790059e-04,  3.04790059e-04,  3.04790059e-04,\n",
       "         3.04790059e-04,  3.04790059e-04,  3.04790059e-04,  3.04790059e-04])]"
      ]
     },
     "metadata": {},
     "execution_count": 12
    }
   ],
   "metadata": {}
  },
  {
   "cell_type": "code",
   "execution_count": 13,
   "source": [
    "leftist.plot(np.array([explained_instance]), np.array([explanations[1]]))"
   ],
   "outputs": [
    {
     "output_type": "stream",
     "name": "stdout",
     "text": [
      "time mode\n",
      "(1, 96)\n",
      "(1, 96)\n",
      "-1\n",
      "1\n",
      "[[ 0]\n",
      " [19]\n",
      " [20]\n",
      " [21]\n",
      " [22]\n",
      " [23]\n",
      " [24]\n",
      " [25]\n",
      " [26]\n",
      " [27]\n",
      " [28]\n",
      " [29]\n",
      " [30]\n",
      " [31]\n",
      " [32]\n",
      " [33]\n",
      " [34]\n",
      " [35]\n",
      " [36]\n",
      " [37]\n",
      " [38]\n",
      " [39]\n",
      " [40]\n",
      " [41]\n",
      " [42]\n",
      " [43]\n",
      " [44]\n",
      " [45]\n",
      " [46]\n",
      " [47]\n",
      " [48]\n",
      " [49]\n",
      " [50]\n",
      " [51]\n",
      " [52]\n",
      " [53]\n",
      " [54]\n",
      " [55]\n",
      " [56]\n",
      " [57]\n",
      " [58]\n",
      " [59]\n",
      " [60]\n",
      " [61]\n",
      " [62]\n",
      " [63]\n",
      " [91]\n",
      " [92]\n",
      " [93]\n",
      " [94]\n",
      " [95]]\n",
      "[ 0.         -1.         -1.         -1.         -1.         -1.\n",
      " -1.         -1.         -1.         -1.         -0.96098147 -0.96098147\n",
      " -0.96098147 -0.96098147 -0.96098147 -0.96098147 -0.96098147 -0.96098147\n",
      " -0.96098147  0.          0.          0.          0.          0.\n",
      "  0.          0.          0.          0.          0.          0.\n",
      "  0.          0.          0.          0.          0.          0.\n",
      "  0.          0.          0.          0.          0.          0.\n",
      "  0.          0.          0.          0.          0.          0.\n",
      "  0.          0.          0.          0.          0.          0.\n",
      "  0.          0.          0.          0.          0.          0.\n",
      "  0.          0.          0.          0.         -0.84083506 -0.84083506\n",
      " -0.84083506 -0.84083506 -0.84083506 -0.84083506 -0.84083506 -0.84083506\n",
      " -0.84083506  0.75046918  0.75046918  0.75046918  0.75046918  0.75046918\n",
      "  0.75046918  0.75046918  0.75046918  0.75046918  1.          1.\n",
      "  1.          1.          1.          1.          1.          1.\n",
      "  1.          0.          0.          0.          0.          0.        ]\n",
      "[[ 0.         -1.         -1.         -1.         -1.         -1.\n",
      "  -1.         -1.         -1.         -1.         -0.96098147 -0.96098147\n",
      "  -0.96098147 -0.96098147 -0.96098147 -0.96098147 -0.96098147 -0.96098147\n",
      "  -0.96098147  0.          0.          0.          0.          0.\n",
      "   0.          0.          0.          0.          0.          0.\n",
      "   0.          0.          0.          0.          0.          0.\n",
      "   0.          0.          0.          0.          0.          0.\n",
      "   0.          0.          0.          0.          0.          0.\n",
      "   0.          0.          0.          0.          0.          0.\n",
      "   0.          0.          0.          0.          0.          0.\n",
      "   0.          0.          0.          0.         -0.84083506 -0.84083506\n",
      "  -0.84083506 -0.84083506 -0.84083506 -0.84083506 -0.84083506 -0.84083506\n",
      "  -0.84083506  0.75046918  0.75046918  0.75046918  0.75046918  0.75046918\n",
      "   0.75046918  0.75046918  0.75046918  0.75046918  1.          1.\n",
      "   1.          1.          1.          1.          1.          1.\n",
      "   1.          0.          0.          0.          0.          0.        ]]\n",
      "0\n"
     ]
    },
    {
     "output_type": "display_data",
     "data": {
      "image/png": "[encoded data removed]",
      "text/plain": [
       "<Figure size 640x480 with 3 Axes>"
      ]
     },
     "metadata": {}
    }
   ],
   "metadata": {}
  }
 ],
 "metadata": {
  "orig_nbformat": 4,
  "language_info": {
   "name": "python",
   "version": "3.7.5",
   "mimetype": "text/x-python",
   "codemirror_mode": {
    "name": "ipython",
    "version": 3
   },
   "pygments_lexer": "ipython3",
   "nbconvert_exporter": "python",
   "file_extension": ".py"
  },
  "kernelspec": {
   "name": "python3",
   "display_name": "Python 3.7.5 64-bit ('TSInterpret-NXJYnQDU': pipenv)"
  },
  "interpreter": {
   "hash": "16db99a3fba429d86cb96b96f3cee6d3141a37b91b1d019974802969710b6701"
  }
 },
 "nbformat": 4,
 "nbformat_minor": 2
}