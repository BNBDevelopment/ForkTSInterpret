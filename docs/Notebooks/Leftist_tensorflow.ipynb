{
 "cells": [
  {
   "cell_type": "code",
   "execution_count": 1,
   "source": [
    "import numpy as np \n",
    "from tslearn.datasets import UCR_UEA_datasets"
   ],
   "outputs": [],
   "metadata": {}
  },
  {
   "cell_type": "markdown",
   "source": [
    "# Parameters"
   ],
   "metadata": {}
  },
  {
   "cell_type": "code",
   "execution_count": 2,
   "source": [
    "dataset='ElectricDevices'"
   ],
   "outputs": [],
   "metadata": {}
  },
  {
   "cell_type": "code",
   "execution_count": 3,
   "source": [
    "train_x,train_y, test_x, test_y=UCR_UEA_datasets().load_dataset(dataset)"
   ],
   "outputs": [],
   "metadata": {}
  },
  {
   "cell_type": "code",
   "execution_count": 4,
   "source": [
    "print(train_x.shape)\n",
    "print(test_x.shape)"
   ],
   "outputs": [
    {
     "output_type": "stream",
     "name": "stdout",
     "text": [
      "(8926, 96, 1)\n",
      "(7711, 96, 1)\n"
     ]
    }
   ],
   "metadata": {}
  },
  {
   "cell_type": "code",
   "execution_count": 5,
   "source": [
    "train_x.shape"
   ],
   "outputs": [
    {
     "output_type": "execute_result",
     "data": {
      "text/plain": [
       "(8926, 96, 1)"
      ]
     },
     "metadata": {},
     "execution_count": 5
    }
   ],
   "metadata": {}
  },
  {
   "cell_type": "code",
   "execution_count": 6,
   "source": [
    "train_y.shape"
   ],
   "outputs": [
    {
     "output_type": "execute_result",
     "data": {
      "text/plain": [
       "(8926,)"
      ]
     },
     "metadata": {},
     "execution_count": 6
    }
   ],
   "metadata": {}
  },
  {
   "cell_type": "markdown",
   "source": [
    "# Load Model"
   ],
   "metadata": {}
  },
  {
   "cell_type": "code",
   "execution_count": 7,
   "source": [
    "\n",
    "import tensorflow as tf \n",
    "model_to_explain = tf.keras.models.load_model(f'../../ClassificationModels/models/{dataset}/cnn/best_model.hdf5')"
   ],
   "outputs": [
    {
     "output_type": "stream",
     "name": "stderr",
     "text": [
      "2022-07-06 15:13:42.092122: W tensorflow/stream_executor/platform/default/dso_loader.cc:64] Could not load dynamic library 'libcudart.so.11.0'; dlerror: libcudart.so.11.0: cannot open shared object file: No such file or directory\n",
      "2022-07-06 15:13:42.092137: I tensorflow/stream_executor/cuda/cudart_stub.cc:29] Ignore above cudart dlerror if you do not have a GPU set up on your machine.\n",
      "2022-07-06 15:13:43.097729: I tensorflow/stream_executor/cuda/cuda_gpu_executor.cc:975] successful NUMA node read from SysFS had negative value (-1), but there must be at least one NUMA node, so returning NUMA node zero\n",
      "2022-07-06 15:13:43.097994: W tensorflow/stream_executor/platform/default/dso_loader.cc:64] Could not load dynamic library 'libcudart.so.11.0'; dlerror: libcudart.so.11.0: cannot open shared object file: No such file or directory\n",
      "2022-07-06 15:13:43.098041: W tensorflow/stream_executor/platform/default/dso_loader.cc:64] Could not load dynamic library 'libcublas.so.11'; dlerror: libcublas.so.11: cannot open shared object file: No such file or directory\n",
      "2022-07-06 15:13:43.098084: W tensorflow/stream_executor/platform/default/dso_loader.cc:64] Could not load dynamic library 'libcublasLt.so.11'; dlerror: libcublasLt.so.11: cannot open shared object file: No such file or directory\n",
      "2022-07-06 15:13:43.098124: W tensorflow/stream_executor/platform/default/dso_loader.cc:64] Could not load dynamic library 'libcufft.so.10'; dlerror: libcufft.so.10: cannot open shared object file: No such file or directory\n",
      "2022-07-06 15:13:43.098163: W tensorflow/stream_executor/platform/default/dso_loader.cc:64] Could not load dynamic library 'libcurand.so.10'; dlerror: libcurand.so.10: cannot open shared object file: No such file or directory\n",
      "2022-07-06 15:13:43.098204: W tensorflow/stream_executor/platform/default/dso_loader.cc:64] Could not load dynamic library 'libcusolver.so.11'; dlerror: libcusolver.so.11: cannot open shared object file: No such file or directory\n",
      "2022-07-06 15:13:43.098244: W tensorflow/stream_executor/platform/default/dso_loader.cc:64] Could not load dynamic library 'libcusparse.so.11'; dlerror: libcusparse.so.11: cannot open shared object file: No such file or directory\n",
      "2022-07-06 15:13:43.098284: W tensorflow/stream_executor/platform/default/dso_loader.cc:64] Could not load dynamic library 'libcudnn.so.8'; dlerror: libcudnn.so.8: cannot open shared object file: No such file or directory\n",
      "2022-07-06 15:13:43.098289: W tensorflow/core/common_runtime/gpu/gpu_device.cc:1850] Cannot dlopen some GPU libraries. Please make sure the missing libraries mentioned above are installed properly if you would like to use GPU. Follow the guide at https://www.tensorflow.org/install/gpu for how to download and setup the required libraries for your platform.\n",
      "Skipping registering GPU devices...\n",
      "2022-07-06 15:13:43.098482: I tensorflow/core/platform/cpu_feature_guard.cc:193] This TensorFlow binary is optimized with oneAPI Deep Neural Network Library (oneDNN) to use the following CPU instructions in performance-critical operations:  AVX2 FMA\n",
      "To enable them in other operations, rebuild TensorFlow with the appropriate compiler flags.\n"
     ]
    }
   ],
   "metadata": {}
  },
  {
   "cell_type": "markdown",
   "source": [
    "# Explanation Algo"
   ],
   "metadata": {}
  },
  {
   "cell_type": "code",
   "execution_count": 8,
   "source": [
    "explained_instance = train_x[0]\n",
    "nb_interpretable_feature = 10\n",
    "explanation_size = 5\n",
    "nb_neighbors = 1000\n",
    "learning_process_name = 'Lime'\n",
    "transform_name = 'straight_line'"
   ],
   "outputs": [],
   "metadata": {}
  },
  {
   "cell_type": "code",
   "execution_count": 9,
   "source": [
    "from TSInterpret.InterpretabilityModels.leftist.leftist import LEFTIST\n"
   ],
   "outputs": [],
   "metadata": {}
  },
  {
   "cell_type": "code",
   "execution_count": 11,
   "source": [
    "\n",
    "leftist = LEFTIST(model_to_explain,(test_x, test_y),mode='time',backend='TF',transform_name='straight_line',learning_process_name='Lime')\n",
    "#,'straight_line',segmentator,,learning_process_name"
   ],
   "outputs": [],
   "metadata": {}
  },
  {
   "cell_type": "code",
   "execution_count": 12,
   "source": [
    "explanations = leftist.explain(np.array(explained_instance),1000)"
   ],
   "outputs": [
    {
     "output_type": "stream",
     "name": "stdout",
     "text": [
      "32/32 [==============================] - 0s 1ms/step\n"
     ]
    }
   ],
   "metadata": {}
  },
  {
   "cell_type": "code",
   "execution_count": 13,
   "source": [
    "explanations"
   ],
   "outputs": [
    {
     "output_type": "execute_result",
     "data": {
      "text/plain": [
       "[array([-6.77181269e-03, -6.77181269e-03, -6.77181269e-03, -6.77181269e-03,\n",
       "        -6.77181269e-03, -6.77181269e-03, -6.77181269e-03, -6.77181269e-03,\n",
       "        -6.77181269e-03, -6.72570052e-03, -6.72570052e-03, -6.72570052e-03,\n",
       "        -6.72570052e-03, -6.72570052e-03, -6.72570052e-03, -6.72570052e-03,\n",
       "        -6.72570052e-03, -6.72570052e-03, -6.67117495e-03, -6.67117495e-03,\n",
       "        -6.67117495e-03, -6.67117495e-03, -6.67117495e-03, -6.67117495e-03,\n",
       "        -6.67117495e-03, -6.67117495e-03, -6.67117495e-03, -5.06443301e-03,\n",
       "        -5.06443301e-03, -5.06443301e-03, -5.06443301e-03, -5.06443301e-03,\n",
       "        -5.06443301e-03, -5.06443301e-03, -5.06443301e-03, -5.06443301e-03,\n",
       "        -1.81997423e-03, -1.81997423e-03, -1.81997423e-03, -1.81997423e-03,\n",
       "        -1.81997423e-03, -1.81997423e-03, -1.81997423e-03, -1.81997423e-03,\n",
       "        -1.81997423e-03, -1.69260334e-04, -1.69260334e-04, -1.69260334e-04,\n",
       "        -1.69260334e-04, -1.69260334e-04, -1.69260334e-04, -1.69260334e-04,\n",
       "        -1.69260334e-04, -1.69260334e-04, -1.17617617e-04, -1.17617617e-04,\n",
       "        -1.17617617e-04, -1.17617617e-04, -1.17617617e-04, -1.17617617e-04,\n",
       "        -1.17617617e-04, -1.17617617e-04, -1.17617617e-04,  5.94506686e-03,\n",
       "         5.94506686e-03,  5.94506686e-03,  5.94506686e-03,  5.94506686e-03,\n",
       "         5.94506686e-03,  5.94506686e-03,  5.94506686e-03,  5.94506686e-03,\n",
       "         3.11398192e-01,  3.11398192e-01,  3.11398192e-01,  3.11398192e-01,\n",
       "         3.11398192e-01,  3.11398192e-01,  3.11398192e-01,  3.11398192e-01,\n",
       "         3.11398192e-01,  7.50025890e-01,  7.50025890e-01,  7.50025890e-01,\n",
       "         7.50025890e-01,  7.50025890e-01,  7.50025890e-01,  7.50025890e-01,\n",
       "         7.50025890e-01,  7.50025890e-01,  0.00000000e+00,  0.00000000e+00,\n",
       "         0.00000000e+00,  0.00000000e+00,  0.00000000e+00,  0.00000000e+00]),\n",
       " array([ 0.00000000e+00, -1.78335987e-32, -1.78335987e-32, -1.78335987e-32,\n",
       "        -1.78335987e-32, -1.78335987e-32, -1.78335987e-32, -1.78335987e-32,\n",
       "        -1.78335987e-32, -1.78335987e-32, -1.57560845e-32, -1.57560845e-32,\n",
       "        -1.57560845e-32, -1.57560845e-32, -1.57560845e-32, -1.57560845e-32,\n",
       "        -1.57560845e-32, -1.57560845e-32, -1.57560845e-32, -8.38495667e-33,\n",
       "        -8.38495667e-33, -8.38495667e-33, -8.38495667e-33, -8.38495667e-33,\n",
       "        -8.38495667e-33, -8.38495667e-33, -8.38495667e-33, -8.38495667e-33,\n",
       "        -5.60223045e-33, -5.60223045e-33, -5.60223045e-33, -5.60223045e-33,\n",
       "        -5.60223045e-33, -5.60223045e-33, -5.60223045e-33, -5.60223045e-33,\n",
       "        -5.60223045e-33, -5.39174048e-33, -5.39174048e-33, -5.39174048e-33,\n",
       "        -5.39174048e-33, -5.39174048e-33, -5.39174048e-33, -5.39174048e-33,\n",
       "        -5.39174048e-33, -5.39174048e-33, -4.77173269e-33, -4.77173269e-33,\n",
       "        -4.77173269e-33, -4.77173269e-33, -4.77173269e-33, -4.77173269e-33,\n",
       "        -4.77173269e-33, -4.77173269e-33, -4.77173269e-33, -3.42485802e-33,\n",
       "        -3.42485802e-33, -3.42485802e-33, -3.42485802e-33, -3.42485802e-33,\n",
       "        -3.42485802e-33, -3.42485802e-33, -3.42485802e-33, -3.42485802e-33,\n",
       "         6.68748549e-34,  6.68748549e-34,  6.68748549e-34,  6.68748549e-34,\n",
       "         6.68748549e-34,  6.68748549e-34,  6.68748549e-34,  6.68748549e-34,\n",
       "         6.68748549e-34,  2.78870965e-31,  2.78870965e-31,  2.78870965e-31,\n",
       "         2.78870965e-31,  2.78870965e-31,  2.78870965e-31,  2.78870965e-31,\n",
       "         2.78870965e-31,  2.78870965e-31,  3.33622326e-31,  3.33622326e-31,\n",
       "         3.33622326e-31,  3.33622326e-31,  3.33622326e-31,  3.33622326e-31,\n",
       "         3.33622326e-31,  3.33622326e-31,  3.33622326e-31,  0.00000000e+00,\n",
       "         0.00000000e+00,  0.00000000e+00,  0.00000000e+00,  0.00000000e+00]),\n",
       " array([ 0.00000000e+00,  0.00000000e+00, -3.97601578e-05, -3.97601578e-05,\n",
       "        -3.97601578e-05, -3.97601578e-05, -3.97601578e-05, -3.97601578e-05,\n",
       "        -3.97601578e-05, -3.97601578e-05, -3.97601578e-05, -2.88963962e-05,\n",
       "        -2.88963962e-05, -2.88963962e-05, -2.88963962e-05, -2.88963962e-05,\n",
       "        -2.88963962e-05, -2.88963962e-05, -2.88963962e-05, -2.88963962e-05,\n",
       "        -2.28492275e-05, -2.28492275e-05, -2.28492275e-05, -2.28492275e-05,\n",
       "        -2.28492275e-05, -2.28492275e-05, -2.28492275e-05, -2.28492275e-05,\n",
       "        -2.28492275e-05, -1.54857849e-05, -1.54857849e-05, -1.54857849e-05,\n",
       "        -1.54857849e-05, -1.54857849e-05, -1.54857849e-05, -1.54857849e-05,\n",
       "        -1.54857849e-05, -1.54857849e-05, -9.41361991e-06, -9.41361991e-06,\n",
       "        -9.41361991e-06, -9.41361991e-06, -9.41361991e-06, -9.41361991e-06,\n",
       "        -9.41361991e-06, -9.41361991e-06, -9.41361991e-06, -8.13331337e-06,\n",
       "        -8.13331337e-06, -8.13331337e-06, -8.13331337e-06, -8.13331337e-06,\n",
       "        -8.13331337e-06, -8.13331337e-06, -8.13331337e-06, -8.13331337e-06,\n",
       "        -7.70196526e-07, -7.70196526e-07, -7.70196526e-07, -7.70196526e-07,\n",
       "        -7.70196526e-07, -7.70196526e-07, -7.70196526e-07, -7.70196526e-07,\n",
       "        -7.70196526e-07,  2.97048465e-06,  2.97048465e-06,  2.97048465e-06,\n",
       "         2.97048465e-06,  2.97048465e-06,  2.97048465e-06,  2.97048465e-06,\n",
       "         2.97048465e-06,  2.97048465e-06,  1.30023451e-03,  1.30023451e-03,\n",
       "         1.30023451e-03,  1.30023451e-03,  1.30023451e-03,  1.30023451e-03,\n",
       "         1.30023451e-03,  1.30023451e-03,  1.30023451e-03,  2.68265334e-03,\n",
       "         2.68265334e-03,  2.68265334e-03,  2.68265334e-03,  2.68265334e-03,\n",
       "         2.68265334e-03,  2.68265334e-03,  2.68265334e-03,  2.68265334e-03,\n",
       "         0.00000000e+00,  0.00000000e+00,  0.00000000e+00,  0.00000000e+00]),\n",
       " array([ 0.        ,  0.        ,  0.        , -0.0020414 , -0.0020414 ,\n",
       "        -0.0020414 , -0.0020414 , -0.0020414 , -0.0020414 , -0.0020414 ,\n",
       "        -0.0020414 , -0.0020414 , -0.00180177, -0.00180177, -0.00180177,\n",
       "        -0.00180177, -0.00180177, -0.00180177, -0.00180177, -0.00180177,\n",
       "        -0.00180177, -0.00164508, -0.00164508, -0.00164508, -0.00164508,\n",
       "        -0.00164508, -0.00164508, -0.00164508, -0.00164508, -0.00164508,\n",
       "        -0.00153415, -0.00153415, -0.00153415, -0.00153415, -0.00153415,\n",
       "        -0.00153415, -0.00153415, -0.00153415, -0.00153415, -0.00097894,\n",
       "        -0.00097894, -0.00097894, -0.00097894, -0.00097894, -0.00097894,\n",
       "        -0.00097894, -0.00097894, -0.00097894, -0.00052664, -0.00052664,\n",
       "        -0.00052664, -0.00052664, -0.00052664, -0.00052664, -0.00052664,\n",
       "        -0.00052664, -0.00052664,  0.00165062,  0.00165062,  0.00165062,\n",
       "         0.00165062,  0.00165062,  0.00165062,  0.00165062,  0.00165062,\n",
       "         0.00165062,  0.00210088,  0.00210088,  0.00210088,  0.00210088,\n",
       "         0.00210088,  0.00210088,  0.00210088,  0.00210088,  0.00210088,\n",
       "         0.07217535,  0.07217535,  0.07217535,  0.07217535,  0.07217535,\n",
       "         0.07217535,  0.07217535,  0.07217535,  0.07217535,  0.08264363,\n",
       "         0.08264363,  0.08264363,  0.08264363,  0.08264363,  0.08264363,\n",
       "         0.08264363,  0.08264363,  0.08264363,  0.        ,  0.        ,\n",
       "         0.        ]),\n",
       " array([ 0.00000000e+00,  0.00000000e+00,  0.00000000e+00,  0.00000000e+00,\n",
       "        -9.32770549e-01, -9.32770549e-01, -9.32770549e-01, -9.32770549e-01,\n",
       "        -9.32770549e-01, -9.32770549e-01, -9.32770549e-01, -9.32770549e-01,\n",
       "        -9.32770549e-01, -3.24608642e-03, -3.24608642e-03, -3.24608642e-03,\n",
       "        -3.24608642e-03, -3.24608642e-03, -3.24608642e-03, -3.24608642e-03,\n",
       "        -3.24608642e-03, -3.24608642e-03,  7.79522452e-05,  7.79522452e-05,\n",
       "         7.79522452e-05,  7.79522452e-05,  7.79522452e-05,  7.79522452e-05,\n",
       "         7.79522452e-05,  7.79522452e-05,  7.79522452e-05,  1.09769998e-04,\n",
       "         1.09769998e-04,  1.09769998e-04,  1.09769998e-04,  1.09769998e-04,\n",
       "         1.09769998e-04,  1.09769998e-04,  1.09769998e-04,  1.09769998e-04,\n",
       "         3.44961836e-04,  3.44961836e-04,  3.44961836e-04,  3.44961836e-04,\n",
       "         3.44961836e-04,  3.44961836e-04,  3.44961836e-04,  3.44961836e-04,\n",
       "         3.44961836e-04,  3.75826559e-04,  3.75826559e-04,  3.75826559e-04,\n",
       "         3.75826559e-04,  3.75826559e-04,  3.75826559e-04,  3.75826559e-04,\n",
       "         3.75826559e-04,  3.75826559e-04,  4.69311186e-04,  4.69311186e-04,\n",
       "         4.69311186e-04,  4.69311186e-04,  4.69311186e-04,  4.69311186e-04,\n",
       "         4.69311186e-04,  4.69311186e-04,  4.69311186e-04,  4.78231340e-04,\n",
       "         4.78231340e-04,  4.78231340e-04,  4.78231340e-04,  4.78231340e-04,\n",
       "         4.78231340e-04,  4.78231340e-04,  4.78231340e-04,  4.78231340e-04,\n",
       "         5.09929182e-04,  5.09929182e-04,  5.09929182e-04,  5.09929182e-04,\n",
       "         5.09929182e-04,  5.09929182e-04,  5.09929182e-04,  5.09929182e-04,\n",
       "         5.09929182e-04,  6.57447990e-04,  6.57447990e-04,  6.57447990e-04,\n",
       "         6.57447990e-04,  6.57447990e-04,  6.57447990e-04,  6.57447990e-04,\n",
       "         6.57447990e-04,  6.57447990e-04,  0.00000000e+00,  0.00000000e+00]),\n",
       " array([ 0.        ,  0.        ,  0.        ,  0.        ,  0.        ,\n",
       "        -0.05982154, -0.05982154, -0.05982154, -0.05982154, -0.05982154,\n",
       "        -0.05982154, -0.05982154, -0.05982154, -0.05982154, -0.00141084,\n",
       "        -0.00141084, -0.00141084, -0.00141084, -0.00141084, -0.00141084,\n",
       "        -0.00141084, -0.00141084, -0.00141084, -0.00046003, -0.00046003,\n",
       "        -0.00046003, -0.00046003, -0.00046003, -0.00046003, -0.00046003,\n",
       "        -0.00046003, -0.00046003,  0.00031752,  0.00031752,  0.00031752,\n",
       "         0.00031752,  0.00031752,  0.00031752,  0.00031752,  0.00031752,\n",
       "         0.00031752,  0.00032782,  0.00032782,  0.00032782,  0.00032782,\n",
       "         0.00032782,  0.00032782,  0.00032782,  0.00032782,  0.00032782,\n",
       "         0.00079172,  0.00079172,  0.00079172,  0.00079172,  0.00079172,\n",
       "         0.00079172,  0.00079172,  0.00079172,  0.00079172,  0.00102773,\n",
       "         0.00102773,  0.00102773,  0.00102773,  0.00102773,  0.00102773,\n",
       "         0.00102773,  0.00102773,  0.00102773,  0.00137652,  0.00137652,\n",
       "         0.00137652,  0.00137652,  0.00137652,  0.00137652,  0.00137652,\n",
       "         0.00137652,  0.00137652,  0.00142371,  0.00142371,  0.00142371,\n",
       "         0.00142371,  0.00142371,  0.00142371,  0.00142371,  0.00142371,\n",
       "         0.00142371,  0.04298015,  0.04298015,  0.04298015,  0.04298015,\n",
       "         0.04298015,  0.04298015,  0.04298015,  0.04298015,  0.04298015,\n",
       "         0.        ]),\n",
       " array([ 0.00000000e+00,  0.00000000e+00,  0.00000000e+00,  0.00000000e+00,\n",
       "         0.00000000e+00,  0.00000000e+00, -6.16932494e-05, -6.16932494e-05,\n",
       "        -6.16932494e-05, -6.16932494e-05, -6.16932494e-05, -6.16932494e-05,\n",
       "        -6.16932494e-05, -6.16932494e-05, -6.16932494e-05, -3.00992331e-06,\n",
       "        -3.00992331e-06, -3.00992331e-06, -3.00992331e-06, -3.00992331e-06,\n",
       "        -3.00992331e-06, -3.00992331e-06, -3.00992331e-06, -3.00992331e-06,\n",
       "        -8.25379483e-07, -8.25379483e-07, -8.25379483e-07, -8.25379483e-07,\n",
       "        -8.25379483e-07, -8.25379483e-07, -8.25379483e-07, -8.25379483e-07,\n",
       "        -8.25379483e-07, -2.67643041e-07, -2.67643041e-07, -2.67643041e-07,\n",
       "        -2.67643041e-07, -2.67643041e-07, -2.67643041e-07, -2.67643041e-07,\n",
       "        -2.67643041e-07, -2.67643041e-07,  1.12045796e-07,  1.12045796e-07,\n",
       "         1.12045796e-07,  1.12045796e-07,  1.12045796e-07,  1.12045796e-07,\n",
       "         1.12045796e-07,  1.12045796e-07,  1.12045796e-07,  6.15610087e-07,\n",
       "         6.15610087e-07,  6.15610087e-07,  6.15610087e-07,  6.15610087e-07,\n",
       "         6.15610087e-07,  6.15610087e-07,  6.15610087e-07,  6.15610087e-07,\n",
       "         1.33268717e-06,  1.33268717e-06,  1.33268717e-06,  1.33268717e-06,\n",
       "         1.33268717e-06,  1.33268717e-06,  1.33268717e-06,  1.33268717e-06,\n",
       "         1.33268717e-06,  1.86515631e-06,  1.86515631e-06,  1.86515631e-06,\n",
       "         1.86515631e-06,  1.86515631e-06,  1.86515631e-06,  1.86515631e-06,\n",
       "         1.86515631e-06,  1.86515631e-06,  1.88657169e-06,  1.88657169e-06,\n",
       "         1.88657169e-06,  1.88657169e-06,  1.88657169e-06,  1.88657169e-06,\n",
       "         1.88657169e-06,  1.88657169e-06,  1.88657169e-06,  3.00604526e-04,\n",
       "         3.00604526e-04,  3.00604526e-04,  3.00604526e-04,  3.00604526e-04,\n",
       "         3.00604526e-04,  3.00604526e-04,  3.00604526e-04,  3.00604526e-04])]"
      ]
     },
     "metadata": {},
     "execution_count": 13
    }
   ],
   "metadata": {}
  },
  {
   "cell_type": "code",
   "execution_count": 14,
   "source": [
    "leftist.plot(np.array([explained_instance]), np.array([explanations[1]]))"
   ],
   "outputs": [
    {
     "output_type": "stream",
     "name": "stdout",
     "text": [
      "time mode\n",
      "(1, 96)\n",
      "(1, 96)\n",
      "-1\n",
      "1\n",
      "0\n"
     ]
    },
    {
     "output_type": "display_data",
     "data": {
      "image/png": "[encoded data removed]",
      "text/plain": [
       "<Figure size 640x480 with 3 Axes>"
      ]
     },
     "metadata": {}
    }
   ],
   "metadata": {}
  }
 ],
 "metadata": {
  "orig_nbformat": 4,
  "language_info": {
   "name": "python",
   "version": "3.7.5",
   "mimetype": "text/x-python",
   "codemirror_mode": {
    "name": "ipython",
    "version": 3
   },
   "pygments_lexer": "ipython3",
   "nbconvert_exporter": "python",
   "file_extension": ".py"
  },
  "kernelspec": {
   "name": "python3",
   "display_name": "Python 3.7.5 64-bit ('TSInterpret-NXJYnQDU': pipenv)"
  },
  "interpreter": {
   "hash": "16db99a3fba429d86cb96b96f3cee6d3141a37b91b1d019974802969710b6701"
  }
 },
 "nbformat": 4,
 "nbformat_minor": 2
}