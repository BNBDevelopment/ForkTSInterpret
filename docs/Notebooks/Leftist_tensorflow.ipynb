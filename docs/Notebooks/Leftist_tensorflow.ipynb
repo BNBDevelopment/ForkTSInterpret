{
 "cells": [
  {
   "cell_type": "code",
   "execution_count": 1,
   "metadata": {},
   "outputs": [],
   "source": [
    "import numpy as np \n",
    "from tslearn.datasets import UCR_UEA_datasets"
   ]
  },
  {
   "cell_type": "markdown",
   "metadata": {},
   "source": [
    "# Parameters"
   ]
  },
  {
   "cell_type": "code",
   "execution_count": 2,
   "metadata": {},
   "outputs": [],
   "source": [
    "dataset='ElectricDevices'"
   ]
  },
  {
   "cell_type": "code",
   "execution_count": 3,
   "metadata": {},
   "outputs": [],
   "source": [
    "train_x,train_y, test_x, test_y=UCR_UEA_datasets().load_dataset(dataset)"
   ]
  },
  {
   "cell_type": "code",
   "execution_count": 4,
   "metadata": {},
   "outputs": [
    {
     "name": "stdout",
     "output_type": "stream",
     "text": [
      "(8926, 96, 1)\n",
      "(7711, 96, 1)\n"
     ]
    }
   ],
   "source": [
    "print(train_x.shape)\n",
    "print(test_x.shape)"
   ]
  },
  {
   "cell_type": "code",
   "execution_count": 5,
   "metadata": {},
   "outputs": [
    {
     "data": {
      "text/plain": [
       "(8926, 96, 1)"
      ]
     },
     "execution_count": 5,
     "metadata": {},
     "output_type": "execute_result"
    }
   ],
   "source": [
    "train_x.shape"
   ]
  },
  {
   "cell_type": "code",
   "execution_count": 6,
   "metadata": {},
   "outputs": [
    {
     "data": {
      "text/plain": [
       "(8926,)"
      ]
     },
     "execution_count": 6,
     "metadata": {},
     "output_type": "execute_result"
    }
   ],
   "source": [
    "train_y.shape"
   ]
  },
  {
   "cell_type": "markdown",
   "metadata": {},
   "source": [
    "# Load Model"
   ]
  },
  {
   "cell_type": "code",
   "execution_count": 7,
   "metadata": {},
   "outputs": [
    {
     "name": "stderr",
     "output_type": "stream",
     "text": [
      "2022-10-27 12:00:06.444278: W tensorflow/stream_executor/platform/default/dso_loader.cc:64] Could not load dynamic library 'libcudart.so.11.0'; dlerror: libcudart.so.11.0: cannot open shared object file: No such file or directory\n",
      "2022-10-27 12:00:06.444302: I tensorflow/stream_executor/cuda/cudart_stub.cc:29] Ignore above cudart dlerror if you do not have a GPU set up on your machine.\n",
      "2022-10-27 12:00:08.399890: W tensorflow/stream_executor/platform/default/dso_loader.cc:64] Could not load dynamic library 'libcuda.so.1'; dlerror: libcuda.so.1: cannot open shared object file: No such file or directory\n",
      "2022-10-27 12:00:08.399925: W tensorflow/stream_executor/cuda/cuda_driver.cc:269] failed call to cuInit: UNKNOWN ERROR (303)\n",
      "2022-10-27 12:00:08.399950: I tensorflow/stream_executor/cuda/cuda_diagnostics.cc:156] kernel driver does not appear to be running on this host (jacqueline-ThinkPad-P53): /proc/driver/nvidia/version does not exist\n",
      "2022-10-27 12:00:08.400165: I tensorflow/core/platform/cpu_feature_guard.cc:193] This TensorFlow binary is optimized with oneAPI Deep Neural Network Library (oneDNN) to use the following CPU instructions in performance-critical operations:  AVX2 FMA\n",
      "To enable them in other operations, rebuild TensorFlow with the appropriate compiler flags.\n"
     ]
    }
   ],
   "source": [
    "\n",
    "import tensorflow as tf \n",
    "model_to_explain = tf.keras.models.load_model(f'../../ClassificationModels/models/{dataset}/cnn/best_model.hdf5')"
   ]
  },
  {
   "cell_type": "markdown",
   "metadata": {},
   "source": [
    "# Explanation Algo"
   ]
  },
  {
   "cell_type": "code",
   "execution_count": 8,
   "metadata": {},
   "outputs": [],
   "source": [
    "explained_instance = train_x[0]\n",
    "nb_interpretable_feature = 10\n",
    "explanation_size = 5\n",
    "nb_neighbors = 1000\n",
    "learning_process_name = 'Lime'\n",
    "transform_name = 'straight_line'"
   ]
  },
  {
   "cell_type": "code",
   "execution_count": 9,
   "metadata": {},
   "outputs": [],
   "source": [
    "from TSInterpret.InterpretabilityModels.leftist.leftist import LEFTIST\n"
   ]
  },
  {
   "cell_type": "code",
   "execution_count": 10,
   "metadata": {},
   "outputs": [],
   "source": [
    "\n",
    "leftist = LEFTIST(model_to_explain,(test_x, test_y),mode='time',backend='TF',transform_name='straight_line',learning_process_name='Lime')\n",
    "#,'straight_line',segmentator,,learning_process_name"
   ]
  },
  {
   "cell_type": "code",
   "execution_count": 11,
   "metadata": {},
   "outputs": [
    {
     "name": "stdout",
     "output_type": "stream",
     "text": [
      "32/32 [==============================] - 0s 3ms/step\n"
     ]
    }
   ],
   "source": [
    "explanations = leftist.explain(np.array(explained_instance),1000)"
   ]
  },
  {
   "cell_type": "code",
   "execution_count": 12,
   "metadata": {},
   "outputs": [
    {
     "data": {
      "text/plain": [
       "[array([-0.0091955 , -0.0091955 , -0.0091955 , -0.0091955 , -0.0091955 ,\n",
       "        -0.0091955 , -0.0091955 , -0.0091955 , -0.0091955 , -0.00288324,\n",
       "        -0.00288324, -0.00288324, -0.00288324, -0.00288324, -0.00288324,\n",
       "        -0.00288324, -0.00288324, -0.00288324, -0.00225188, -0.00225188,\n",
       "        -0.00225188, -0.00225188, -0.00225188, -0.00225188, -0.00225188,\n",
       "        -0.00225188, -0.00225188,  0.00470509,  0.00470509,  0.00470509,\n",
       "         0.00470509,  0.00470509,  0.00470509,  0.00470509,  0.00470509,\n",
       "         0.00470509,  0.00487604,  0.00487604,  0.00487604,  0.00487604,\n",
       "         0.00487604,  0.00487604,  0.00487604,  0.00487604,  0.00487604,\n",
       "         0.00599548,  0.00599548,  0.00599548,  0.00599548,  0.00599548,\n",
       "         0.00599548,  0.00599548,  0.00599548,  0.00599548,  0.00875698,\n",
       "         0.00875698,  0.00875698,  0.00875698,  0.00875698,  0.00875698,\n",
       "         0.00875698,  0.00875698,  0.00875698,  0.01495883,  0.01495883,\n",
       "         0.01495883,  0.01495883,  0.01495883,  0.01495883,  0.01495883,\n",
       "         0.01495883,  0.01495883,  0.29752782,  0.29752782,  0.29752782,\n",
       "         0.29752782,  0.29752782,  0.29752782,  0.29752782,  0.29752782,\n",
       "         0.29752782,  0.73151644,  0.73151644,  0.73151644,  0.73151644,\n",
       "         0.73151644,  0.73151644,  0.73151644,  0.73151644,  0.73151644,\n",
       "         0.        ,  0.        ,  0.        ,  0.        ,  0.        ,\n",
       "         0.        ]),\n",
       " array([ 0.00000000e+00, -1.32042409e-32, -1.32042409e-32, -1.32042409e-32,\n",
       "        -1.32042409e-32, -1.32042409e-32, -1.32042409e-32, -1.32042409e-32,\n",
       "        -1.32042409e-32, -1.32042409e-32, -1.24497233e-32, -1.24497233e-32,\n",
       "        -1.24497233e-32, -1.24497233e-32, -1.24497233e-32, -1.24497233e-32,\n",
       "        -1.24497233e-32, -1.24497233e-32, -1.24497233e-32, -9.48739142e-33,\n",
       "        -9.48739142e-33, -9.48739142e-33, -9.48739142e-33, -9.48739142e-33,\n",
       "        -9.48739142e-33, -9.48739142e-33, -9.48739142e-33, -9.48739142e-33,\n",
       "        -4.01852097e-33, -4.01852097e-33, -4.01852097e-33, -4.01852097e-33,\n",
       "        -4.01852097e-33, -4.01852097e-33, -4.01852097e-33, -4.01852097e-33,\n",
       "        -4.01852097e-33, -3.30586158e-33, -3.30586158e-33, -3.30586158e-33,\n",
       "        -3.30586158e-33, -3.30586158e-33, -3.30586158e-33, -3.30586158e-33,\n",
       "        -3.30586158e-33, -3.30586158e-33,  5.16004299e-33,  5.16004299e-33,\n",
       "         5.16004299e-33,  5.16004299e-33,  5.16004299e-33,  5.16004299e-33,\n",
       "         5.16004299e-33,  5.16004299e-33,  5.16004299e-33,  6.25593335e-33,\n",
       "         6.25593335e-33,  6.25593335e-33,  6.25593335e-33,  6.25593335e-33,\n",
       "         6.25593335e-33,  6.25593335e-33,  6.25593335e-33,  6.25593335e-33,\n",
       "         8.75680556e-33,  8.75680556e-33,  8.75680556e-33,  8.75680556e-33,\n",
       "         8.75680556e-33,  8.75680556e-33,  8.75680556e-33,  8.75680556e-33,\n",
       "         8.75680556e-33,  2.64546238e-31,  2.64546238e-31,  2.64546238e-31,\n",
       "         2.64546238e-31,  2.64546238e-31,  2.64546238e-31,  2.64546238e-31,\n",
       "         2.64546238e-31,  2.64546238e-31,  3.13959282e-31,  3.13959282e-31,\n",
       "         3.13959282e-31,  3.13959282e-31,  3.13959282e-31,  3.13959282e-31,\n",
       "         3.13959282e-31,  3.13959282e-31,  3.13959282e-31,  0.00000000e+00,\n",
       "         0.00000000e+00,  0.00000000e+00,  0.00000000e+00,  0.00000000e+00]),\n",
       " array([ 0.00000000e+00,  0.00000000e+00, -2.61240669e-05, -2.61240669e-05,\n",
       "        -2.61240669e-05, -2.61240669e-05, -2.61240669e-05, -2.61240669e-05,\n",
       "        -2.61240669e-05, -2.61240669e-05, -2.61240669e-05, -2.24885763e-05,\n",
       "        -2.24885763e-05, -2.24885763e-05, -2.24885763e-05, -2.24885763e-05,\n",
       "        -2.24885763e-05, -2.24885763e-05, -2.24885763e-05, -2.24885763e-05,\n",
       "        -1.13853453e-05, -1.13853453e-05, -1.13853453e-05, -1.13853453e-05,\n",
       "        -1.13853453e-05, -1.13853453e-05, -1.13853453e-05, -1.13853453e-05,\n",
       "        -1.13853453e-05,  1.20370073e-06,  1.20370073e-06,  1.20370073e-06,\n",
       "         1.20370073e-06,  1.20370073e-06,  1.20370073e-06,  1.20370073e-06,\n",
       "         1.20370073e-06,  1.20370073e-06,  5.96370522e-06,  5.96370522e-06,\n",
       "         5.96370522e-06,  5.96370522e-06,  5.96370522e-06,  5.96370522e-06,\n",
       "         5.96370522e-06,  5.96370522e-06,  5.96370522e-06,  9.14049871e-06,\n",
       "         9.14049871e-06,  9.14049871e-06,  9.14049871e-06,  9.14049871e-06,\n",
       "         9.14049871e-06,  9.14049871e-06,  9.14049871e-06,  9.14049871e-06,\n",
       "         1.52144049e-05,  1.52144049e-05,  1.52144049e-05,  1.52144049e-05,\n",
       "         1.52144049e-05,  1.52144049e-05,  1.52144049e-05,  1.52144049e-05,\n",
       "         1.52144049e-05,  4.78120941e-05,  4.78120941e-05,  4.78120941e-05,\n",
       "         4.78120941e-05,  4.78120941e-05,  4.78120941e-05,  4.78120941e-05,\n",
       "         4.78120941e-05,  4.78120941e-05,  1.25642552e-03,  1.25642552e-03,\n",
       "         1.25642552e-03,  1.25642552e-03,  1.25642552e-03,  1.25642552e-03,\n",
       "         1.25642552e-03,  1.25642552e-03,  1.25642552e-03,  2.62323789e-03,\n",
       "         2.62323789e-03,  2.62323789e-03,  2.62323789e-03,  2.62323789e-03,\n",
       "         2.62323789e-03,  2.62323789e-03,  2.62323789e-03,  2.62323789e-03,\n",
       "         0.00000000e+00,  0.00000000e+00,  0.00000000e+00,  0.00000000e+00]),\n",
       " array([ 0.        ,  0.        ,  0.        , -0.00183867, -0.00183867,\n",
       "        -0.00183867, -0.00183867, -0.00183867, -0.00183867, -0.00183867,\n",
       "        -0.00183867, -0.00183867, -0.00117472, -0.00117472, -0.00117472,\n",
       "        -0.00117472, -0.00117472, -0.00117472, -0.00117472, -0.00117472,\n",
       "        -0.00117472, -0.00016154, -0.00016154, -0.00016154, -0.00016154,\n",
       "        -0.00016154, -0.00016154, -0.00016154, -0.00016154, -0.00016154,\n",
       "         0.00072426,  0.00072426,  0.00072426,  0.00072426,  0.00072426,\n",
       "         0.00072426,  0.00072426,  0.00072426,  0.00072426,  0.00113203,\n",
       "         0.00113203,  0.00113203,  0.00113203,  0.00113203,  0.00113203,\n",
       "         0.00113203,  0.00113203,  0.00113203,  0.00157   ,  0.00157   ,\n",
       "         0.00157   ,  0.00157   ,  0.00157   ,  0.00157   ,  0.00157   ,\n",
       "         0.00157   ,  0.00157   ,  0.00173047,  0.00173047,  0.00173047,\n",
       "         0.00173047,  0.00173047,  0.00173047,  0.00173047,  0.00173047,\n",
       "         0.00173047,  0.00304413,  0.00304413,  0.00304413,  0.00304413,\n",
       "         0.00304413,  0.00304413,  0.00304413,  0.00304413,  0.00304413,\n",
       "         0.06913658,  0.06913658,  0.06913658,  0.06913658,  0.06913658,\n",
       "         0.06913658,  0.06913658,  0.06913658,  0.06913658,  0.0786537 ,\n",
       "         0.0786537 ,  0.0786537 ,  0.0786537 ,  0.0786537 ,  0.0786537 ,\n",
       "         0.0786537 ,  0.0786537 ,  0.0786537 ,  0.        ,  0.        ,\n",
       "         0.        ]),\n",
       " array([ 0.00000000e+00,  0.00000000e+00,  0.00000000e+00,  0.00000000e+00,\n",
       "        -9.32843038e-01, -9.32843038e-01, -9.32843038e-01, -9.32843038e-01,\n",
       "        -9.32843038e-01, -9.32843038e-01, -9.32843038e-01, -9.32843038e-01,\n",
       "        -9.32843038e-01, -3.90426826e-03, -3.90426826e-03, -3.90426826e-03,\n",
       "        -3.90426826e-03, -3.90426826e-03, -3.90426826e-03, -3.90426826e-03,\n",
       "        -3.90426826e-03, -3.90426826e-03, -3.28509275e-04, -3.28509275e-04,\n",
       "        -3.28509275e-04, -3.28509275e-04, -3.28509275e-04, -3.28509275e-04,\n",
       "        -3.28509275e-04, -3.28509275e-04, -3.28509275e-04, -8.17730143e-05,\n",
       "        -8.17730143e-05, -8.17730143e-05, -8.17730143e-05, -8.17730143e-05,\n",
       "        -8.17730143e-05, -8.17730143e-05, -8.17730143e-05, -8.17730143e-05,\n",
       "        -5.24710186e-05, -5.24710186e-05, -5.24710186e-05, -5.24710186e-05,\n",
       "        -5.24710186e-05, -5.24710186e-05, -5.24710186e-05, -5.24710186e-05,\n",
       "        -5.24710186e-05,  1.72182323e-04,  1.72182323e-04,  1.72182323e-04,\n",
       "         1.72182323e-04,  1.72182323e-04,  1.72182323e-04,  1.72182323e-04,\n",
       "         1.72182323e-04,  1.72182323e-04,  2.03918656e-04,  2.03918656e-04,\n",
       "         2.03918656e-04,  2.03918656e-04,  2.03918656e-04,  2.03918656e-04,\n",
       "         2.03918656e-04,  2.03918656e-04,  2.03918656e-04,  5.75500624e-04,\n",
       "         5.75500624e-04,  5.75500624e-04,  5.75500624e-04,  5.75500624e-04,\n",
       "         5.75500624e-04,  5.75500624e-04,  5.75500624e-04,  5.75500624e-04,\n",
       "         6.54027486e-04,  6.54027486e-04,  6.54027486e-04,  6.54027486e-04,\n",
       "         6.54027486e-04,  6.54027486e-04,  6.54027486e-04,  6.54027486e-04,\n",
       "         6.54027486e-04,  7.81725607e-04,  7.81725607e-04,  7.81725607e-04,\n",
       "         7.81725607e-04,  7.81725607e-04,  7.81725607e-04,  7.81725607e-04,\n",
       "         7.81725607e-04,  7.81725607e-04,  0.00000000e+00,  0.00000000e+00]),\n",
       " array([ 0.        ,  0.        ,  0.        ,  0.        ,  0.        ,\n",
       "        -0.05697864, -0.05697864, -0.05697864, -0.05697864, -0.05697864,\n",
       "        -0.05697864, -0.05697864, -0.05697864, -0.05697864, -0.002545  ,\n",
       "        -0.002545  , -0.002545  , -0.002545  , -0.002545  , -0.002545  ,\n",
       "        -0.002545  , -0.002545  , -0.002545  , -0.00168979, -0.00168979,\n",
       "        -0.00168979, -0.00168979, -0.00168979, -0.00168979, -0.00168979,\n",
       "        -0.00168979, -0.00168979, -0.00137123, -0.00137123, -0.00137123,\n",
       "        -0.00137123, -0.00137123, -0.00137123, -0.00137123, -0.00137123,\n",
       "        -0.00137123, -0.00101587, -0.00101587, -0.00101587, -0.00101587,\n",
       "        -0.00101587, -0.00101587, -0.00101587, -0.00101587, -0.00101587,\n",
       "        -0.00058533, -0.00058533, -0.00058533, -0.00058533, -0.00058533,\n",
       "        -0.00058533, -0.00058533, -0.00058533, -0.00058533,  0.00010748,\n",
       "         0.00010748,  0.00010748,  0.00010748,  0.00010748,  0.00010748,\n",
       "         0.00010748,  0.00010748,  0.00010748,  0.0004193 ,  0.0004193 ,\n",
       "         0.0004193 ,  0.0004193 ,  0.0004193 ,  0.0004193 ,  0.0004193 ,\n",
       "         0.0004193 ,  0.0004193 ,  0.00171622,  0.00171622,  0.00171622,\n",
       "         0.00171622,  0.00171622,  0.00171622,  0.00171622,  0.00171622,\n",
       "         0.00171622,  0.04651634,  0.04651634,  0.04651634,  0.04651634,\n",
       "         0.04651634,  0.04651634,  0.04651634,  0.04651634,  0.04651634,\n",
       "         0.        ]),\n",
       " array([ 0.00000000e+00,  0.00000000e+00,  0.00000000e+00,  0.00000000e+00,\n",
       "         0.00000000e+00,  0.00000000e+00, -5.89163315e-05, -5.89163315e-05,\n",
       "        -5.89163315e-05, -5.89163315e-05, -5.89163315e-05, -5.89163315e-05,\n",
       "        -5.89163315e-05, -5.89163315e-05, -5.89163315e-05, -6.08863881e-06,\n",
       "        -6.08863881e-06, -6.08863881e-06, -6.08863881e-06, -6.08863881e-06,\n",
       "        -6.08863881e-06, -6.08863881e-06, -6.08863881e-06, -6.08863881e-06,\n",
       "        -1.88500714e-06, -1.88500714e-06, -1.88500714e-06, -1.88500714e-06,\n",
       "        -1.88500714e-06, -1.88500714e-06, -1.88500714e-06, -1.88500714e-06,\n",
       "        -1.88500714e-06, -1.79509167e-06, -1.79509167e-06, -1.79509167e-06,\n",
       "        -1.79509167e-06, -1.79509167e-06, -1.79509167e-06, -1.79509167e-06,\n",
       "        -1.79509167e-06, -1.79509167e-06, -1.14034175e-06, -1.14034175e-06,\n",
       "        -1.14034175e-06, -1.14034175e-06, -1.14034175e-06, -1.14034175e-06,\n",
       "        -1.14034175e-06, -1.14034175e-06, -1.14034175e-06, -5.60414565e-07,\n",
       "        -5.60414565e-07, -5.60414565e-07, -5.60414565e-07, -5.60414565e-07,\n",
       "        -5.60414565e-07, -5.60414565e-07, -5.60414565e-07, -5.60414565e-07,\n",
       "         8.82444644e-08,  8.82444644e-08,  8.82444644e-08,  8.82444644e-08,\n",
       "         8.82444644e-08,  8.82444644e-08,  8.82444644e-08,  8.82444644e-08,\n",
       "         8.82444644e-08,  1.57519892e-06,  1.57519892e-06,  1.57519892e-06,\n",
       "         1.57519892e-06,  1.57519892e-06,  1.57519892e-06,  1.57519892e-06,\n",
       "         1.57519892e-06,  1.57519892e-06,  2.86238637e-06,  2.86238637e-06,\n",
       "         2.86238637e-06,  2.86238637e-06,  2.86238637e-06,  2.86238637e-06,\n",
       "         2.86238637e-06,  2.86238637e-06,  2.86238637e-06,  3.04662251e-04,\n",
       "         3.04662251e-04,  3.04662251e-04,  3.04662251e-04,  3.04662251e-04,\n",
       "         3.04662251e-04,  3.04662251e-04,  3.04662251e-04,  3.04662251e-04])]"
      ]
     },
     "execution_count": 12,
     "metadata": {},
     "output_type": "execute_result"
    }
   ],
   "source": [
    "explanations"
   ]
  },
  {
   "cell_type": "code",
   "execution_count": 13,
   "metadata": {},
   "outputs": [
    {
     "name": "stdout",
     "output_type": "stream",
     "text": [
      "time mode\n",
      "(1, 96)\n",
      "(1, 96)\n",
      "-1\n",
      "1\n",
      "0\n"
     ]
    },
    {
     "data": {
      "image/png": "[encoded data removed]",
      "text/plain": [
       "<Figure size 640x480 with 3 Axes>"
      ]
     },
     "metadata": {},
     "output_type": "display_data"
    }
   ],
   "source": [
    "leftist.plot(np.array([explained_instance]), np.array([explanations[1]]))"
   ]
  }
 ],
 "metadata": {
  "kernelspec": {
   "display_name": "Python 3.7.15 ('TSInterpret-NXJYnQDU')",
   "language": "python",
   "name": "python3"
  },
  "language_info": {
   "codemirror_mode": {
    "name": "ipython",
    "version": 3
   },
   "file_extension": ".py",
   "mimetype": "text/x-python",
   "name": "python",
   "nbconvert_exporter": "python",
   "pygments_lexer": "ipython3",
   "version": "3.7.15"
  },
  "orig_nbformat": 4,
  "vscode": {
   "interpreter": {
    "hash": "614e4d51a1288cc02041239d2692cde7cce3e46b1ed3341198798f2e3ef7f081"
   }
  }
 },
 "nbformat": 4,
 "nbformat_minor": 2
}
