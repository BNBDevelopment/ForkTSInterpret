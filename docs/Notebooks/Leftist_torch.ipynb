{
 "cells": [
  {
   "cell_type": "code",
   "execution_count": 1,
   "source": [
    "import pickle\n",
    "import numpy as np \n",
    "import torch \n",
    "from ClassificationModels.CNN_T import ResNetBaseline, UCRDataset\n",
    "from tslearn.datasets import UCR_UEA_datasets"
   ],
   "outputs": [],
   "metadata": {}
  },
  {
   "cell_type": "markdown",
   "source": [
    "# Parameters"
   ],
   "metadata": {}
  },
  {
   "cell_type": "code",
   "execution_count": 2,
   "source": [
    "dataset='ElectricDevices'"
   ],
   "outputs": [],
   "metadata": {}
  },
  {
   "cell_type": "markdown",
   "source": [
    "# Load Data"
   ],
   "metadata": {}
  },
  {
   "cell_type": "code",
   "execution_count": 3,
   "source": [
    "train_x,train_y, test_x, test_y=UCR_UEA_datasets().load_dataset(dataset)\n",
    "train_x = train_x.reshape(-1,1,  train_x.shape[-2])\n",
    "test_x = test_x.reshape(-1,1,  test_x.shape[-2])"
   ],
   "outputs": [],
   "metadata": {}
  },
  {
   "cell_type": "code",
   "execution_count": 4,
   "source": [
    "test_x.shape"
   ],
   "outputs": [
    {
     "output_type": "execute_result",
     "data": {
      "text/plain": [
       "(7711, 1, 96)"
      ]
     },
     "metadata": {},
     "execution_count": 4
    }
   ],
   "metadata": {}
  },
  {
   "cell_type": "code",
   "execution_count": 5,
   "source": [
    "print(test_y.shape)"
   ],
   "outputs": [
    {
     "output_type": "stream",
     "name": "stdout",
     "text": [
      "(7711,)\n"
     ]
    }
   ],
   "metadata": {}
  },
  {
   "cell_type": "code",
   "execution_count": 6,
   "source": [
    "#enc1=sklearn.preprocessing.OneHotEncoder(sparse=False).fit(np.vstack((train_y.reshape(-1,1),test_y.reshape(-1,1))))\n",
    "enc1=pickle.load(open(f'../../ClassificationModels/models/{dataset}/OneHotEncoder.pkl','rb'))\n",
    "\n",
    "train_y=enc1.transform(train_y.reshape(-1,1))\n",
    "test_y=enc1.transform(test_y.reshape(-1,1))\n",
    "    "
   ],
   "outputs": [],
   "metadata": {}
  },
  {
   "cell_type": "markdown",
   "source": [
    "# Model Training"
   ],
   "metadata": {}
  },
  {
   "cell_type": "code",
   "execution_count": 7,
   "source": [
    "n_pred_classes =train_y.shape[1]\n",
    "train_dataset = UCRDataset(train_x.astype(np.float64),train_y.astype(np.int64))\n",
    "test_dataset = UCRDataset(test_x.astype(np.float64),test_y.astype(np.int64))\n",
    "train_loader = torch.utils.data.DataLoader(train_dataset,batch_size=16,shuffle=True)\n",
    "test_loader = torch.utils.data.DataLoader(test_dataset,batch_size=1,shuffle=False)\n",
    "model = ResNetBaseline(in_channels=1, num_pred_classes=n_pred_classes)\n",
    "model.load_state_dict(torch.load(f'../../ClassificationModels/models/{dataset}/ResNet'))\n",
    "model.eval()\n",
    "#fit(model,train_loader,test_loader)\n",
    "#if dataset in os.listdir('./ClassificationModels/models/'):\n",
    "#    print('Folder exists')\n",
    "#else: \n",
    "#    os.mkdir(f'./ClassificationModels/models/{dataset}')\n",
    "#torch.save(model.state_dict(), f'./ClassificationModels/models/{dataset}/ResNet')\n",
    "\n",
    "#test_preds, ground_truth = get_all_preds(model, test_loader)\n",
    "#ground_truth=np.argmax(ground_truth,axis=1)\n",
    "\n",
    "#sns.set(rc={'figure.figsize':(5,4)})\n",
    "#heatmap=confusion_matrix(ground_truth, test_preds)\n",
    "#sns.heatmap(heatmap, annot=True)\n",
    "#plt.savefig(f'./ClassificationModels/models/{dataset}/ResNet_confusion_matrix.png')\n",
    "#plt.close()\n",
    "#acc= accuracy_score(ground_truth, test_preds)\n",
    "#a = classification_report(ground_truth, test_preds, output_dict=True)\n",
    "#dataframe = pd.DataFrame.from_dict(a)\n",
    "#dataframe.to_csv(f'./ClassificationModels/models/{dataset}/classification_report.csv', index = False)"
   ],
   "outputs": [
    {
     "output_type": "execute_result",
     "data": {
      "text/plain": [
       "ResNetBaseline(\n",
       "  (layers): Sequential(\n",
       "    (0): ResNetBlock(\n",
       "      (layers): Sequential(\n",
       "        (0): ConvBlock(\n",
       "          (layers): Sequential(\n",
       "            (0): Conv1dSamePadding(1, 64, kernel_size=(8,), stride=(1,))\n",
       "            (1): BatchNorm1d(64, eps=1e-05, momentum=0.1, affine=True, track_running_stats=True)\n",
       "            (2): ReLU()\n",
       "          )\n",
       "        )\n",
       "        (1): ConvBlock(\n",
       "          (layers): Sequential(\n",
       "            (0): Conv1dSamePadding(64, 64, kernel_size=(5,), stride=(1,))\n",
       "            (1): BatchNorm1d(64, eps=1e-05, momentum=0.1, affine=True, track_running_stats=True)\n",
       "            (2): ReLU()\n",
       "          )\n",
       "        )\n",
       "        (2): ConvBlock(\n",
       "          (layers): Sequential(\n",
       "            (0): Conv1dSamePadding(64, 64, kernel_size=(3,), stride=(1,))\n",
       "            (1): BatchNorm1d(64, eps=1e-05, momentum=0.1, affine=True, track_running_stats=True)\n",
       "            (2): ReLU()\n",
       "          )\n",
       "        )\n",
       "      )\n",
       "      (residual): Sequential(\n",
       "        (0): Conv1dSamePadding(1, 64, kernel_size=(1,), stride=(1,))\n",
       "        (1): BatchNorm1d(64, eps=1e-05, momentum=0.1, affine=True, track_running_stats=True)\n",
       "      )\n",
       "    )\n",
       "    (1): ResNetBlock(\n",
       "      (layers): Sequential(\n",
       "        (0): ConvBlock(\n",
       "          (layers): Sequential(\n",
       "            (0): Conv1dSamePadding(64, 128, kernel_size=(8,), stride=(1,))\n",
       "            (1): BatchNorm1d(128, eps=1e-05, momentum=0.1, affine=True, track_running_stats=True)\n",
       "            (2): ReLU()\n",
       "          )\n",
       "        )\n",
       "        (1): ConvBlock(\n",
       "          (layers): Sequential(\n",
       "            (0): Conv1dSamePadding(128, 128, kernel_size=(5,), stride=(1,))\n",
       "            (1): BatchNorm1d(128, eps=1e-05, momentum=0.1, affine=True, track_running_stats=True)\n",
       "            (2): ReLU()\n",
       "          )\n",
       "        )\n",
       "        (2): ConvBlock(\n",
       "          (layers): Sequential(\n",
       "            (0): Conv1dSamePadding(128, 128, kernel_size=(3,), stride=(1,))\n",
       "            (1): BatchNorm1d(128, eps=1e-05, momentum=0.1, affine=True, track_running_stats=True)\n",
       "            (2): ReLU()\n",
       "          )\n",
       "        )\n",
       "      )\n",
       "      (residual): Sequential(\n",
       "        (0): Conv1dSamePadding(64, 128, kernel_size=(1,), stride=(1,))\n",
       "        (1): BatchNorm1d(128, eps=1e-05, momentum=0.1, affine=True, track_running_stats=True)\n",
       "      )\n",
       "    )\n",
       "    (2): ResNetBlock(\n",
       "      (layers): Sequential(\n",
       "        (0): ConvBlock(\n",
       "          (layers): Sequential(\n",
       "            (0): Conv1dSamePadding(128, 128, kernel_size=(8,), stride=(1,))\n",
       "            (1): BatchNorm1d(128, eps=1e-05, momentum=0.1, affine=True, track_running_stats=True)\n",
       "            (2): ReLU()\n",
       "          )\n",
       "        )\n",
       "        (1): ConvBlock(\n",
       "          (layers): Sequential(\n",
       "            (0): Conv1dSamePadding(128, 128, kernel_size=(5,), stride=(1,))\n",
       "            (1): BatchNorm1d(128, eps=1e-05, momentum=0.1, affine=True, track_running_stats=True)\n",
       "            (2): ReLU()\n",
       "          )\n",
       "        )\n",
       "        (2): ConvBlock(\n",
       "          (layers): Sequential(\n",
       "            (0): Conv1dSamePadding(128, 128, kernel_size=(3,), stride=(1,))\n",
       "            (1): BatchNorm1d(128, eps=1e-05, momentum=0.1, affine=True, track_running_stats=True)\n",
       "            (2): ReLU()\n",
       "          )\n",
       "        )\n",
       "      )\n",
       "    )\n",
       "  )\n",
       "  (final): Linear(in_features=128, out_features=7, bias=True)\n",
       ")"
      ]
     },
     "metadata": {},
     "execution_count": 7
    }
   ],
   "metadata": {}
  },
  {
   "cell_type": "markdown",
   "source": [
    "# Explanation Algo"
   ],
   "metadata": {}
  },
  {
   "cell_type": "code",
   "execution_count": 8,
   "source": [
    "explained_instance = train_x[0]\n",
    "nb_interpretable_feature = 10\n",
    "explanation_size = 5\n",
    "nb_neighbors = 1000\n",
    "learning_process_name = 'Lime'\n",
    "transform_name = 'straight_line'\n",
    "model_to_explain=model"
   ],
   "outputs": [],
   "metadata": {}
  },
  {
   "cell_type": "code",
   "execution_count": 9,
   "source": [
    "from TSInterpret.InterpretabilityModels.leftist.leftist import LEFTIST"
   ],
   "outputs": [
    {
     "output_type": "stream",
     "name": "stderr",
     "text": [
      "2022-07-06 15:14:41.081708: W tensorflow/stream_executor/platform/default/dso_loader.cc:64] Could not load dynamic library 'libcudart.so.11.0'; dlerror: libcudart.so.11.0: cannot open shared object file: No such file or directory\n",
      "2022-07-06 15:14:41.081732: I tensorflow/stream_executor/cuda/cudart_stub.cc:29] Ignore above cudart dlerror if you do not have a GPU set up on your machine.\n"
     ]
    }
   ],
   "metadata": {}
  },
  {
   "cell_type": "code",
   "execution_count": 12,
   "source": [
    "leftist = LEFTIST(model_to_explain,(test_x,None),mode='feat', backend='PYT',learning_process_name='Lime',transform_name='straight_line')"
   ],
   "outputs": [],
   "metadata": {}
  },
  {
   "cell_type": "code",
   "execution_count": 13,
   "source": [
    "explanations = leftist.explain(np.array(explained_instance),1000,explanation_size=explanation_size)\n",
    "#,transform_name='mean'"
   ],
   "outputs": [
    {
     "output_type": "stream",
     "name": "stderr",
     "text": [
      "/media/jacqueline/Data/TSInterpret/TSInterpret/Models/PyTorchModel.py:32: UserWarning: Implicit dimension choice for softmax has been deprecated. Change the call to include dim=X as an argument.\n",
      "  y_pred = torch.nn.functional.softmax(out).detach().numpy()\n"
     ]
    }
   ],
   "metadata": {}
  },
  {
   "cell_type": "code",
   "execution_count": 14,
   "source": [
    "#sns.diverging_palette(250, 30, l=65, center=\"dark\", as_cmap=True)\n",
    "leftist.plot(np.array([explained_instance]),np.array([explanations[1]]))"
   ],
   "outputs": [
    {
     "output_type": "stream",
     "name": "stdout",
     "text": [
      "feat\n",
      "NOT Time mode\n",
      "-1\n",
      "1\n",
      "0\n"
     ]
    },
    {
     "output_type": "display_data",
     "data": {
      "image/png": "[encoded data removed]",
      "text/plain": [
       "<Figure size 640x480 with 3 Axes>"
      ]
     },
     "metadata": {}
    }
   ],
   "metadata": {}
  }
 ],
 "metadata": {
  "orig_nbformat": 4,
  "language_info": {
   "name": "python",
   "version": "3.7.5",
   "mimetype": "text/x-python",
   "codemirror_mode": {
    "name": "ipython",
    "version": 3
   },
   "pygments_lexer": "ipython3",
   "nbconvert_exporter": "python",
   "file_extension": ".py"
  },
  "kernelspec": {
   "name": "python3",
   "display_name": "Python 3.7.5 64-bit ('TSInterpret-NXJYnQDU': pipenv)"
  },
  "interpreter": {
   "hash": "16db99a3fba429d86cb96b96f3cee6d3141a37b91b1d019974802969710b6701"
  }
 },
 "nbformat": 4,
 "nbformat_minor": 2
}