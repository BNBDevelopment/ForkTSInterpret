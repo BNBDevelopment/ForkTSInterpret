{
 "cells": [
  {
   "attachments": {},
   "cell_type": "markdown",
   "metadata": {},
   "source": [
    "# LEFTIST \n",
    "Agnostic Local Explanation for Time Series Classification (LEFTIST) by Guilleme et al. (2019) [1] adapted LIME for time series classification and proposed to use prefixed (both the length and the position) shapelets as the interpretable components and provide the feature importance of each shapelet.\n",
    "\n",
    "<img src=\"https://fzi-forschungszentrum-informatik.github.io/TSInterpret/Notebooks/LEFTIST_sun.png\" alt=\"Visualization of Leftist\" style=\"width: 800px;\"/>\n",
    "\n",
    "The code in TSInterpret is based on the authors <a href='https://www.dropbox.com/s/y1xq5bhpf0irg2h/code_LEFTIST.zip?dl=0'>implementation </a>. The image is reproduced from [1].\n",
    "\n",
    "[1] Guillemé, Maël, et al. \"Agnostic local explanation for time series classification.\" 2019 IEEE 31st International Conference on Tools with Artificial Intelligence (ICTAI). IEEE, 2019."
   ]
  },
  {
   "cell_type": "code",
   "execution_count": 1,
   "metadata": {},
   "outputs": [],
   "source": [
    "import os\n",
    "os.environ['TF_CPP_MIN_LOG_LEVEL'] = '3' \n",
    "import pickle\n",
    "import numpy as np \n",
    "import torch \n",
    "from ClassificationModels.CNN_T import ResNetBaseline, UCRDataset\n",
    "from tslearn.datasets import UCR_UEA_datasets\n",
    "import sklearn"
   ]
  },
  {
   "attachments": {},
   "cell_type": "markdown",
   "metadata": {},
   "source": [
    "# Dataset"
   ]
  },
  {
   "cell_type": "code",
   "execution_count": 2,
   "metadata": {},
   "outputs": [],
   "source": [
    "dataset='ElectricDevices'"
   ]
  },
  {
   "attachments": {},
   "cell_type": "markdown",
   "metadata": {},
   "source": [
    "# Load Data\n",
    "Load Data and reshape the data to fit a 1D-Conv ResNet. Note that the input for a 1D-Conv Resnet hat the shape (batch, features, timesteps)."
   ]
  },
  {
   "cell_type": "code",
   "execution_count": 3,
   "metadata": {},
   "outputs": [],
   "source": [
    "train_x,train_y, test_x, test_y=UCR_UEA_datasets().load_dataset(dataset)\n",
    "train_x = train_x.reshape(-1,1,  train_x.shape[-2])\n",
    "test_x = test_x.reshape(-1,1,  test_x.shape[-2])"
   ]
  },
  {
   "cell_type": "code",
   "execution_count": 4,
   "metadata": {},
   "outputs": [
    {
     "name": "stderr",
     "output_type": "stream",
     "text": [
      "/home/jacqueline/.local/share/virtualenvs/TSInterpret-NXJYnQDU/lib/python3.10/site-packages/sklearn/preprocessing/_encoders.py:972: FutureWarning: `sparse` was renamed to `sparse_output` in version 1.2 and will be removed in 1.4. `sparse_output` is ignored unless you leave `sparse` to its default value.\n",
      "  warnings.warn(\n"
     ]
    }
   ],
   "source": [
    "enc1=sklearn.preprocessing.OneHotEncoder(sparse=False).fit(np.vstack((train_y.reshape(-1,1),test_y.reshape(-1,1))))\n",
    "pickle.dump(enc1,open(f'../../ClassificationModels/models/{dataset}/OneHotEncoder.pkl','wb'))\n",
    "\n",
    "train_y=enc1.transform(train_y.reshape(-1,1))\n",
    "test_y=enc1.transform(test_y.reshape(-1,1))    "
   ]
  },
  {
   "attachments": {},
   "cell_type": "markdown",
   "metadata": {},
   "source": [
    "# Model Training\n",
    "Loads a pretrained 1D-Conv ResNet."
   ]
  },
  {
   "cell_type": "code",
   "execution_count": 5,
   "metadata": {},
   "outputs": [
    {
     "data": {
      "text/plain": [
       "<All keys matched successfully>"
      ]
     },
     "execution_count": 5,
     "metadata": {},
     "output_type": "execute_result"
    }
   ],
   "source": [
    "n_pred_classes =train_y.shape[1]\n",
    "train_dataset = UCRDataset(train_x.astype(np.float64),train_y.astype(np.int64))\n",
    "test_dataset = UCRDataset(test_x.astype(np.float64),test_y.astype(np.int64))\n",
    "train_loader = torch.utils.data.DataLoader(train_dataset,batch_size=16,shuffle=True)\n",
    "test_loader = torch.utils.data.DataLoader(test_dataset,batch_size=1,shuffle=False)\n",
    "model = ResNetBaseline(in_channels=1, num_pred_classes=n_pred_classes)\n",
    "model.load_state_dict(torch.load(f'../../ClassificationModels/models/{dataset}/ResNet'))"
   ]
  },
  {
   "attachments": {},
   "cell_type": "markdown",
   "metadata": {},
   "source": [
    "# Interpretability Algorithm\n",
    "\n",
    "Using a interpretability algorithm consists of 4 steps:\n",
    "\n",
    "    1. Load the Interpretability Method\n",
    "    2. Instaniate the Method with the desired Parameters\n",
    "    3. Call the explain Method\n",
    "    4. Plot the results\n",
    "\n",
    "## 2. Initialization\n",
    "\n",
    "LEFTIST works on all type of black-box classificators and can therefore be used with PyTorch (PYT), TensorFlow (TF), Sklearn (SK) and predict function, as long as the predict function returns a probability distribution. The Initialization takes the following arguments:\n",
    "\n",
    "    \n",
    "- `model_to_explain`: The model to be explaines. \n",
    "- `data`: Reference Set of type (X_train, y_train).\n",
    "- `mode`: Second dimension 'time' or 'feat'.\n",
    "- `backend`: TF, PYT, SK or func.\n",
    "- `transform_name`: Name of transformer.\n",
    "\n",
    "        * `uniform`: Mean Transform \n",
    "        * `straight_line`: StraightlineTransform\n",
    "        * `background`: RandBackgroundTransform\n",
    "\n",
    "\n",
    "        \n",
    "- `learning_process_name`: 'Lime' or 'Shap'.\n",
    "- `nb_interpretable_feature`: number of desired features.\n",
    "\n",
    "\n"
   ]
  },
  {
   "cell_type": "code",
   "execution_count": 6,
   "metadata": {},
   "outputs": [],
   "source": [
    "model.eval()\n",
    "explained_instance = train_x[0]\n",
    "label=train_y[0]\n",
    "nb_interpretable_feature = 10\n",
    "explanation_size = 1\n",
    "nb_neighbors = 1000\n",
    "learning_process_name = 'Lime'\n",
    "transform_name = 'background'\n",
    "model_to_explain=model"
   ]
  },
  {
   "cell_type": "code",
   "execution_count": 7,
   "metadata": {},
   "outputs": [
    {
     "name": "stderr",
     "output_type": "stream",
     "text": [
      "/home/jacqueline/.local/share/virtualenvs/TSInterpret-NXJYnQDU/lib/python3.10/site-packages/tqdm/auto.py:21: TqdmWarning: IProgress not found. Please update jupyter and ipywidgets. See https://ipywidgets.readthedocs.io/en/stable/user_install.html\n",
      "  from .autonotebook import tqdm as notebook_tqdm\n"
     ]
    }
   ],
   "source": [
    "from TSInterpret.InterpretabilityModels.leftist.leftist import LEFTIST"
   ]
  },
  {
   "cell_type": "code",
   "execution_count": 8,
   "metadata": {},
   "outputs": [],
   "source": [
    "leftist = LEFTIST(model_to_explain,(test_x,test_y),mode='feat', backend='PYT', \\\n",
    "learning_process_name='Lime',transform_name=transform_name, explanation_size=explanation_size,nb_neighbors=1000)"
   ]
  },
  {
   "cell_type": "code",
   "execution_count": 9,
   "metadata": {},
   "outputs": [],
   "source": [
    "label=np.argmax(label)"
   ]
  },
  {
   "attachments": {},
   "cell_type": "markdown",
   "metadata": {},
   "source": [
    "\n",
    "## 3. Call the explain method.\n",
    "\n",
    "Prepare the instance and the predicted label of the instance as parameters for the explain methods.\n",
    "- `model_to_explain`: The model to be explaines. \n",
    "- `nb_neighbors`: Number if neighbors used in the calculatuions.\n",
    "- `idx_label`: index of label to explain. If None, return an explanation for each label.\n",
    "- `explanation_size`: Size of desired explanation.\n",
    "\n",
    "\n"
   ]
  },
  {
   "cell_type": "code",
   "execution_count": 10,
   "metadata": {},
   "outputs": [
    {
     "name": "stdout",
     "output_type": "stream",
     "text": [
      "0\n",
      "Final\n",
      "[(array([0.        , 0.        , 0.        , 0.        , 0.        ,\n",
      "       0.        , 0.        , 0.        , 0.        , 0.28284528]), 0.021403677421472422, 0.14268210285561234, array([0.30424895]))]\n",
      "[[-0.18610903]\n",
      " [-0.18610903]\n",
      " [-0.18610903]\n",
      " [-0.18610903]\n",
      " [-0.18610903]\n",
      " [-0.18610903]\n",
      " [-0.18610903]\n",
      " [-0.18610903]\n",
      " [-0.18610903]\n",
      " [-0.18610903]\n",
      " [-0.18610903]\n",
      " [-0.18610903]\n",
      " [-0.18610903]\n",
      " [-0.18610903]\n",
      " [-0.18610903]\n",
      " [-0.18610903]\n",
      " [-0.18610903]\n",
      " [-0.18610903]\n",
      " [-0.18610903]\n",
      " [-0.18610903]\n",
      " [-0.18610903]\n",
      " [-0.18610903]\n",
      " [-0.18610903]\n",
      " [-0.18610903]\n",
      " [-0.18610903]\n",
      " [-0.18610903]\n",
      " [-0.18610903]\n",
      " [-0.18610903]\n",
      " [-0.18610903]\n",
      " [-0.18610903]\n",
      " [-0.18610903]\n",
      " [-0.18610903]\n",
      " [-0.18610903]\n",
      " [-0.18610903]\n",
      " [-0.18610903]\n",
      " [-0.18610903]\n",
      " [-0.18610903]\n",
      " [-0.18610903]\n",
      " [-0.18610903]\n",
      " [-0.18610903]\n",
      " [-0.18610903]\n",
      " [-0.18610903]\n",
      " [-0.18610903]\n",
      " [-0.18610903]\n",
      " [-0.18610903]\n",
      " [-0.18610903]\n",
      " [-0.18610903]\n",
      " [-0.18610903]\n",
      " [-0.18610903]\n",
      " [-0.18610903]\n",
      " [-0.18610903]\n",
      " [-0.18610903]\n",
      " [-0.18610903]\n",
      " [-0.18610903]\n",
      " [-0.18610903]\n",
      " [-0.18610903]\n",
      " [-0.18610903]\n",
      " [-0.18610903]\n",
      " [-0.18610903]\n",
      " [-0.18610903]\n",
      " [-0.18610903]\n",
      " [-0.18610903]\n",
      " [-0.18610903]\n",
      " [-0.18610903]\n",
      " [-0.18610903]\n",
      " [-0.18610903]\n",
      " [-0.18610903]\n",
      " [-0.18610903]\n",
      " [-0.18610903]\n",
      " [-0.18610903]\n",
      " [-0.18610903]\n",
      " [-0.18610903]\n",
      " [-0.18610903]\n",
      " [-0.18610903]\n",
      " [-0.18610903]\n",
      " [-0.18610903]\n",
      " [-0.18610903]\n",
      " [-0.18610903]\n",
      " [-0.18610903]\n",
      " [-0.18610903]\n",
      " [-0.12199491]\n",
      " [ 0.17720429]\n",
      " [ 6.887815  ]\n",
      " [ 0.19857566]\n",
      " [ 0.19857566]\n",
      " [ 0.13446155]\n",
      " [ 5.9902174 ]\n",
      " [ 2.9127399 ]\n",
      " [-0.18610903]\n",
      " [-0.18610903]\n",
      " [-0.18610903]\n",
      " [-0.18610903]\n",
      " [-0.18610903]\n",
      " [-0.18610903]\n",
      " [-0.18610903]\n",
      " [-0.18610903]]\n",
      "10\n"
     ]
    }
   ],
   "source": [
    "explanations = leftist.explain(np.array(explained_instance),label)"
   ]
  },
  {
   "cell_type": "code",
   "execution_count": 11,
   "metadata": {},
   "outputs": [
    {
     "data": {
      "text/plain": [
       "1"
      ]
     },
     "execution_count": 11,
     "metadata": {},
     "output_type": "execute_result"
    }
   ],
   "source": [
    "len(explanations)"
   ]
  },
  {
   "attachments": {},
   "cell_type": "markdown",
   "metadata": {},
   "source": [
    "## 4. Visualize\n",
    "\n",
    "Visualize the explanation by calling .plot().\n",
    "Parameters are the original instance to be explained and the explanation. \n"
   ]
  },
  {
   "cell_type": "code",
   "execution_count": 12,
   "metadata": {},
   "outputs": [
    {
     "name": "stdout",
     "output_type": "stream",
     "text": [
      "feat\n",
      "NOT Time mode\n",
      "-1\n",
      "1\n",
      "0\n"
     ]
    },
    {
     "data": {
      "image/png": "[encoded data removed]",
      "text/plain": [
       "<Figure size 512x384 with 3 Axes>"
      ]
     },
     "metadata": {},
     "output_type": "display_data"
    }
   ],
   "source": [
    "leftist.plot(np.array([explained_instance]),np.array([explanations[0]]))"
   ]
  },
  {
   "attachments": {},
   "cell_type": "markdown",
   "metadata": {},
   "source": [
    "Additional Examples, e.g. for the use with LSTM or TF can be found <a href='https://github.com/JHoelli/TSInterpret/blob/main/docs/Notebooks'>here</a>."
   ]
  }
 ],
 "metadata": {
  "kernelspec": {
   "display_name": "Python 3.7.15 ('TSInterpret-NXJYnQDU')",
   "language": "python",
   "name": "python3"
  },
  "language_info": {
   "codemirror_mode": {
    "name": "ipython",
    "version": 3
   },
   "file_extension": ".py",
   "mimetype": "text/x-python",
   "name": "python",
   "nbconvert_exporter": "python",
   "pygments_lexer": "ipython3",
   "version": "3.10.12"
  },
  "orig_nbformat": 4,
  "vscode": {
   "interpreter": {
    "hash": "614e4d51a1288cc02041239d2692cde7cce3e46b1ed3341198798f2e3ef7f081"
   }
  }
 },
 "nbformat": 4,
 "nbformat_minor": 2
}
