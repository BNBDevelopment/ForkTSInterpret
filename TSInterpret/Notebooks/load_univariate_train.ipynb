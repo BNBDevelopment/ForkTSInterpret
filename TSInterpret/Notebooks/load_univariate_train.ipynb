{
 "cells": [
  {
   "cell_type": "code",
   "execution_count": 11,
   "source": [
    "''' Load Data  '''\n",
    "from data.load_data import load_basic_dataset\n",
    "import numpy as np \n",
    "from ClassificationModels.SVM import timeseriessvc\n",
    "import pickle\n",
    "import InterpretabilityModels.leftist.experiments.utils_experiments as utils\n",
    "from sklearn.preprocessing import LabelEncoder\n",
    "\n",
    "name = 'GunPoint'\n",
    "window = 150\n",
    "x_train, x_test, y_train, y_test=load_basic_dataset(name,window, scaling='None')\n",
    "    \n",
    "x_train = np.array(x_train)\n",
    "y_train = np.array(y_train)\n",
    "x_test = np.array(x_test)\n",
    "y_test = np.array(y_test)"
   ],
   "outputs": [],
   "metadata": {}
  },
  {
   "cell_type": "code",
   "execution_count": 3,
   "source": [
    "'''Use Data to Train'''\n",
    "model = timeseriessvc(x_train,y_train)\n",
    "pickle.dump(model, open(f'./ClassificationModels/models/{name}/SVM.sav', 'wb'))"
   ],
   "outputs": [],
   "metadata": {}
  },
  {
   "cell_type": "code",
   "execution_count": 13,
   "source": [
    "'''Used for leftisti Models'''\n",
    "random_state = 0\n",
    "train_set, background_set, test_set, generation_set = utils.build_train_background_validation_set(random_state, x_train, y_train, x_test, y_test)\n",
    "label_encoder = LabelEncoder()\n",
    "label_encoder.fit(list(set(train_set[1])))\n",
    "train_set = [train_set[0],label_encoder.transform(train_set[1])]\n",
    "model = timeseriessvc(x_train,y_train)\n",
    "print('Begin Dump')\n",
    "pickle.dump(model, open(f'./ClassificationModels/models/{name}/SVM.sav', 'wb'))\n",
    "print('Finish Dump')"
   ],
   "outputs": [
    {
     "output_type": "stream",
     "name": "stdout",
     "text": [
      "train class distribution :  Counter({1: 84, 0: 76})\n",
      "new_train :  Counter({1: 63, 0: 57})\n",
      "background :  Counter({1: 21, 0: 19})\n",
      "index new train :  [39, 94, 102, 1, 123, 16, 121, 151, 156, 112, 65, 149, 72, 64, 147, 158, 41, 67, 148, 110, 25, 35, 79, 137, 63, 61, 70, 117, 129, 74, 54, 108, 146, 139, 122, 7, 141, 103, 85, 75, 91, 157, 115, 18, 76, 23, 153, 52, 21, 4, 17, 40, 119, 15, 57, 59, 98, 45, 43, 0, 132, 138, 3, 92, 120, 96, 13, 30, 62, 31, 83, 159, 101, 106, 131, 125, 66, 73, 42, 33, 130, 95, 47, 133, 14, 113, 90, 9, 2, 100, 135, 27, 80, 154, 56, 12, 109, 114, 28, 143, 55, 24, 84, 34, 51, 128, 145, 58, 118, 68, 11, 155, 48, 36, 134, 6, 8, 111, 124, 71]\n",
      "index background :  [78, 126, 144, 10, 26, 136, 37, 150, 142, 50, 140, 38, 88, 29, 89, 53, 20, 99, 32, 46, 5, 152, 127, 22, 60, 87, 97, 86, 49, 107, 93, 77, 81, 69, 105, 19, 44, 104, 82, 116]\n",
      "train is complete :  True\n",
      "test class distribution :  Counter({0: 24, 1: 16})\n",
      "new_test :  Counter({0: 18, 1: 12})\n",
      "generation :  Counter({0: 6, 1: 4})\n",
      "index new test :  [32, 5, 26, 33, 10, 6, 37, 20, 9, 19, 24, 17, 2, 1, 31, 12, 21, 38, 25, 22, 8, 29, 11, 14, 15, 39, 7, 4, 36, 13]\n",
      "index generation :  [30, 18, 23, 0, 16, 35, 27, 34, 28, 3]\n",
      "test is complete :  True\n",
      "Begin Dump\n",
      "Finish Dump\n"
     ]
    }
   ],
   "metadata": {}
  }
 ],
 "metadata": {
  "orig_nbformat": 4,
  "language_info": {
   "name": "python",
   "version": "3.7.5",
   "mimetype": "text/x-python",
   "codemirror_mode": {
    "name": "ipython",
    "version": 3
   },
   "pygments_lexer": "ipython3",
   "nbconvert_exporter": "python",
   "file_extension": ".py"
  },
  "kernelspec": {
   "name": "python3",
   "display_name": "Python 3.7.5 64-bit ('InterpretabiltyTimeSeries-y2AnfPaS': pipenv)"
  },
  "interpreter": {
   "hash": "e00113cbaa5373cd8152bdb4d99638c8137ef1c7e8ee1ddca3f93a3ba9fcdfcf"
  }
 },
 "nbformat": 4,
 "nbformat_minor": 2
}